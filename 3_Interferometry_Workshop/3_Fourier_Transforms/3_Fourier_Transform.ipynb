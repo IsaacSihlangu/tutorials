{
 "metadata": {
  "name": "",
  "signature": "sha256:8e5376181c98ef949d0fed763320013e1337c6036752a205eb80e5ce9c0d4525"
 },
 "nbformat": 3,
 "nbformat_minor": 0,
 "worksheets": [
  {
   "cells": [
    {
     "cell_type": "markdown",
     "metadata": {},
     "source": [
      "#3. The Fourier Transform#"
     ]
    },
    {
     "cell_type": "markdown",
     "metadata": {},
     "source": [
      "Lets do some Fourier transforms!\n",
      "\n",
      "First import the necessary modules:"
     ]
    },
    {
     "cell_type": "code",
     "collapsed": true,
     "input": [
      "import numpy as np\n",
      "import matplotlib.pylab as plt\n",
      "%matplotlib inline"
     ],
     "language": "python",
     "metadata": {},
     "outputs": []
    },
    {
     "cell_type": "markdown",
     "metadata": {},
     "source": [
      "Lets create a function which we will fourier transform:\n",
      "<br /> \n",
      "For now lets add together two cos functions with different periods and amplitudes:\n",
      "<br>\n",
      "$x(n) = 1 \\times \\cos(2 \\pi n /100) + 0.5 \\times \\cos(2 \\pi n /50)$\n",
      "\n",
      "<span style=\"color:red\">TUTORIAL:</span> After running this notebook, try creating and Fourier transforming the function \n",
      "$x(n) = 3 \\times \\sin(2 \\pi n /150) + 2 \\times \\sin(2 \\pi n /20)$"
     ]
    },
    {
     "cell_type": "code",
     "collapsed": false,
     "input": [
      "# create an array of x-axis values, from 0 to 1000, with step size of 1\n",
      "delta_n = 1.0\n",
      "n_array = np.arange(0,1000.,delta_n)\n",
      "\n",
      "# create two cos functions with specified periods and amplitudes\n",
      "P1 = 100.\n",
      "A1 = 1.0\n",
      "fn1 = A1*np.cos(2.*np.pi*n_array/P1) \n",
      "\n",
      "P2 = 50.\n",
      "A2 = 0.5\n",
      "fn2 = A2*np.cos(2.*np.pi*n_array/P2)\n",
      "\n",
      "# add the functions to form our array x to Fourier transform\n",
      "x_array = fn1 + fn2\n",
      "\n",
      "# print the periods and frequencies of the two components of our x array\n",
      "print 'Periods:     ', P1, '  ', P2\n",
      "print 'Frequencies: ', 1./P1, '   ', 1./P2"
     ],
     "language": "python",
     "metadata": {},
     "outputs": []
    },
    {
     "cell_type": "code",
     "collapsed": false,
     "input": [
      "# plot our x array\n",
      "plt.plot(n_array,x_array)\n",
      "plt.xlabel('time')\n",
      "plt.ylabel('f(t)')\n",
      "plt.show() "
     ],
     "language": "python",
     "metadata": {},
     "outputs": []
    },
    {
     "cell_type": "markdown",
     "metadata": {},
     "source": [
      "## Discrete Fourier Transform (DFT) \n",
      "\n",
      "Now we want to take the Fourier transform of our x array.\n",
      "\n",
      "Lets remind ourselves of the definition of the Discrete Fourier Transform:\n",
      "\n",
      "$$X(k) = \\sum_{n=0}^{N-1} x(n) e^{-i 2 \\pi n \\frac{k}{N} }$$\n",
      "\n",
      "where:\n",
      "\n",
      "* $x(n)$ is the $n$th sample for the time-domain function (the DFT input).\n",
      "* $N$ is the total number of samples.\n",
      "* $X(k)$ is the output of the DFT for values of $k$ ranging from $-(N/2-1)$ to $N/2$.\n",
      "* The integer values k correspond to frequencies $k/N$."
     ]
    },
    {
     "cell_type": "code",
     "collapsed": true,
     "input": [
      "N = len(n_array)\n",
      "k_array = np.arange(-(N/2.0-1.0),N/2.0,1.0)\n",
      "\n",
      "X = np.zeros(len(k_array), dtype=np.complex)\n",
      "\n",
      "# iterate over the fourier-space variable k\n",
      "for k_indx,k in enumerate(k_array):\n",
      "    # iterate over the original-space variable n\n",
      "    for n_indx,n in enumerate(n_array):\n",
      "        arg = x_array[n_indx]*np.exp(-1.j*2.0*np.pi*k*n/N)\n",
      "        X[k_indx] = X[k_indx] + arg"
     ],
     "language": "python",
     "metadata": {},
     "outputs": []
    },
    {
     "cell_type": "code",
     "collapsed": false,
     "input": [
      "# create plot\n",
      "f, ax = plt.subplots(1,2,figsize=[13,3])\n",
      "\n",
      "ax[0].plot(k_array/N,X.real,'o-')\n",
      "ax[0].set_xlabel('Frequency')\n",
      "ax[0].set_ylabel('Real')\n",
      "\n",
      "ax[1].plot(k_array/N,X.imag,'o-')\n",
      "ax[1].set_xlabel('Frequency')\n",
      "ax[1].set_ylabel('Imag')"
     ],
     "language": "python",
     "metadata": {},
     "outputs": []
    },
    {
     "cell_type": "markdown",
     "metadata": {},
     "source": [
      "Lets take a closer look at the real plot on the left:"
     ]
    },
    {
     "cell_type": "code",
     "collapsed": false,
     "input": [
      "plt.stem(k_array/N,X.real)\n",
      "plt.xlabel('Frequency')\n",
      "plt.ylabel('Amplitude')\n",
      "plt.xlim(0,0.05)\n",
      "plt.ylim(-10,510)"
     ],
     "language": "python",
     "metadata": {},
     "outputs": []
    },
    {
     "cell_type": "markdown",
     "metadata": {},
     "source": [
      "So we are seeing the Fourier Transform components of the two cos functions comprising our signal, at the frequencies we set them to: f1 and f2."
     ]
    },
    {
     "cell_type": "markdown",
     "metadata": {},
     "source": [
      "###Version information###"
     ]
    },
    {
     "cell_type": "code",
     "collapsed": false,
     "input": [
      "import os\n",
      "import sys\n",
      "import IPython\n",
      "import matplotlib\n",
      "\n",
      "print 'Version information'\n",
      "print '==================='\n",
      "print 'OS:          ', os.name, sys.platform\n",
      "print 'Python:      ', sys.version.split()[0]\n",
      "print 'IPython:     ', IPython.__version__\n",
      "print 'Numpy:       ', np.__version__\n",
      "print 'matplotlib:  ', matplotlib.__version__"
     ],
     "language": "python",
     "metadata": {},
     "outputs": []
    }
   ],
   "metadata": {}
  }
 ]
}