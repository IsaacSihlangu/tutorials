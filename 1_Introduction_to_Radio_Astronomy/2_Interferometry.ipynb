{
 "cells": [
  {
   "cell_type": "code",
   "execution_count": null,
   "metadata": {
    "collapsed": true
   },
   "outputs": [],
   "source": [
    "%pylab inline"
   ]
  },
  {
   "cell_type": "markdown",
   "metadata": {},
   "source": [
    "This tutorial will introduce you to basic interferometric data capture from KAT-4 and show you how to use\n",
    "built-in python tools to explore and manipulate the data.\n"
   ]
  },
  {
   "cell_type": "markdown",
   "metadata": {},
   "source": [
    "## A data perspective on interferometers"
   ]
  },
  {
   "cell_type": "markdown",
   "metadata": {},
   "source": [
    "You should already have some familiarity with signal dish radio telescopes and the type of data they produce. An interferometer is a collection\n",
    "of single dish radio telescopes whose output voltage data are cross-correlated to form a number of baselines.\n",
    "\n",
    "If we exclude redundant pairs it is easy to see that we will produce (N\\*N-1)/2 baselines from N antennas. We can also correlate the signal from a single antenna with itself, producing an auto-correlation. Including auto-correlations gives us a total of (N\\*N+1)/2 baselines in our data.\n",
    "\n",
    "These baseline pairs are produced by a device known as the correlator. In addition to performing correlation, the correlator also channelises and averages the data. Further, each antenna has two polarisations producing four possible polarisation products for each baseline.\n",
    "\n",
    "The upshot of all this is that the output data from the correlator consists of a number of baselines, split into a number of channels, each with 4 polarisations. A block of this data is emitted by the correlator each integration period (typically once per second).\n",
    "\n",
    "The diagram below shows the data structure for the KAT-4 correlator:\n",
    "\n",
    "<img src='files/images/dbe_format.png' />"
   ]
  },
  {
   "cell_type": "markdown",
   "metadata": {},
   "source": [
    "## The data on disk"
   ]
  },
  {
   "cell_type": "markdown",
   "metadata": {},
   "source": [
    "For KAT-4 we store the data from the correlator in a standard format known as HDF5. The format is a specifier of how the data is physically stored onto a computer hard disk and how we should access the data. By using a standard format, instead of simply writing the data directly to disk (effectively using our own custom format), we can make use of externally developed tools to access and view the data.\n",
    "\n",
    "In particular, HDF5 has good Python bindings allowing us to easily import data into a Python session."
   ]
  },
  {
   "cell_type": "markdown",
   "metadata": {},
   "source": [
    "## An example HDF5 file"
   ]
  },
  {
   "cell_type": "markdown",
   "metadata": {},
   "source": [
    "For this tutorial we have prepared an example HDF5 file that contains a short snapshot of interferometric data captured from the KAT-4 telescope. This file named **kat4_int_example_github.hdf5.bz2** is available in your tutorial working directory.\n",
    "\n",
    "For convenience, let's copy it to another file, then lets unzip it:\n",
    "(We only have to run this command once - if you re-run this notebook you will get an error that the unzipped file already exists. Thats fine.)"
   ]
  },
  {
   "cell_type": "code",
   "execution_count": null,
   "metadata": {
    "collapsed": false
   },
   "outputs": [],
   "source": [
    "!cp kat4_int_example_github.hdf5.bz2 kat4_int_example.hdf5.bz2\n",
    "!bzip2 -d kat4_int_example.hdf5.bz2"
   ]
  },
  {
   "cell_type": "markdown",
   "metadata": {},
   "source": [
    "We unzipped the interferometric data file as **kat4_int_example.hdf5**. We can start off by using the command line system tools to explore the structure of the file. The system command **h5ls** will help. You can run linux shell commands from this notebook by simply prefixing the commands with an !\n",
    "\n",
    "Try the following in the cell below: \n",
    "\n",
    "    !h5ls kat4_int_example.hdf5\n",
    "    \n",
    "You should see output that looks like:\n",
    "\n",
    "    Antennas        Group\n",
    "    Correlator      Group\n",
    "    Scan            Group"
   ]
  },
  {
   "cell_type": "code",
   "execution_count": null,
   "metadata": {
    "collapsed": false
   },
   "outputs": [],
   "source": [
    "!h5ls kat4_int_example.hdf5"
   ]
  },
  {
   "cell_type": "markdown",
   "metadata": {},
   "source": [
    "You can think of a group in much the same way as a directory in a normal file system. It is a named placeholder for further content below it. In this case we have three groups:\n",
    "\n",
    " * Antennas - This holds information related to physical antennas that was captured during the experiment. It includes information such as where the antenna was pointing at any particular time.\n",
    " * Correlator - This hold information about how the correlator was configured during the experiment. For example, the number of output channels is recorded.\n",
    " * Scan - This holds the actual correlator data for the experiment. A scan is a generic name given to any observation made with the telescope.\n",
    "\n",
    "For more information try running **h5ls** in recursive mode (remember **h5ls -h** can help you with the available commands) and seeing all the items contained in the groups."
   ]
  },
  {
   "cell_type": "code",
   "execution_count": null,
   "metadata": {
    "collapsed": false
   },
   "outputs": [],
   "source": []
  },
  {
   "cell_type": "markdown",
   "metadata": {},
   "source": [
    "As you can see there is a quite a bit of information in the file, but we are only really interested in some parts of the file.\n",
    "\n",
    "The next step is to start an IPython session and import the file into our session so that we can start using more sophisticated tools to explore the data:"
   ]
  },
  {
   "cell_type": "code",
   "execution_count": null,
   "metadata": {
    "collapsed": false
   },
   "outputs": [],
   "source": [
    "import h5py\n",
    " # this tells python that we are going to be using the h5py module in our code"
   ]
  },
  {
   "cell_type": "code",
   "execution_count": null,
   "metadata": {
    "collapsed": false
   },
   "outputs": [],
   "source": [
    "f = h5py.File('kat4_int_example.hdf5')\n",
    " # open our example file with h5py and return a reference to it"
   ]
  },
  {
   "cell_type": "markdown",
   "metadata": {},
   "source": [
    "You can now navigate through the file using array syntax `[]` and tab completion. Try it... Type **f['** in your session and hit the tab key. Completion examples will be shown and should include *Antennas*, *Correlator*, and *Scan*. You can explore the file using this technique. Try and find the following sections:\n",
    "\n",
    "    f['Scan']['data']\n",
    "    f['Antennas']['Antenna1']['Sensors']['pos_actual_scan_azim']"
   ]
  },
  {
   "cell_type": "code",
   "execution_count": null,
   "metadata": {
    "collapsed": false
   },
   "outputs": [],
   "source": []
  },
  {
   "cell_type": "markdown",
   "metadata": {},
   "source": [
    "In addition to groups and datasets an HDF5 file can contain attributes. Attributes can be stored in datasets or groups and define key-value pairs that can be used for ancillary information. These can be accessed using the *.attrs['* syntax in a similar fashion to the standard *f['* syntax used above. For example:\n",
    "\n",
    "    f['Scan'].attrs['\n",
    "\n",
    "Try and find the description attribute for the *pos_actual_scan_azim* dataset you found earlier."
   ]
  },
  {
   "cell_type": "code",
   "execution_count": null,
   "metadata": {
    "collapsed": false
   },
   "outputs": [],
   "source": []
  },
  {
   "cell_type": "markdown",
   "metadata": {},
   "source": [
    "Once we have located a group or dataset we can assign these to variables for convenient future reference. Try and assign the following variables to the corresponding datasets:\n",
    "\n",
    "    data assign to /Scan/data\n",
    "    ts assign to /Scan/timestamps\n"
   ]
  },
  {
   "cell_type": "code",
   "execution_count": null,
   "metadata": {
    "collapsed": false
   },
   "outputs": [],
   "source": []
  },
  {
   "cell_type": "markdown",
   "metadata": {},
   "source": [
    "You can check you have done the right thing by inspecting your new variables. Check the shape and the dtype and make sure you understand what these are telling you."
   ]
  },
  {
   "cell_type": "code",
   "execution_count": null,
   "metadata": {
    "collapsed": false
   },
   "outputs": [],
   "source": [
    "print ts.shape # should be (900,)\n",
    "print data.shape # should be (900, 512)"
   ]
  },
  {
   "cell_type": "markdown",
   "metadata": {},
   "source": [
    "We have now assigned a reference to the data in the scan and the timestamps for this data. Timestamps are very important for a radio telescope as we need to know at exactly which time a particular data point was captured so that we can correctly align it with other pieces of information such as the telescope pointing direction.\n",
    "\n",
    "Now that we have loaded some data lets have a look at how the correlator data is actually being stored. You have already had some experience with NumPy arrays (or should have). The data you have loaded is in the form of a NumPy array. This means it will have a data type and dimensions. Try and check out the data type and the dimensions of your loaded data.\n",
    "\n",
    "*Note: If you need a refresher on what a NumPy array can do, remember that tab complete will give you hints on the available attributes and methods for an object.*"
   ]
  },
  {
   "cell_type": "code",
   "execution_count": null,
   "metadata": {
    "collapsed": false
   },
   "outputs": [],
   "source": []
  },
  {
   "cell_type": "markdown",
   "metadata": {},
   "source": [
    "The data array is two dimensional. The first axis is time. This means that each consecutive correlator dump is a new row in this array. The second is frequency channel. All the channels in the dataset combined form a frequency band of data. How many channels does your data set contain ?\n",
    "\n",
    "Each channel in the dataset has a specific width and frequency. For many aspects of the data we need additional data (called meta-data) to properly interpret them. For example, information on then channel widths and frequencies are stored as attributes in the *Correlator* group. A key feature of the H5 file is that it contains a wide variety of meta-data used to interpret the actual telescope data saved therein.\n",
    "\n",
    "You will see from the datatype that the *data* array is not a simple array of numbers, each cell in the array has a complicated type. For this particular experiment we used 4 antennas each with a single polarisation. The possible baselines combinations are labelled '0' through '11' in the output file. For each baseline we have a single complex value (NumPy type complex64)."
   ]
  },
  {
   "cell_type": "markdown",
   "metadata": {},
   "source": [
    "## Task 1 - Plot a single correlator time dump"
   ]
  },
  {
   "cell_type": "markdown",
   "metadata": {},
   "source": [
    "In this task you will plot a single time snapshot of data and make sure that the axes are correct and properly labelled. To do this you will need to perform the following basic steps::\n",
    "\n",
    "    Select a single row from the data array\n",
    "    Select a specific baseline from the data array\n",
    "    Find the attributes that describe the channel bandwidth, number of channels and center frequency of the entire band.\n",
    "    Create an array of center frequencies for each channel\n",
    "    Create a plot of absolute value vs frequency (make sure to label the axes)\n",
    "\n",
    "You may find that channel 0 contains a large DC offset and should be excluded from your plot.\n",
    "\n",
    "Some hints have been placed in the cells below, but they will only work if you fill in the rest correctly :)\n",
    "\n",
    "*Note: The data is stored in 64-bit complex numbers by default. The NumPy functions np.abs and np.angle will give you the absolute value and phase respectively of a NumPy array of complex numbers.*"
   ]
  },
  {
   "cell_type": "code",
   "execution_count": null,
   "metadata": {
    "collapsed": false
   },
   "outputs": [],
   "source": []
  },
  {
   "cell_type": "code",
   "execution_count": null,
   "metadata": {
    "collapsed": false
   },
   "outputs": [],
   "source": [
    "bline_data = row['0']\n",
    " # step 2"
   ]
  },
  {
   "cell_type": "code",
   "execution_count": null,
   "metadata": {
    "collapsed": false
   },
   "outputs": [],
   "source": []
  },
  {
   "cell_type": "code",
   "execution_count": null,
   "metadata": {
    "collapsed": false
   },
   "outputs": [],
   "source": [
    "cfs_mhz = [(cf_hz + (bw_hz/nc*1.0)*c + 0.5*(bw_hz/nc*1.0))/1e6 for c in range(-int(nc)/2, int(nc)/2)]\n",
    " # step 4"
   ]
  },
  {
   "cell_type": "code",
   "execution_count": null,
   "metadata": {
    "collapsed": false
   },
   "outputs": [],
   "source": []
  },
  {
   "cell_type": "markdown",
   "metadata": {},
   "source": [
    "## Task 2 - Create a waterfall plot and measure the fringe rate"
   ]
  },
  {
   "cell_type": "markdown",
   "metadata": {},
   "source": [
    "A plot that we use very often when trying to debug or understand interferemetric data is a spectrogram (or waterfall plot). This plots time vs frequency with the intensity of each point shown using a colormap. By plotting the phase of the complex data against time and frequency we can get a feel for how the phase of a particular baseline changes as our observation proceeds.\n",
    "\n",
    "The following hints may help you with this task:\n",
    "\n",
    " * Remember you can get help on any python method by adding a `?` after the method name. (e.g. to get help on the matplotlib plot command type `plot?` and hit enter)\n",
    " * The imshow matplotlib method can plot arrays of data\n",
    " * Some of the baselines are auto-correlation and some are cross-correlation. The auto-correlation baselines always have zero phase.\n",
    " * I suggest you plot baseline '3' from the data which is the cross-correlation between antenna 1 and antenna 2.\n",
    " * Remember that you have complex data and need to use a NumPy function to get the phase...\n",
    "\n",
    "Your phase plot should end up looking something like this:\n",
    "\n",
    "<img src='files/images/phase_plot.png' />\n",
    "\n",
    "Try and make something similar...\n",
    "\n",
    "*Note: It may be helpful to create a figure of a decent size first, so you can easily see the fringes. The help for the figure command is your friend.*"
   ]
  },
  {
   "cell_type": "code",
   "execution_count": null,
   "metadata": {
    "collapsed": false
   },
   "outputs": [],
   "source": []
  },
  {
   "cell_type": "markdown",
   "metadata": {},
   "source": [
    "In order to read the fringe frequency for a particular channel (needed below), it may be helpful to produce a zoomed in version of the plot.\n",
    "\n",
    "*Note: the imshow argument aspect='auto' is helpful for producing square plots that show more detail*"
   ]
  },
  {
   "cell_type": "code",
   "execution_count": null,
   "metadata": {
    "collapsed": false
   },
   "outputs": [],
   "source": []
  },
  {
   "cell_type": "markdown",
   "metadata": {},
   "source": [
    "The phase gradient you see has a number of causes, but the most easily explained is that caused by the rotation of the earth. Imagine a pair of antennas each pointed directly at the same source in the sky. If the source in question is directly overhead then the effective path length between the source and each antenna is the same. However as the earth rotates the source appears lower and lower in the sky. At the horizon, the path length between the furthest antenna and the source is longer (by the length of the baseline between them) than for the antenna closest to the source.\n",
    "\n",
    "This change in projected baseline with time gives rise to a characteristic 'fringe' pattern in the phase of the correlation between the two antennas. Clearly the faster the projected baseline changes the faster the phase will change.\n",
    "\n",
    "For any given channel the phase will change by $2 \\pi$ when the projected baseline changes by 1 wavelength. If we measure the period of this phase change (and knowing some information about our source) we can calculate how fast the source is moving in the sky. If it is a celestial source we would expect it to move at the Earth's rotational velocity.\n",
    "\n",
    "To check this we can use the following formula:\n",
    "\n",
    "   \\begin{equation}\n",
    "      \\nu_{F} = -\\omega_{e} u \\cos{\\delta}\n",
    "   \\end{equation}\n",
    "\n",
    "This relates the fringe frequency $\\nu_{F}$ to the projected baseline length $u$ (in wavelengths), the source's angular velocity $\\omega_{e}$ and current declination $\\delta$ of the source in question. In our case we want to solve for the angular velocity $\\omega_{e}$. We can measure the fringe frequency from our plot, but we need to do a bit of work to get the declination and baseline. The first step is to extract some more meta-data from our file.\n",
    "\n",
    "We will need to get the following pieces of information (and assign them to convenient variables):\n",
    "\n",
    " * The timestamp at the start of the interval over which we have measured the fringe frequency. (Note that the timestamps inside the 'Scan' group are in ms)\n",
    " * A description of the source that we are observing. This is stored as a text string as an attribute of the 'Scan' group.\n",
    " * A description of each of the two antennas for the particular baseline we are measuring. The description for a particular antenna can be found within the 'Antnna' group.\n",
    " * The frequency of the channel in which you have made the fringe frequency measurement (in hz)\n",
    " \n",
    "Some hints are provided in the cell below, but you will need to additional variables to make things work."
   ]
  },
  {
   "cell_type": "code",
   "execution_count": null,
   "metadata": {
    "collapsed": false
   },
   "outputs": [],
   "source": [
    "ant1 = f['Antennas/Antenna1'].attrs['description']\n",
    "source = f['Scan'].attrs['target']"
   ]
  },
  {
   "cell_type": "markdown",
   "metadata": {},
   "source": [
    "Once you have these variables (in my case called ts_start, source, ant1, ant2 and nu respectively) and have measured the fringe frequency you can use the following code to find the source declination and project baseline:\n",
    "\n",
    " "
   ]
  },
  {
   "cell_type": "code",
   "execution_count": null,
   "metadata": {
    "collapsed": false
   },
   "outputs": [],
   "source": [
    "import katpoint\n",
    " # import our source and coordinate library\n",
    "tgt = katpoint.Target(source)\n",
    " # create an object describing the observation target\n",
    "ant1_obj = katpoint.Antenna(ant1)\n",
    "ant2_obj = katpoint.Antenna(ant2)\n",
    " # two antenna objects\n",
    "(u, v, w) = tgt.uvw(ant2_obj, ts_start / 1000, ant1_obj)\n",
    "l = katpoint.lightspeed / nu\n",
    "B = math.sqrt((u/l)**2 + (v/l)**2)\n",
    " # work out the project baseline at the time of the observation\n",
    "(ra, dec) = tgt.radec(ts_start/1000, ant1_obj)\n",
    " # calculate Right Ascension and Declination for the appropriate time"
   ]
  },
  {
   "cell_type": "markdown",
   "metadata": {},
   "source": [
    "You now have the declination (dec) and projected baseline (B) in wavelengths.\n",
    "\n",
    "See if you can work out the source's angular velocity. (it will be in radians)\n",
    "\n",
    "Does this show that the source is celestial ?"
   ]
  },
  {
   "cell_type": "code",
   "execution_count": null,
   "metadata": {
    "collapsed": false
   },
   "outputs": [],
   "source": []
  }
 ],
 "metadata": {
  "kernelspec": {
   "display_name": "Python 2",
   "language": "python",
   "name": "python2"
  },
  "language_info": {
   "codemirror_mode": {
    "name": "ipython",
    "version": 2
   },
   "file_extension": ".py",
   "mimetype": "text/x-python",
   "name": "python",
   "nbconvert_exporter": "python",
   "pygments_lexer": "ipython2",
   "version": "2.7.6"
  }
 },
 "nbformat": 4,
 "nbformat_minor": 0
}
