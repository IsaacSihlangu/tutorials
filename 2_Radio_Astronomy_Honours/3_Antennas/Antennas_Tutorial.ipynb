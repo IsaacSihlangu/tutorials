{
 "metadata": {
  "name": "",
  "signature": "sha256:03d6be8e0e3aaea9d7891a2b7b07dce38f7b42dddabc7dc54a7e89071a159f18"
 },
 "nbformat": 3,
 "nbformat_minor": 0,
 "worksheets": [
  {
   "cells": [
    {
     "cell_type": "heading",
     "level": 1,
     "metadata": {},
     "source": [
      "Question 1"
     ]
    },
    {
     "cell_type": "markdown",
     "metadata": {},
     "source": [
      "A convenient parameter for specifying the sensitivity of a radio telescope is its sensitivity\n",
      "in units of K/Jy; that is, the number of Kelvins of antenna temperature $T_{A}$\n",
      "produced by an unpolarized point source whose flux density is 1 Jy. \n",
      "1. What is the effective collecting area $A_{e}$ of a radio telescope whose sensitivity is 1 K/Jy? \n",
      "2. The 2.3 GHz feed at Arecibo illuminates an elliptical aperture 225 m by 200 m in size, and\n",
      "the aperture efficiency $\\eta_{A}$ over this ellipse is $\\eta_{A}\\approx 0.70$. What is the sensitivity of this\n",
      "system in K/Jy? \n",
      "3. The same feed is used with a 1 megawatt transmitter at 2.3 GHz\n",
      "for planetary radar. What is the on-axis power gain $G_{max}$ of this radar system?"
     ]
    },
    {
     "cell_type": "heading",
     "level": 1,
     "metadata": {},
     "source": [
      "Question 2"
     ]
    },
    {
     "cell_type": "markdown",
     "metadata": {},
     "source": [
      "In class, we showed that a 1-D aperture with constant illumination produces a power\n",
      "pattern described by:\n",
      "$$P(\\theta) \\propto \\mathrm{sinc}^2({\\theta D \\over \\lambda}).$$\n",
      "With D = 10m and $\\lambda = 10$ cm, use *numerical techniques*, compute $\\theta$ and $P(\\theta)$\n",
      "to at least 4 significant figures at the peaks of the first 2 sidelobes. Express them in\n",
      "dB as well as in relative terms (as compared to the main beam). Verify your results\n",
      "analytically."
     ]
    },
    {
     "cell_type": "heading",
     "level": 1,
     "metadata": {},
     "source": [
      "Question 3"
     ]
    },
    {
     "cell_type": "markdown",
     "metadata": {},
     "source": [
      "For a circular aperture with uniform illumination, the normalized power pattern $P_{n}(\\theta)$\n",
      "is known as the *Airy disk* and is described in the textbook by eqn. 6.27 (remember that\n",
      "$u = \\sin \\theta$ where $\\theta$ is the angle between the optical axis and the direction in question).\n",
      "1. As in problem 2, numerically compute $\\theta$ and $P_{n}(\\theta)$ to at least 4 significant figures\n",
      "for the first 2 sidelobes with D = 100m and $\\lambda$ = 5 cm.\n",
      "2. Numerically determine the aperture\u2019s beam solid angle $\\Omega_{A}$.\n",
      "3. Compute the main beam solid angle $\\Omega_{MB}$ and the beam efficiency $\\eta_{B}$ assuming\n",
      "that the main beam is defined as everything within the first null of eqn. 6.27."
     ]
    },
    {
     "cell_type": "heading",
     "level": 1,
     "metadata": {},
     "source": [
      "Question 4"
     ]
    },
    {
     "cell_type": "markdown",
     "metadata": {},
     "source": [
      "You would like to measure the temperature of Mars with an rms uncertainty of about\n",
      "1% by observing it at $\\nu_{RF} \\approx 10$GHz. The angular diameter of Mars is $\\theta_{M}$ = 18arcsec,\n",
      "and its 10 GHz flux density is 4.2 Jy. You have a radio telescope whose paraboloidal\n",
      "mirror has diameter D = 25m and aperture efficiency $\\eta_{A}$ = 0.70. The single-channel\n",
      "total-power receiver is connected to a feed sensitive to right circular polarization, and\n",
      "its RF bandwidth is 100MHz. The receiver noise temperature is $T_{RX}$ = 18 K, the\n",
      "atmosphere adds about 3.5 K, the microwave background 3K, and spillover pickup of\n",
      "ground radiation is about 11 K.\n",
      "1. Show that Mars is a \u201cpoint source\u201d for your observation; that is, $\\theta_{M} \u001c",
      "\\ll \\theta_{FWHM}$,\n",
      "the telescope beamwidth between half-power points.\n",
      "2. What antenna temperature contribution $T_{A}$ do you expect from Mars?\n",
      "3. What is the system noise temperature $T_{sys}$ when the telescope is pointing at Mars?\n",
      "4. If the receiver has perfect gain stability, how long must you point the telescope\n",
      "at Mars?\n",
      "5. Estimate the maximum rms receiver gain fluctuation $\\Delta G/G$ that you can tolerate\n",
      "during this observation.\n",
      "6. If the receiver gain stability is not good enough for a total-power observation and\n",
      "you are forced to Dicke switch, how long must you point the telescope at Mars?"
     ]
    },
    {
     "cell_type": "heading",
     "level": 1,
     "metadata": {},
     "source": [
      "Question 5"
     ]
    },
    {
     "cell_type": "markdown",
     "metadata": {},
     "source": [
      "For pulsar timing observations, astronomers \u201cfold\u201d the data modulo the pulse period.\n",
      "If the number of bins in the pulse profile is such that the pulse fits perfectly into a\n",
      "single bin, then for simple single-peaked pulse profiles, this technique is practically an\n",
      "optimal \u201cmatched-filter\u201d for the signal.\n",
      "1. If we assume a rectangular (i.e. top-hat) pulse shape of width W seconds, measured\n",
      "peak amplitude $T_{peak}$ Kelvin, and spin period P seconds, derive the signalto-\n",
      "noise ratio ($S/N = T_{peak}/\\sigma_{\u001bT}$ ) as a function of the integration time \u001c",
      "$\\tau$ , the\n",
      "observed bandwidth $\\Delta \\nu_{RF}$, W and P. You can assume (as is nearly always true)\n",
      "that $T_{peak} \\ll T_{sys}$.\n",
      "2. For $W \\ll\u001c",
      " P$, how does S/N scale with the pulsar \u201cduty-cycle\u201d, W/P?\n",
      "3. For a few points of extra credit, explain how this applies to pulsar searches,\n",
      "which are conducted in the frequency domain after a Fourier transform (and\n",
      "where we don\u2019t know W and P a priori)."
     ]
    },
    {
     "cell_type": "heading",
     "level": 1,
     "metadata": {},
     "source": [
      "Question 6"
     ]
    },
    {
     "cell_type": "markdown",
     "metadata": {},
     "source": [
      "Measurements of many extragalactic sources have shown that they typically have\n",
      "brightness temperatures of $T_{B} \\approx 10^{11}$ K and $S \\approx 1$ Jy. Approximately what size\n",
      "telescope is needed to resolve these sources?"
     ]
    },
    {
     "cell_type": "heading",
     "level": 1,
     "metadata": {},
     "source": [
      "Question 7"
     ]
    },
    {
     "cell_type": "markdown",
     "metadata": {},
     "source": [
      "At the end of section Two-Dimensional Aperture Antennas the notes assert without proof that the wavelength $\\lambda_{m}$ at which a\n",
      "reflector telescope has maximum gain is given by $\\lambda_{m} = 4 \\pi \\sigma$\u001b, where \u001b$\\sigma$ is the rms surface\n",
      "error. Derive this equation."
     ]
    }
   ],
   "metadata": {}
  }
 ]
}