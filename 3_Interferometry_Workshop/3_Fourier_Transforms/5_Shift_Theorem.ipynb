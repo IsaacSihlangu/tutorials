{
 "metadata": {
  "name": "",
  "signature": "sha256:6fc108eb93806460c59f6302d0b5cb9a80a1978d40ebd1a28e664b26cfe6aa69"
 },
 "nbformat": 3,
 "nbformat_minor": 0,
 "worksheets": [
  {
   "cells": [
    {
     "cell_type": "markdown",
     "metadata": {},
     "source": [
      "#5. The shift theorem#"
     ]
    },
    {
     "cell_type": "markdown",
     "metadata": {},
     "source": [
      "Lets create an example of the Similarity theorem.\n",
      "\n",
      "First import the necessary modules:"
     ]
    },
    {
     "cell_type": "code",
     "collapsed": true,
     "input": [
      "import numpy as np\n",
      "import matplotlib.pylab as plt\n",
      "%matplotlib inline"
     ],
     "language": "python",
     "metadata": {},
     "outputs": []
    },
    {
     "cell_type": "markdown",
     "metadata": {},
     "source": [
      "Make our convenience functions using the fourier transform provided by numpy:"
     ]
    },
    {
     "cell_type": "code",
     "collapsed": true,
     "input": [
      "def ft(y):\n",
      "    \"\"\"Returns the fourier transform of y\"\"\"\n",
      "    return np.fft.fftshift(np.fft.fft(np.fft.fftshift(y)))\n",
      "\n",
      "def ftfreqs(N,dt):\n",
      "    \"\"\"Returns the Fourier frequencies\"\"\"\n",
      "    return np.fft.fftshift(np.fft.fftfreq(N,dt))"
     ],
     "language": "python",
     "metadata": {},
     "outputs": []
    },
    {
     "cell_type": "markdown",
     "metadata": {},
     "source": [
      "Define the functions we will need:"
     ]
    },
    {
     "cell_type": "code",
     "collapsed": true,
     "input": [
      "# spike of amplitude A at given value of t\n",
      "def spike(t,t0,A):\n",
      "    output = np.zeros(len(t))\n",
      "    output[t==t0] = A\n",
      "    return output"
     ],
     "language": "python",
     "metadata": {},
     "outputs": []
    },
    {
     "cell_type": "markdown",
     "metadata": {},
     "source": [
      "##The Shift theorem##\n",
      "\n",
      "The Shift Theorem states that: <br/>\n",
      "When a function $g(t)$ with Fourier Transform $G(f)$ is shifted along the x-axis to become $g(t-a)$, the Fourier Transform becomes $e^{-2\\pi i a f} G(f)$.\n",
      "<br/>In short hand:\n",
      "$$ g(t-a) \\Longleftrightarrow e^{-2\\pi i a f} G(f)$$\n",
      "\n",
      "For this example, lets use a spike g(t) at x=0. \n",
      "\n",
      "Then lets:\n",
      "\n",
      "* Shift g(t) by 30, to give g(t-30)\n",
      "* Fourier transforms $g(t)$ to get $G(f)$ \n",
      "* Fourier transform $g(t-30)$ and compare our results to the Shift Theorem\n",
      "\n",
      "First set up the x-axis values:"
     ]
    },
    {
     "cell_type": "code",
     "collapsed": true,
     "input": [
      "delta_t = 1.0\n",
      "t = np.arange(-1000,1000,delta_t)              # set x-axis value\n",
      "\n",
      "freqs = ftfreqs(len(t),delta_t)                # get our Fourier transform frequency values"
     ],
     "language": "python",
     "metadata": {},
     "outputs": []
    },
    {
     "cell_type": "markdown",
     "metadata": {},
     "source": [
      "Create the spike g(t), then shift the spike by 30 to give g(t-30):"
     ]
    },
    {
     "cell_type": "code",
     "collapsed": false,
     "input": [
      "g = spike(t,0,1.0)                             # create function g(t)\n",
      "\n",
      "g_shift = spike(t+30.0,0.0,1.0)                # shift g by 30\n",
      "\n",
      "#alternative way to do the shift:\n",
      "#g_shift = spike(t,30,2.0)"
     ],
     "language": "python",
     "metadata": {},
     "outputs": []
    },
    {
     "cell_type": "markdown",
     "metadata": {},
     "source": [
      "Plot g(t) and g(t-30)"
     ]
    },
    {
     "cell_type": "code",
     "collapsed": false,
     "input": [
      "fig, ax = plt.subplots(1,2,figsize=[13,3])     # create plot\n",
      "\n",
      "ax[0].plot(t,g)\n",
      "ax[0].set_xlabel('Time')\n",
      "ax[0].set_ylabel('g(t)')\n",
      "\n",
      "ax[1].plot(t,g_shift)\n",
      "ax[1].set_xlabel('Time')\n",
      "ax[1].set_ylabel('g(t-30)')\n",
      "\n",
      "ax[0].set_xlim(-100.,100.)\n",
      "ax[1].set_xlim(-100.,100.)"
     ],
     "language": "python",
     "metadata": {},
     "outputs": []
    },
    {
     "cell_type": "markdown",
     "metadata": {},
     "source": [
      "Fourier transform g(t) and g(t-30):"
     ]
    },
    {
     "cell_type": "code",
     "collapsed": true,
     "input": [
      "G = ft(g)                                      # Fourier transform\n",
      "G_shift = ft(g_shift)                          # Fourier transform"
     ],
     "language": "python",
     "metadata": {},
     "outputs": []
    },
    {
     "cell_type": "markdown",
     "metadata": {},
     "source": [
      "Plot the magnitudes of the Fourier transforms first:"
     ]
    },
    {
     "cell_type": "code",
     "collapsed": false,
     "input": [
      "fig, ax = plt.subplots(1,2,figsize=[13,3])     # create plot\n",
      "\n",
      "ax[0].plot(freqs,abs(G))\n",
      "ax[0].set_xlabel('Frequency')\n",
      "ax[0].set_ylabel('|G(f)|')\n",
      "\n",
      "ax[1].plot(freqs,abs(G_shift))\n",
      "ax[1].set_xlabel('Frequency')\n",
      "ax[1].set_ylabel('|G_shifted(f)|')\n",
      "\n",
      "ax[0].set_ylim(0.,2.5);\n",
      "ax[1].set_ylim(0.,2.5);"
     ],
     "language": "python",
     "metadata": {},
     "outputs": []
    },
    {
     "cell_type": "markdown",
     "metadata": {},
     "source": [
      "Next plot the phases of the Fourier transforms:"
     ]
    },
    {
     "cell_type": "code",
     "collapsed": true,
     "input": [
      "phase_G = np.angle(G)\n",
      "phase_G_shift = np.angle(G_shift)"
     ],
     "language": "python",
     "metadata": {},
     "outputs": []
    },
    {
     "cell_type": "code",
     "collapsed": false,
     "input": [
      "fig, ax = plt.subplots(1,1,figsize=[6,3])     # create plot\n",
      "\n",
      "ax.plot(freqs,phase_G_shift,'.')\n",
      "ax.set_xlabel('f')\n",
      "ax.set_ylabel('G(f) phase / [radians]')\n",
      "\n",
      "ax.set_xlim(-0.3,0.3);\n",
      "ax.set_ylim(-np.pi,np.pi);"
     ],
     "language": "python",
     "metadata": {},
     "outputs": []
    },
    {
     "cell_type": "markdown",
     "metadata": {},
     "source": [
      "##Explanation:##\n",
      "\n",
      "The Shift Theorem tells us that:\n",
      "\n",
      "* The magnitude of the Fourier Transform of the shifted function is the same at the magnitude of the Fourier Transform of the original function. We see this in the magnitude plots |G(f)| and |G_shift(f)|, where the amplitudes are the same.\n",
      "* The x-axis shift in the time domain introduces a phase slope in the frequency domain. We see this in the plots of phase versus frequency for the Fourier transforms: \n",
      "the phase of the Fourier Transform of the original spike is zero, the phase of the Fourier transform of the shifted spike has a slope.\n",
      "\n",
      "Note: In the plot of the phase of G_shifted(f), the phase is wrapping around from -$\\pi$ to $\\pi$."
     ]
    },
    {
     "cell_type": "markdown",
     "metadata": {},
     "source": [
      "###Phase slope##\n",
      "\n",
      "Lets work out the gradient of the phase and check that it is what we expect from the Shift Theorem."
     ]
    },
    {
     "cell_type": "markdown",
     "metadata": {},
     "source": [
      "You can work out the gradient more accurately from the data, but lets just make an estimate from looking at the graph:"
     ]
    },
    {
     "cell_type": "code",
     "collapsed": false,
     "input": [
      "fig, ax = plt.subplots(1,1,figsize=[6,3])     # create plot\n",
      "\n",
      "ax.plot(freqs,phase_G_shift,'.')\n",
      "ax.set_xlabel('Frequency')\n",
      "ax.set_ylabel('G_shifted(f) phase / [radians]')\n",
      "ax.set_xlim(-0.018,0.018);"
     ],
     "language": "python",
     "metadata": {},
     "outputs": []
    },
    {
     "cell_type": "markdown",
     "metadata": {},
     "source": [
      "So the phase changes from -pi at $\\sim-0.0165$ to +pi at $\\sim+0.0165$. We can use that to work out the gradient:"
     ]
    },
    {
     "cell_type": "code",
     "collapsed": false,
     "input": [
      "m = (np.pi - (-np.pi))/((-0.0165) - 0.0165) \n",
      "print \"Estimated phase gradient m: \", m"
     ],
     "language": "python",
     "metadata": {},
     "outputs": []
    },
    {
     "cell_type": "markdown",
     "metadata": {},
     "source": [
      "Is this what we expect from the Shift Theorem? The phase introduced by the shift is $-2 \\pi i a f$, which is a slope of $-2 \\pi a$ with frequency."
     ]
    },
    {
     "cell_type": "code",
     "collapsed": false,
     "input": [
      "expected_slope = -2.0 * np.pi * 30.0 \n",
      "print \"Expected phase gradient m: \", expected_slope"
     ],
     "language": "python",
     "metadata": {},
     "outputs": []
    },
    {
     "cell_type": "markdown",
     "metadata": {},
     "source": [
      "So it is what we expected! (We could have made our estimate from the graph more accurate to get a closer result.)"
     ]
    },
    {
     "cell_type": "markdown",
     "metadata": {},
     "source": [
      "###Version information###"
     ]
    },
    {
     "cell_type": "code",
     "collapsed": false,
     "input": [
      "import os\n",
      "import sys\n",
      "import IPython\n",
      "import matplotlib\n",
      "\n",
      "print 'Version information'\n",
      "print '==================='\n",
      "print 'OS:          ', os.name, sys.platform\n",
      "print 'Python:      ', sys.version.split()[0]\n",
      "print 'IPython:     ', IPython.__version__\n",
      "print 'Numpy:       ', np.__version__\n",
      "print 'matplotlib:  ', matplotlib.__version__"
     ],
     "language": "python",
     "metadata": {},
     "outputs": []
    }
   ],
   "metadata": {}
  }
 ]
}