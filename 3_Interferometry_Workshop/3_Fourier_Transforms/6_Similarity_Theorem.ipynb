{
 "metadata": {
  "name": "",
  "signature": "sha256:c3e2aa3735fd283e1d86a0ab563aeda0bf6b5eff3945dba6d9aab4c79e3dc2de"
 },
 "nbformat": 3,
 "nbformat_minor": 0,
 "worksheets": [
  {
   "cells": [
    {
     "cell_type": "markdown",
     "metadata": {},
     "source": [
      "#6. The similarity theorem#"
     ]
    },
    {
     "cell_type": "markdown",
     "metadata": {},
     "source": [
      "Lets create an example of the Similarity theorem.\n",
      "\n",
      "First import the necessary modules:"
     ]
    },
    {
     "cell_type": "code",
     "collapsed": true,
     "input": [
      "import numpy as np\n",
      "import matplotlib.pylab as plt\n",
      "%matplotlib inline"
     ],
     "language": "python",
     "metadata": {},
     "outputs": []
    },
    {
     "cell_type": "markdown",
     "metadata": {},
     "source": [
      "Make our convenience functions using the fourier transform provided by numpy:"
     ]
    },
    {
     "cell_type": "code",
     "collapsed": true,
     "input": [
      "def ft(y):\n",
      "    \"\"\"Returns the fourier transform of y\"\"\"\n",
      "    return np.fft.fftshift(np.fft.fft(np.fft.fftshift(y)))\n",
      "\n",
      "def ftfreqs(N,dt):\n",
      "    \"\"\"Returns the Fourier frequencies\"\"\"\n",
      "    return np.fft.fftshift(np.fft.fftfreq(N,dt))"
     ],
     "language": "python",
     "metadata": {},
     "outputs": []
    },
    {
     "cell_type": "markdown",
     "metadata": {},
     "source": [
      "Define the function we will need:"
     ]
    },
    {
     "cell_type": "code",
     "collapsed": true,
     "input": [
      "# gaussian function\n",
      "def gaussian(t,sigma):\n",
      "    return (1./(2.*np.pi*sigma))*np.exp(-t**2.0/(sigma**2.0))"
     ],
     "language": "python",
     "metadata": {},
     "outputs": []
    },
    {
     "cell_type": "markdown",
     "metadata": {},
     "source": [
      "##The Similarity theorem##\n",
      "\n",
      "The Similarity theorem states that: <br/>\n",
      "When a function $g(t)$ with Fourier Transform $G(f)$ has it's x-axis scaled by a constant a to give $g(a \\; t)$, the Fourier transform becomes $\\frac{1}{|a|} G(f/a)$.\n",
      "\n",
      "In short hand:\n",
      "$$ g(a \\; t) \\Longleftrightarrow \\frac{1}{|a|} G(f/a) $$\n",
      "\n",
      "For this example, lets use a Gaussian g(t), with sigma=100. \n",
      "\n",
      "Then lets:\n",
      "\n",
      "* Scale g(t) by 10, to give g(10 t)\n",
      "* Fourier transforms $g(t)$ to get $G(f)$ \n",
      "* Fourier transform $g(10 t)$ and compare our results to the Similarity Theorem\n",
      "\n",
      "First set up the x-axis values:"
     ]
    },
    {
     "cell_type": "code",
     "collapsed": true,
     "input": [
      "delta_t = 1.0\n",
      "t = np.arange(-1000,1000,delta_t)              # set x-axis value\n",
      "\n",
      "freqs = ftfreqs(len(t),delta_t)                # get our Fourier transform frequency values"
     ],
     "language": "python",
     "metadata": {},
     "outputs": []
    },
    {
     "cell_type": "markdown",
     "metadata": {},
     "source": [
      "Create a Gaussians g(t) sigma=100, and scale it by 10, to give g(10 t):"
     ]
    },
    {
     "cell_type": "code",
     "collapsed": true,
     "input": [
      "g = gaussian(t,100.) \n",
      "\n",
      "g10 = gaussian(10.0*t,100.) "
     ],
     "language": "python",
     "metadata": {},
     "outputs": []
    },
    {
     "cell_type": "markdown",
     "metadata": {},
     "source": [
      "Take the Fourier transforms of each:"
     ]
    },
    {
     "cell_type": "code",
     "collapsed": true,
     "input": [
      "G = ft(g)\n",
      "G10 = ft(g10)"
     ],
     "language": "python",
     "metadata": {},
     "outputs": []
    },
    {
     "cell_type": "markdown",
     "metadata": {},
     "source": [
      "Plot the functions and their Fourier transforms:"
     ]
    },
    {
     "cell_type": "code",
     "collapsed": false,
     "input": [
      "fig, ax = plt.subplots(2,2,figsize=[13,9])     # create plot\n",
      "\n",
      "# g and G\n",
      "\n",
      "ax[0,0].plot(t,g)\n",
      "ax[0,0].set_xlabel('Time')\n",
      "ax[0,0].set_ylabel('g(t)')\n",
      "\n",
      "ax[0,1].plot(freqs,G)\n",
      "ax[0,1].set_xlabel('Frequency')\n",
      "ax[0,1].set_ylabel('G(f)')\n",
      "\n",
      "ax[0,0].set_xlim(-250.,250.)\n",
      "ax[0,1].set_xlim(-0.08,0.08)\n",
      "\n",
      "# scaled function g10 and G10\n",
      "\n",
      "ax[1,0].plot(t,g10)\n",
      "ax[1,0].set_xlabel('Time')\n",
      "ax[1,0].set_ylabel('g10(t)')\n",
      "\n",
      "ax[1,1].plot(freqs,G10)\n",
      "ax[1,1].set_xlabel('Frequency')\n",
      "ax[1,1].set_ylabel('G10(f)')\n",
      "\n",
      "ax[1,0].set_xlim(-250.,250.);\n",
      "ax[1,1].set_xlim(-0.08,0.08);"
     ],
     "language": "python",
     "metadata": {},
     "outputs": []
    },
    {
     "cell_type": "markdown",
     "metadata": {},
     "source": [
      "##Explanation:##\n",
      "\n",
      "We did a scaling with a=10, from g(t) to g(10 t). So from the Similarity Theorem we expect:\n",
      "<br><br>\n",
      "$$g(t) \\Longleftrightarrow G(f)$$\n",
      "$$g(10 t) \\Longleftrightarrow \\frac{1}{|10|} G(f/10)$$\n",
      "\n",
      "You can see from the plots that:\n",
      "\n",
      "* The 10xdecrease in width in the time domain corresponds to a 10xincrease in width in the frequency domain. \n",
      "* The Fourier domain amplitude has dropped by 1/10, as expected."
     ]
    },
    {
     "cell_type": "markdown",
     "metadata": {},
     "source": [
      "###Version information###"
     ]
    },
    {
     "cell_type": "code",
     "collapsed": false,
     "input": [
      "import os\n",
      "import sys\n",
      "import IPython\n",
      "import matplotlib\n",
      "\n",
      "print 'Version information'\n",
      "print '==================='\n",
      "print 'OS:          ', os.name, sys.platform\n",
      "print 'Python:      ', sys.version.split()[0]\n",
      "print 'IPython:     ', IPython.__version__\n",
      "print 'Numpy:       ', np.__version__\n",
      "print 'matplotlib:  ', matplotlib.__version__"
     ],
     "language": "python",
     "metadata": {},
     "outputs": []
    }
   ],
   "metadata": {}
  }
 ]
}