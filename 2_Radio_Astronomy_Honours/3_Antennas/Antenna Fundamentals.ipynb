{
 "metadata": {
  "name": "",
  "signature": "sha256:08deee85d1c7455177c95fc946a17f2d14da455d5d16c0fb4431b66ba9d49a3f"
 },
 "nbformat": 3,
 "nbformat_minor": 0,
 "worksheets": [
  {
   "cells": [
    {
     "cell_type": "markdown",
     "metadata": {},
     "source": [
      "Notes orginally from http://www.cv.nrao.edu/course/astr534/AntennaTheory.html. This work is licensed under a Creative Commons Attribution-Noncommercial-Share Alike 3.0 License. (http://creativecommons.org/licenses/by-nc-sa/3.0/) "
     ]
    },
    {
     "cell_type": "markdown",
     "metadata": {},
     "source": [
      "Table of contents\n",
      "* [Antenna Fundamentals](#Antenna-Fundamentals)\n",
      " * [Radiation from a Short Dipole Antenna Hertz Dipole](#Radiation-from-a-Short-Dipole-Antenna-Hertz-Dipole)\n",
      " * [Radiation Resistance](#Radiation-Resistance)\n",
      " * [The Power Gain of a Transmitting Antenna](#The-Power-Gain-of-a-Transmitting-Antenna)\n",
      " * [The Effective Area of a Receiving Antenna](#The-Effective-Area-of-a-Receiving-Antenna)\n",
      " * [Reciprocity Theorems](#Reciprocity-Theorems)\n",
      " * [Antenna Temperature](#Antenna-Temperature)\n",
      " * [Beam Solid Angle](#Beam-Solid-Angle)\n",
      " * [Main Beam Solid Angle](#Main-Beam-Solid-Angle)\n",
      " \n"
     ]
    },
    {
     "cell_type": "heading",
     "level": 1,
     "metadata": {},
     "source": [
      "Antenna Fundamentals"
     ]
    },
    {
     "cell_type": "markdown",
     "metadata": {},
     "source": [
      "An antenna\n",
      "is a device for converting\n",
      "electromagnetic radiation in space into\n",
      "electrical currents in conductors or vice-versa, depending on\n",
      "whether\n",
      "it is being\n",
      "used for receiving or for transmitting, respectively.\n",
      "Passive\n",
      "radio telescopes are receiving antennas. It is usually\n",
      "easier\n",
      "to\n",
      "calculate the properties of transmitting antennas. Fortunately,\n",
      "most\n",
      "characteristics of a transmitting antenna (e.g., its radiation\n",
      "pattern)\n",
      "are unchanged when\n",
      "the antenna is used for receiving, so we often use the analysis of\n",
      "a transmitting antenna to understand a receiving antenna used in\n",
      "radio astronomy. "
     ]
    },
    {
     "cell_type": "heading",
     "level": 2,
     "metadata": {},
     "source": [
      "Radiation from a Short Dipole Antenna Hertz Dipole"
     ]
    },
    {
     "cell_type": "markdown",
     "metadata": {},
     "source": [
      "![](http://www.cv.nrao.edu/course/astr534/images/hzdipol.svg)\n",
      "\n",
      "The\n",
      "coordinate\n",
      "system used to describe the radiation from a short (total length\n",
      "$l \\ll \\lambda$)\n",
      "dipole driven by a current source of frequency $\\nu$."
     ]
    },
    {
     "cell_type": "code",
     "collapsed": false,
     "input": [
      "from mpl_toolkits.mplot3d import Axes3D"
     ],
     "language": "python",
     "metadata": {},
     "outputs": [],
     "prompt_number": 36
    },
    {
     "cell_type": "code",
     "collapsed": false,
     "input": [
      "#set the endpoints of the vector\n",
      "x = 0.8 # range 0:1\n",
      "y = -0.8 # range 0:-1\n",
      "z = 0.5 #range 0:1\n",
      "figure()\n",
      "ax = gca(projection='3d')\n",
      "plot([0,x],[0,y],[0,z]) # plot the main vector\n",
      "# plot the blue projections\n",
      "plot([0,x],[0,0],[0,z],'b:')\n",
      "plot([0,0],[0,y],[0,z],'b:')\n",
      "plot([0,x],[0,y],[0,0],'b:')\n",
      "\n",
      "plot([x,x],[y,y],[z,0],'r:')\n",
      "plot([x,x],[y,0],[z,z],'r:')\n",
      "plot([x,0],[y,y],[z,z],'r:')\n",
      "ax.set_xlim3d(0, 1)\n",
      "ax.set_ylim3d(-1, 0)\n",
      "ax.set_zlim3d(0, 1)\n",
      "ax.set_xlabel('x')\n",
      "ax.set_ylabel('y')\n",
      "ax.set_zlabel('z')"
     ],
     "language": "python",
     "metadata": {},
     "outputs": [
      {
       "metadata": {},
       "output_type": "pyout",
       "prompt_number": 56,
       "text": [
        "<matplotlib.text.Text at 0x7ffd14102210>"
       ]
      },
      {
       "metadata": {},
       "output_type": "display_data",
       "png": "[encoded data removed]",
       "text": [
        "<matplotlib.figure.Figure at 0x7ffd15a7f190>"
       ]
      }
     ],
     "prompt_number": 56
    },
    {
     "cell_type": "markdown",
     "metadata": {},
     "source": [
      "The simplest antenna is a short (total length $l$ much smaller than one wavelength $\\lambda$) dipole antenna, which is shown above as two colinear conductors (e.g., wires or conducting rods). Since they are driven at the small gap between them by a current source (a transmitter), the current in the bottom conductor is 180 deg out of phase with the current in the top conductor. The radiation from a dipole depends on frequency, so we consider a driving current $I$ varying sinusoidally with angular frequency $\\omega = 2 \\pi \\nu$: $$I = I_0 \\cos(\\omega t)~,$$ where $I_0$ is the peak current going into each half of the dipole. It is computationally convenient to replace the trigonometric function $\\cos(\\omega t)$ with its exponential equivalent, the real part of \n",
      "$$e^{-i \\omega t} = \\cos(\\omega t) - i \\sin(\\omega t)$$ so the driving current can be rewritten as $$I = I_0 e^{-i \\omega t}$$ with the implicit understanding that only the real part of $I$ represents this current. The driving current accelerates charges in the antenna conductors, so we can use Larmor's formula to calculate the radiation from the antenna by converting from the language of charges and accelerations to time-varying currents. \n",
      "Recall that electric current is defined as the time derivative of electric charge: \n",
      "$$I \\equiv {d q \\over d t}~.$$ Along a wire, the current is the amount of charge flowing past any point per unit time. For a wire on the $z$-axis \n",
      "$$I = {d q \\over d t} = {d q \\over d z} {d z \\over d t} = {d q \\over d z} v~,$$ where $v$ is the instantaneous flow velocity of the charges. \n",
      "\n",
      "It is a common misconception to believe that the velocities $v$ of individual electrons in a wire are comparable with the speed of light $c$ because electrical do travel down wires at nearly the speed of light. A wire filled with electrons is like a garden hose already filled with an incompressible fluid&#8212;water. When the tap is turned on, water flows from the other end of a full hose almost immediately, even though individual water molecules are moving slowly along the hose. As a specific example, consider a current of 1 ampere flowing through a copper wire of cross section $\\sigma = 1$ mm$^2 = 10^{-6}$ m$^2$. The number density of free electrons is about equal to the number density of copper atoms in the wire, $n \\approx 10^{29}$ m$^{-3}$. In mks units, the charge of an electron is $$-e \\approx 4.80 \\times 10^{-12} {\\rm ~statcoul} \n",
      "\\times {1 {\\rm ~coul} \\over 3 \\times 10^9 {\\rm ~statcoul}} \n",
      "\\approx 1.60 \\times 10^{-19} {\\rm ~coul}$$ One Ampere is one Coulomb per second, so the number $N$ of electrons flowing past any point along the wire in one second is \n",
      "$$N = {I \\over \\vert e \\vert} \\approx \n",
      "{1 {\\rm ~coul~s}^{-1} \\over 1.60 \\times 10^{-19}{\\rm ~coul}} \\approx 6.25 \\times 10^{18}{\\rm ~s}^{-1}$$ The average electron velocity is only $$ v \\approx {N \\over \\sigma n} \n",
      "\\approx { 6.25 \\times 10^{18}{\\rm ~s}^{-1} \\over 10^{-6}{\\rm ~m}^2 \\times 10^{29}{\\rm ~m}^{-3}} \\approx 6 \\times 10^{-5} {\\rm ~m~s}^{-1} \\ll c$$ Thus the nonrelativistic Larmor equation may be used directly to calculate the radiation from a wire. \n",
      "From the derivation of Larmor's formula, recall that \n",
      "$$E_\\bot = {q \\dot{v} \\sin\\theta \\over r c^2}$$ so in the short dipole \n",
      "$$E_\\bot = \\int_{z = -l/2}^{+l/2} {d q \\over d z} d z {\\dot{v} \\sin\\theta \\over r c^2}$$ For a sinusoidal driving current, \n",
      "$$\\dot{v} = -i \\omega v$$ and \n",
      "$$E_\\bot = {-i \\omega \\sin\\theta \\over r c^2} \\int_{-l/2}^{+l/2} {d q \\over d z} v dz$$ \n",
      "$$E_\\bot = {-i \\omega \\sin\\theta \\over r c^2} \\int_{-l/2}^{+l/2} I d z$$ That is, the radiated electric field strength $E_\\bot$ is proportional to the integral of the current distribution along the antenna. The current at the center is just the driving current $I = I_0 e^{-i \\omega t}$ and the current must drop to zero at the ends of the antenna, where the conductivity goes to zero. For a short antenna, we can make the approximation that the current declines linearly from the driving current at the center to zero at the ends: \n",
      "$$I(z) = I_0 e^{- i \\omega t} \\biggl[1 - {\\vert z \\vert \\over (l / 2)} \\biggr]$$ Then \n",
      "$$\\int_{-l/2}^{+l/2} I dz = {I_0 l \\over 2} e^{-i \\omega t}$$ and \n",
      "$$E_\\bot = {-i \\omega \\sin\\theta \\over r c^2} {I_0 l \\over 2} e^{-i \\omega t}$$ Substituting $\\omega = 2 \\pi c / \\lambda$ gives \n",
      "$$E_\\bot = {-i 2 \\pi c \\sin\\theta \\over \\lambda r c^2 } \n",
      "{I_0 l \\over 2} e^{-i \\omega t}$$ $$E_\\bot = {-i \\pi \\sin\\theta \\over c} {I_0 l \\over \\lambda} {e^{ -i \\omega t} \\over r}$$ Since $\\vert\\vec{E_\\bot}\\vert = \\vert\\vec{H_\\bot}\\vert$ (cgs), the time-averaged Poynting flux (power per unit area) is \n",
      "$$\\langle{S}\\rangle = {c \\over 4 \\pi} \\langle E_\\bot^2 \\rangle ,$$ and \n",
      "$$\\langle{S}\\rangle = {c \\over 4 \\pi} \\biggl({I_0 l \\over \\lambda} \\, {\\pi \\over c} \\biggr)^2 {\\sin^2\\theta \\over r^2} \\biggl( {1 \\over 2}\\biggr)$$ because $\\langle \\cos^2 (\\omega t) \\rangle = 1/2$. Note that the radiation from a short dipole has the same polarization and the same doughnut-shaped power pattern (the power pattern is the angular distribution of radiated power, often normalized to unity at the peak) \n",
      "$$\\bbox[border:3px blue solid,7pt]{P \\propto \\sin^2\\theta}\\rlap{\\quad \\rm {(3A1)}}$$  \n",
      "as Larmor radiation from an accelerated charge because all of the charges in the dipole are being accelerated along one line much shorter than one wavelength. From the observer's point of view, the power received depends only on the \n",
      "(perpendicular to the line of sight) length $(l \\sin\\theta)$ of the dipole. Thus the electric field received is proportional to the apparent length of the dipole. The time-averaged total power emitted is obtained by integrating the Poynting flux over the surface area of a sphere of any radius $r \\gg l$ centered on the antenna: \n",
      "$$\\langle P \\rangle = \\int\\langle S \\rangle dA = {c \\over 4 \\pi} \\biggl({I_0 l \\over \\lambda} \\, {\\pi \\over c} \\biggr)^2 \\biggl({1 \\over 2}\\biggr) \\int_{\\phi = 0}^{2\\pi} \\int_{\\theta = 0}^\\pi {\\sin^2\\theta \\over r^2} r \\sin\\theta d \\phi r d\\theta$$ $$\\langle P \\rangle = {c \\over 4 \\pi} \\biggl({I_0 l \\over \\lambda} \\, {\\pi \\over c} \\biggr)^2 \\biggl({1 \\over 2}\\biggr) 2 \\pi \\int_{\\theta = 0}^\\pi \\sin^3\\theta d\\theta$$ Recall that $\\int_0^\\pi \\sin^3\\theta d\\theta = 4/3$, so the time-averaged power radiated by a short dipole is $$\\bbox[border:3px blue solid,7pt]{\\langle P \\rangle = {\\pi^2 \\over 3 c} \\biggl({I_0 l \\over \\lambda}\\biggr)^2 }\\rlap{\\quad \\rm {(3A2)}}~,$$ where $I_0 \\cos (\\omega t)$ is the driving current, $l$ is the total length of the dipole, and $\\lambda$ is the wavelength. \n",
      "Most practical dipoles are half-wave dipoles ($l \\approx \\lambda/2$) because half-wave dipoles are resonant, meaning that they provide a nearly resistive load to the transmitter. When each half of the dipole is $\\lambda/4$ long, the standing-wave current is highest at the center and naturally falls as $\\cos(2 \\pi z / \\lambda)$ to almost zero at the ends of the conductors. \n",
      "\n",
      "The ground-plane vertical shown below is very similar to the dipole. A ground-plane vertical is one half of a dipole above a conducting plane, which is called a \"ground plane\" because historically the conducting plane for vertical antennas was the surface of the Earth. The transmitter is connected between the base of the vertical, which is insulated from the ground, and the ground plane near the base. Many AM broadcast transmitting antennas are tall (at $\\nu \\sim 1$ MHz, $\\lambda \\sim 300$ m and a $\\lambda/4$ vertical antenna is about 75 m high) towers acting as quarter-wave verticals. The conducting ground plane is a mirror that creates the lower half of the dipole as the mirror image of the upper half. Electric fields produced by the vertical must induce currents in the conducting plane that ensure that the horizontal component of the electric field goes to zero on the conductor. This implies that the virtual electric fields from the image vertical must have the same amplitude but be 180 degrees out of phase, exactly as in a half-wave dipole. Consequently the radiation field from a ground-plane vertical is identical to that of a dipole in the half space above the ground plane and zero below the ground plane. \n",
      "![](http://www.cv.nrao.edu/course/astr534/images/gpvert.svg) \n",
      "The ground-plane vertical is just half of a dipole above a conducting plane. The lower half of the dipole is the reflection of the vertical in the mirror provided by the conducting \"ground plane.\" The image vertical is 180 deg out of phase with the real vertical. Above the ground plane, the radiation from the ground-plane vertical is exactly the same as the radiation from the dipole. \n",
      "\n",
      "\n",
      "According to the strict definition of an antenna as a device for converting between electromagnetic waves in space and currents in conductors. The impedance of a transmission line is given by;\n",
      "\n",
      "$$Z = \\frac{Z_{0}}{\\sqrt{1 - \\left( \\frac{f_{c}}{f}\\right)^{2}}} \\qquad \\mbox{(TE modes)}, $$\n",
      "\n",
      "where $f_{c}$ can be found from\n",
      "\n",
      "$$\\omega_{c} = c \\sqrt{\\left(\\frac{n \\pi}{a}\\right)^2 + \\left(\\frac{m \\pi}{b}\\right) ^2}, $$\n",
      "\n",
      "For circular waveguides the TE11 mode dominates\n",
      "\n",
      "$$ \\omega_{c} = c \\frac{\\chi_{11}}{r} = c \\frac{1.8412}{r} $$"
     ]
    },
    {
     "cell_type": "code",
     "collapsed": false,
     "input": [
      "# for the TE10 mode of WR-770 waveguides\n",
      "a = 195.58e-3 \n",
      "b = 97.79e-3\n",
      "n = 1\n",
      "m = 0\n",
      "c = 3e8\n",
      "om_c = c * sqrt((n*pi/a)**2+(m*pi/b)**2)\n",
      "f_c = om_c/(2*pi)\n",
      "print f_c/1e9,'GHz'\n",
      "Z_0 = 377\n",
      "f = 1.42e9\n",
      "Z = Z_0/sqrt(1-(f_c/f)**2)\n",
      "print Z,'ohm'\n",
      "\n",
      "# for circular waveguides\n",
      "r = 73e-3\n",
      "om_c_c = c * (1.8412/r)\n",
      "f_c_c = om_c_c/(2*pi)\n",
      "print f_c_c/1e9,'GHz'\n",
      "Z_0 = 377\n",
      "Z_c = Z_0/sqrt(1-(f_c_c/f)**2)\n",
      "print Z_c,'ohm'"
     ],
     "language": "python",
     "metadata": {},
     "outputs": [
      {
       "output_type": "stream",
       "stream": "stdout",
       "text": [
        "0.766949585847 GHz\n",
        "447.957646375 ohm\n",
        "1.20425786803 GHz\n",
        "711.473874873 ohm\n"
       ]
      }
     ],
     "prompt_number": 39
    },
    {
     "cell_type": "markdown",
     "metadata": {},
     "source": [
      "The only antennas in most radio telescopes are half-wave dipoles and their relatives, quarter-wave ground-plane verticals. The large parabolic reflector of a radio telescope serves only to focus plane waves onto the feed antenna. [The term \"feed\" comes from radar antennas used for transmitting; the \"feed\" feeds transmitter power to the main reflector. Receiving antennas used in radio astronomy work the other way around, and the \"feed\" actually collects radiation from the reflector.] \n",
      "Actual half-wave dipoles, backed by small reflectors about $\\lambda/4$ behind them to focus the dipole pattern in the direction of the main dish, are normally used as feeds at low frequencies ($\\nu < 1$ GHz) or long wavelengths ($\\lambda > 0.3$ m) because of their relatively small size. However, the radiation patterns of half-wave dipoles backed by small reflectors are not well matched to most parabolic dishes, so their performance is less than optimum. \n",
      "\n",
      "At shorter wavelengths, almost all radio-telescope feeds are quarter-wave ground-plane verticals inside waveguide horns. Radiation entering the relatively large (size $> \\lambda$) rectangular or circular aperture of the tapered horn is concentrated into a rectangular or circular waveguide with parallel conducting walls. In the case of the rectangular waveguide shown below, the side walls are separated by slightly over $\\lambda/2$ so that vertical electric fields can travel down the waveguide with low loss. The top and bottom walls are separated by somewhat less than $\\lambda/2$ so only one mode with vertical electric fields can propagate. The $\\lambda/4$ vertical inserted through a small hole in the bottom wall collects most of this vertically polarized radiation and converts it into an electric current that travels down the coaxial cable to the receiver. The backshort wall about $\\lambda/4$ behind the dipole ensures that the dipole sees only radiation coming from the direction of the horn opening. \n",
      "![](http://www.cv.nrao.edu/course/astr534/images/horncoax.svg) \n",
      "Most high-frequency feeds are quarter-wave ground-plane verticals inside waveguide horns. The only true antenna in this figure is the $\\lambda/4$ ground-plane vertical, which converts electromagnetic waves in the waveguide to currents in the coaxial cable extending down from the waveguide. "
     ]
    },
    {
     "cell_type": "heading",
     "level": 2,
     "metadata": {},
     "source": [
      "Radiation Resistance"
     ]
    },
    {
     "cell_type": "markdown",
     "metadata": {},
     "source": [
      "The power flowing through a circuit is $P = V \\times I$, where $V$ is the voltage (defined as energy per unit charge) and $I$ is the current (defined as charge flow per unit time), so $P$ has dimensions of energy per unit time. The physicist George Simon Ohm observed that the current flowing through most materials is proportional to the applied voltage, so many (but not all) objects have a well-defined defined by $R = V / I$ (Ohm's law). For them, $P = V \\times I = I^2 R = V^2 / R$. \n",
      "From Ohm's law for time-varying currents, \n",
      "$$\\langle P \\rangle = \\langle I^2 \\rangle R$$ If $I = I_0 \\cos(\\omega t)$, $$\\langle P \\rangle = {I_0^2 R \\over 2}$$ The radiation resistance of an antenna is defined by \n",
      "$$\\bbox[border:3px blue solid,7pt]{R \\equiv {2 \\langle P \\rangle \\over I_0^2}}\\rlap{\\quad \\rm {(3A3)}}$$ \n",
      "For our short dipole, the radiation resistance is \n",
      "$$R = {2 \\pi^2 \\over 3 c} \\biggl( {l \\over \\lambda} \\biggr)^2$$ \n",
      "\n",
      "Example: A \"half-wave\" dipole has length $l = \\lambda / 2$. This is the length of a resonant dipole antenna. Resonant antennas are used in most real applications because the impedance of a resonant antenna is resistive; nonresonant antennas have large capacitive or inductive reactances as well. A half-wave dipole doesn't strictly satisfy our criterion $l \\ll \\lambda$ for being \"short,\" so the current distribution along the dipole is actually closer to sinusoidal than linear and our calculated radiation resistance will not be exact. Proceeding nonetheless to estimate the radiation resistance of a half-wave dipole, \n",
      "$$R \\approx {2 \\pi^2 \\over 3\\times 3\\times 10^{10}{\\rm ~cm~s} ^{-1}} \\biggl({1 \\over 2}\\biggr)^2 \\approx 5.5 \\times 10^{-11}{\\rm ~s~cm}^{-1}$$ Engineers and real test instruments use the mks \"Ohm\" (symbol $\\Omega$) as the unit of resistance. The conversion factor is 1 $\\Omega$ = $(10^{-11} / 9)$ s cm$^{-1}$, so \n",
      "$$R \\approx 5.5 \\times 10^{-11}{{\\rm s} \\over {\\rm cm}} {9 {\\rm ~cm} \\over 10^{-11} {\\rm ~s}} ~\\Omega \\approx 50 ~\\Omega$$ [The actual radiation resistance of a half-wave dipole in free space is about 73 $\\Omega$.] \n",
      "For a given driving current, a ground-plane vertical of height $l/2$ emits exactly like a dipole of length $l$ above the ground plane and zero below the ground plane. Thus the total power emitted by the vertical is half the power emitted by the dipole, and the radiation resistance of the vertical is half the radiation resistance of the dipole. \n",
      "\n",
      "The radiation resistance $R_0$ of free space can be obtained from the relations $$\\vert \\vec{S} \\vert = {c \\over 4 \\pi} E^2 {\\rm ~\\quad and \\quad~} P = {V^2 \\over R}~.$$ Since the electric field $E$ is just the voltage per unit length $V / l$ and the flux is the power per unit area $l^2$, $$\\vert \\vec{S} \\vert = { c V^2 \\over 4 \\pi l^2} = {V^2 \\over R_0 l^2}$$ $$ R_0 = {4 \\pi \\over c} = {4 \\pi \\over 3 \\times 10^{10} {\\rm ~cm~s}^{-1}}$$ Converting to mks units yields the radiation resistance of space in Ohms: $$ R_0 = {4 \\pi \\over 3 \\times 10^{10} {\\rm ~cm~s}^{-1} \\times {1/9}\\times 10^{-11} {\\rm ~sec~cm}^{-1}~\\Omega^{-1}} = 120 \\pi ~\\Omega \\approx 377 ~\\Omega~.$$ \n",
      "Since a black hole is a perfect absorber of radiation, its impedance must also be $120 \\pi ~\\Omega$ to match that of free space. A black hole spinning in an external magnetic field can generate electrical power with a voltage/current ratio of $120 \\pi ~\\Omega$, and this process may be important in powering quasars (see Blandford &amp; Znajek 1977, MNRAS, 179, 433). \n"
     ]
    },
    {
     "cell_type": "heading",
     "level": 2,
     "metadata": {},
     "source": [
      "The Power Gain of a Transmitting Antenna"
     ]
    },
    {
     "cell_type": "markdown",
     "metadata": {},
     "source": [
      "The power gain $G(\\theta,\\,\\phi)$ of a transmitting antenna is defined as the power transmitted per unit solid angle in direction $(\\theta,\\,\\phi)$ divided by the power transmitted per unit solid angle from an isotropic antenna driven by a transmitter supplying the same total power. Frequently the value of $G$ is expressed logarithmically in units of decibels (dB): \n",
      "$$G({\\rm dB}) \\equiv 10 \\times \\log_{10}(G)$$ \n",
      "For a lossless antenna, energy conservation requires that the gain averaged over all directions be \n",
      "$$\\langle G \\rangle \\equiv {\\int_{\\rm sphere} G d \\Omega \\over \\int_{\\rm sphere } d \\Omega} = {4 \\pi \\over 4 \\pi}$$ or $$\\bbox[border:3px blue solid,7pt]{\\langle G \\rangle = 1}\\rlap{\\quad \\rm {(3A4)}}$$ \n",
      "$$ \\int_{\\rm sphere} G d \\Omega = \\int_{\\rm sphere} 1 d \\Omega = 4 \\pi~$$ for any lossless antenna. **_Different lossless antennas may radiate with different directional patterns, but they cannot alter the total amount of power radiated._** Consequently, the gain of a lossless antenna depends only on the angular distribution of radiation from that antenna. In general, an antenna having peak gain $G_{\\rm max}$ must beam most of its power into a solid angle $\\Delta \\Omega$ such that \n",
      "$$\\Delta \\Omega \\approx {4 \\pi \\over G _{\\rm max}}~.$$ Thus the higher the gain, the narrower the beam or power pattern. \n",
      "\n",
      "\n",
      "Example: What is the power gain of a short dipole? It is sufficient to recall only the angular dependence of the short-dipole power pattern $$\\langle S \\rangle \\propto \\sin^2\\theta~,$$ where $\\theta$ is the angle from the dipole axis. Thus $$G \\propto \\sin^2\\theta = G_0 \\sin^2\\theta~.$$ The maximum gain $G_0$ is determined by energy conservation: \n",
      "$$\\int_{\\rm sphere} G d\\Omega = \\int_{\\phi = 0}^{2\\pi} \\int_{\\theta = 0}^\\pi G_0 \\sin^2\\theta d\\theta \\sin\\theta d\\phi = 4 \\pi~.$$ $$2 \\pi G_0 \\int_0^\\pi \\sin^3\\theta d \\theta = 4 \\pi ~.$$ Recall that $\\int_0^\\pi \\sin^3\\theta d \\theta = 4/3$ so \n",
      "$$G_0 = {4 \\pi \\over 2 \\pi}{3 \\over 4} = {3 \\over 2}$$ and \n",
      "$$G(\\theta, \\phi) = {3 \\sin^2\\theta \\over 2} ~.$$ Expressed in dB, the maximum gain $G_0$ of a short dipole is $$G_0 = 10 \\log_{10}(3/2) \\approx 1.76{\\rm ~dB}.$$ \n",
      "Note that $G(\\theta, \\phi)$ is independent of the antenna length in wavelengths so long as $l \\ll \\lambda$ because the short-dipole power pattern is independent of $l$. Varying $l \\ll \\lambda$ affects only the radiation resistance. \n"
     ]
    },
    {
     "cell_type": "heading",
     "level": 2,
     "metadata": {},
     "source": [
      "The Effective Area of a Receiving Antenna"
     ]
    },
    {
     "cell_type": "markdown",
     "metadata": {},
     "source": [
      "How can we characterize antennas used for receiving, as in radio astronomy, rather than for transmitting? The receiving counterpart of transmitting power gain is the effective area or effective collecting area of an antenna. \n",
      "\n",
      "Imagine an ideal antenna that collects all of the radiation falling on it from a distant point source and converts it to electrical power&#8212;a \"rain gauge\" for collecting photons. The total spectral power that it collects will be the product of its geometric area $A$ and the incident spectral power per unit area, or flux density $S$. By analogy, if any real antenna collects spectral power $P_\\nu$, its \n",
      "effective area $$\\bbox[border:3px blue solid,7pt]{ A_{\\rm e} \\equiv {P_\\nu \\over S_{\\rm (matched)}}}\\rlap{\\quad \\rm {(3A5)}}~,$$ \n",
      "where $S_{\\rm (matched)}$ is the flux density in the \"matched\" polarization. \n",
      "What does matched polarization mean? Any electromagnetic wave can be decomposed into two orthogonal polarized components. For example, the transverse electric field can be resolved into horizontal and vertical components, or horizontal and vertical linear polarizations. If the horizontal and vertical electric fields are equal in amplitude and $90^\\circ$ out of phase, the radiation is circularly polarized Any radio wave can also be decomposed into left- and right-circular polarizations. If the wave is essentially random (noise generated by blackbody radiation for example), the two orthogonal components will vary rapidly in intensity but have equal powers when averaged over long times. Such radiation is called unpolarized. Thus for an \n",
      "source, \n",
      "$$S_{\\rm (matched)} = {S \\over 2} ~.$$ Blackbody radiation is unpolarized. Most radio astronomical sources are unpolarized or nearly so. \n",
      "Any antenna with a single output collects only one of the two polarizations from an electromagnetic wave. For example, a linear dipole antenna collects radiation only from the linear polarization whose electric field is parallel to the antenna wires. Electric fields perpendicular to the dipole antenna do not produce currents in the antenna, so the linear dipole is completely insensitive to the linear polarization perpendicular to its wires. A pair of crossed dipoles is needed to collect power from both orthogonal polarizations simultaneously. \n",
      "Just as energy conservation implies that all lossless transmitting antennas have the same average power gain, all lossless receiving antennas have the same average collecting area. This average collecting area can be calculated via another thermodynamic thought experiment. \n",
      "![](http://www.cv.nrao.edu/course/astr534/images/antincav.svg) \n",
      "A cavity in thermodynamic equilibrium at temperature $T$ containing a resistor $R$ is coupled to an antenna, also at temperature $T$, through a filter passing frequencies in the range $\\nu$ to $\\nu + d \\nu$. \n",
      "Imagine an antenna inside a cavity in full thermodynamic equilibrium at temperature $T$ connected through a transmission line to a matched resistor in a second cavity at the same temperature. Suppose further that the connection contains a filter that passes only a narrow range of frequencies between $\\nu$ and $\\nu + d \\nu$. Since this entire system is in thermodynamic equilibrium, no net power can flow between the antenna and the resistor. Otherwise, one cavity would heat up and the other would cool down, in violation of the second law of thermodynamics. Thus the total spectral power from all directions collected by the antenna \n",
      "$$P_\\nu = A_{\\rm e} S_{\\rm (matched)} = A_{\\rm e} {S \\over 2} = \\int_{4\\pi} A_{\\rm e}(\\theta,\\phi) {B_\\nu \\over 2} d\\Omega$$ must equal the Nyquist spectral power $P_\\nu = kT$ produced by the resistor. Using the Rayleigh-Jeans approximation \n",
      "$$B_\\nu = {2 k T \\over \\lambda^2}$$ gives $$P_\\nu = {2 k T \\over 2 \\lambda^2} \\int_{4 \\pi} A_{\\rm e} d \\Omega = k T $$ $$\\int_{4 \\pi} A_{\\rm e} d \\Omega = \\lambda^2$$ \n",
      "The average collecting area is defined by $$\\langle A_{\\rm e} \\rangle \\equiv {\\int_{4 \\pi} A_{ \\rm e} d \\Omega \\over \\int_{4 \\pi} d \\Omega }~.$$ \n",
      "\n",
      "The effective collecting area of a receiving antenna is independent of its radiation environment, so this result applies for any type of radiation, not just blackbody radiation. Without using Maxwell's equations we have obtained the remarkable result true for \n",
      "all lossless antennas: $$\\bbox[border:3px blue solid,7pt]{\\langle A_{\\rm e} \\rangle = {\\lambda^2 \\over 4 \\pi}}\\rlap{\\quad \\rm {(3A6)}}$$ \n",
      "\n",
      "Any antenna, from a short dipole to the 100-m diameter Green Bank Telescope, has the same average collecting area $\\langle A_{\\rm e} \\rangle$ that depends only on wavelength. \n",
      "In the case of an isotropic antenna, the effective collecting area in any direction equals the average collecting area: $$A_{\\rm e}(\\theta, \\phi) = \\langle A_{\\rm e} \\rangle = {\\lambda^2 \\over 4 \\pi}$$ Consequently, a nondirectional antenna operating at a very short wavelength $\\lambda$ will have a very small effective collecting area and poor sensitivity for reception. For this reason, most satellite broadcast services, GPS or satellite FM radio for example, transmit at relatively long wavelengths (10 to 20 cm). Likewise, practical radio telescopes can be constructed from arrays of dipoles at long wavelengths ($\\lambda > 1$ m) but not at short wavelengths because the number of dipoles needed to produce useful collecting areas would be too large. \n"
     ]
    },
    {
     "cell_type": "heading",
     "level": 2,
     "metadata": {},
     "source": [
      "Reciprocity Theorems"
     ]
    },
    {
     "cell_type": "markdown",
     "metadata": {},
     "source": [
      "Many antenna properties are the same for both transmitting and receiving. It is often easier to calculate the gain of a transmitting antenna than the collecting area of a receiving antenna, and it is often easier to measure the receiving power pattern than to measure the transmitting power pattern of a large radio telescope. Thus this receiving/transmitting \"reciprocity\" greatly simplifies antenna calculations and measurements. Reciprocity can be understood via Maxwell's equations or by thermodynamic arguments. \n",
      "Burke &amp; Smith (1997) state the electromagnetic case for reciprocity clearly: \"An antenna can be treated either as a receiving device, gathering the incoming radiation field and conducting electrical signals to the output terminals, or as a transmitting system, launching electromagnetic waves outward. These two cases are equivalent because of time reversibility: the solutions of Maxwell's equations are valid when time is reversed.\" \n",
      "The \n",
      "strong reciprocity theorem \n",
      "\n",
      "If a voltage is applied to the terminals of an antenna A and the current is measured at the terminals of another antenna B, then an equal current (in both amplitude and phase) will appear at the terminals of A if the same voltage is applied to B. \n",
      "can be formally derived from Maxwell's equations [see a partial derivation in Rohlfs &amp; Wilson Section 5.4] or by network analysis [see Kraus \"Antennas\", p. 252]. \n",
      "![](http://www.cv.nrao.edu/course/astr534/images/strecip.svg) \n",
      "The strong reciprocity theorem implies that the transmitter voltages $V_{\\rm A}$ and $V_{\\rm B}$ are related to the receiver currents $I_{\\rm A}$ and $I_{\\rm B}$ by \n",
      "$${V_{\\rm A} \\over I_{\\rm B}} = {V_{\\rm B} \\over I_{\\rm A}}$$ for any pair of antennas $A$ and $B$. \n",
      "\n",
      "\n",
      "\n",
      "For most radio astronomical applications, we are not concerned with the detailed phase relationships of voltages and currents, and we can use a \n",
      "weak reciprocity theorem that relates the angular dependences of the transmitting power pattern and the receiving collecting area of any antenna: \n",
      "\n",
      "The power pattern of an antenna is the same for transmitting and receiving. \n",
      "\n",
      "$$\\bbox[border:3px blue solid,7pt]{G(\\theta, \\phi) \\propto A_{\\rm e}(\\theta, \\phi)}\\rlap{\\quad \\rm {(3A7)}}$$ \n",
      "\n",
      "The weak reciprocity theorem can be proven by another simple thermodynamic thought experiment: An antenna is connected to a matched load inside a cavity initially in equilibrium at temperature $T$. The antenna simultaneously receives power from the cavity walls and transmits power generated by the resistor. The total power transmitted in all directions must equal the total power received from all directions since no net power can be transferred between the antenna and the resistor; otherwise the resistor would not remain at temperature $T$. Moreover, in any direction, the power received and transmitted by the antenna must be the same, else the cavity wall in directions where the transmitted power was greater than the received power would rise in temperature and the cavity wall in directions of lower transmitted/received power ratio would cool, leading to a violation of the second law of thermodynamics. \n",
      "![](http://www.cv.nrao.edu/course/astr534/images/wkrecip.svg) \n",
      "The weak reciprocity theorem states that the transmitting and receiving power patterns of an antenna cannot differ as shown here, without violating the second law of thermodynamics. \n",
      "The constant of proportionality relating $G$ and $A_{\\rm e}$ can be derived from our earlier results for an isotropic antenna \n",
      "$$\\langle A_{\\rm e} \\rangle = {\\lambda^2 \\over 4 \\pi} {\\rm \\qquad and \\qquad} \\langle G \\rangle = 1$$ \n",
      "\n",
      "Thus energy conservation and the weak reciprocity theorem imply $$\\bbox[border:3px blue solid,7pt]{A_{\\rm e}(\\theta, \\phi) = {\\lambda^2 G(\\theta, \\phi) \\over 4 \\pi}}\\rlap{\\quad \\rm {(3A8)}}$$ for any antenna. This extremely useful equation lets us compute the receiving power pattern from the transmitting power pattern and vice versa. \n",
      "\n",
      "Example: We can use our calculation of the transmitting power pattern of a short dipole to calculate its effective collecting area when used as a receiving antenna: $$A_{\\rm e}(\\theta,\\phi) = {\\lambda^2 G(\\theta,\\phi) \\over 4 \\pi} = {\\lambda^2 \\over 4 \\pi} {3 \\sin^2\\theta \\over 2}$$ $$A_{\\rm e} = {3 \\lambda^2 \\sin^2 \\theta \\over 8 \\pi}$$ \n",
      "\n",
      "\n",
      "Example: What is the power per unit bandwidth $P_\\nu$ collected by a short dipole at $\\nu = 10$ GHz broadside to ($\\theta = 90^\\circ$) the Sun, a thermal source whose flux density is $S \\approx 1.2 \\times 10^6$ Jy? \n",
      "The broadside ($\\sin\\theta = 1$) collecting area of the short dipole is \n",
      "$$A_{\\rm e} = {3 \\lambda^2 \\over 8 \\pi}$$ $$\\lambda = {c \\over \\nu} = {3 \\times 10^8 {\\rm ~m~s}^{-1} \\over 10^{10} {\\rm ~Hz}} = 0.03{\\rm ~m}$$ so $$A_{\\rm e} = {3 \\times (0.03{\\rm ~m})^2 \\over 8 \\pi} = 1.07 \\times 10^{-4}{\\rm ~m}^2 \\approx 1{\\rm ~cm}^2~.$$ \n",
      "Clearly, dipoles or other nearly isotropic antennas have very small collecting areas at short wavelengths. For an unpolarized source, $$P_\\nu = A_{\\rm e} S_{\\rm (matched)} = {A_{\\rm e} S \\over 2}$$ $$P_\\nu = 1.07 \\times 10^{-4} {\\rm ~m}^2 \\times {1.2 \\times 10^6 {\\rm ~Jy} \\over 2} \\times {10^{-26} {\\rm ~W~m}^{-2}{\\rm ~Hz}^{-1} \\over 1{\\rm ~Jy}}$$ $$P_\\nu = 6.4 \\times 10^{-25} {\\rm ~W~Hz}^{-1}$$ \n",
      "Arrays of dipoles do make sense at long wavelengths. For example, the Long Wavelength Array (LWA) for $\\nu =$ 20 to 80 MHz ($\\lambda \\approx$ 4 to 15 m) will consist of 53 stations, each a 100 m $\\times$ 100 m array of crossed dipoles. The effective collecting area of the LWA will be up to $A_{\\rm e} = 4 \\times 10^6$ m$^2$ at $\\lambda = 15$ m. \n",
      "<img alt=\"LWA design figure\"       src=\"http://www.cv.nrao.edu/course/astr534/images/LWAdesign.gif\" style=\"width: 600px;\"><br>     <span style=\"font-family: verdana; font-style: italic;\"> \n",
      "The proposed Long-Wavelength Array of crossed dipoles. \n",
      "\n",
      "<img alt=\"LWDA first 8 dipoles       near VLA\" src=\"http://www.cv.nrao.edu/course/astr534/images/LWDA.jpg\" style=\"width: 600px;\"> \n",
      "Eight test dipoles of the LWDA (Long-Wavelength Development Array) on the VLA site. Image credit \n"
     ]
    },
    {
     "cell_type": "heading",
     "level": 2,
     "metadata": {},
     "source": [
      "Antenna Temperature"
     ]
    },
    {
     "cell_type": "markdown",
     "metadata": {},
     "source": [
      "A convenient practical unit for the power output per unit frequency from a receiving antenna is the antenna temperature $T_{\\rm A}$. Antenna temperature has nothing to do with the physical temperature of the antenna as measured by a thermometer; it is only the temperature of a matched resistor whose thermally generated power per unit frequency equals that produced by the antenna. It is widely used because: \n",
      "\n",
      "\n",
      "1. 1 K of antenna temperature is a conveniently small power. $T_{\\rm A} = 1$ K corresponds to $P_\\nu = k T_{\\rm A} = 1.38 \\times 10^{-23} {\\rm ~J~K}^{-1} \\times 1 {\\rm ~K} = 1.38 \\times 10^{-23} {\\rm ~W~Hz}^{-1}$. \n",
      "2. It can be calibrated by a direct comparison with hot and cold (another word for matched resistors) connected to the receiver input. \n",
      "3. The units of receiver noise are also K, so comparing the signal in K with the receiver noise in K makes it easy to decide if a signal will be detectable. \n",
      "$$\\bbox[border:3px blue solid,7pt]{T_{\\rm A} \\equiv {P_\\nu \\over k} }\\rlap{\\quad \\rm {(3A9)}}$$ An unpolarized point source of flux density $S$ increases the antenna temperature by $$\\bbox[border:3px blue solid,7pt]{T_{\\rm A} = {P_\\nu \\over k} = {A_{\\rm e} S \\over 2 k} }\\rlap{\\quad \\rm {(3A10)}}~$$ where $A_{\\rm e}$ is the effective collecting area. It is often convenient to express the point-source sensitivity of a radio telescope in units of \"Kelvins per Jansky\" rather than in units of area (m$^2$). The effective area corresponding to a sensitivity of $1{\\rm ~K~Jy}^{-1}$ is $$A_{\\rm e} = {2 k T \\over S} = {2 \\cdot 1.38065 \\times 10^{-23} {\\rm ~J~K}^{-1} \\cdot 1{\\rm ~K}\\over 10^{-26} {\\rm ~W~m}^{-2} {\\rm ~Hz}^{-1}} = 2761 {\\rm ~m}^2~.$$ \n",
      "\n",
      "Example: What is the increase in the antenna temperature of our short dipole produced by thermal emission from the Sun at $\\nu = 10$ GHz? \n",
      "$$P_\\nu = 6.4 \\times 10^{-25} {\\rm ~W~Hz}^{-1}$$ so $$T_{\\rm A} = {6.4 \\times 10^{-25} {\\rm ~W~Hz}^{-1} \\over 1.38 \\times 10^{-23} {\\rm ~J~K}^{-1}} \\approx 0.046 {\\rm ~K}$$ \n"
     ]
    },
    {
     "cell_type": "heading",
     "level": 2,
     "metadata": {},
     "source": [
      "Beam Solid Angle"
     ]
    },
    {
     "cell_type": "markdown",
     "metadata": {},
     "source": [
      "The beam solid angle $\\Omega_{\\rm A}$ of a lossless antenna is defined as $$\\bbox[border:3px blue solid,7pt]{\\Omega_{\\rm A} \\equiv \\int_{4 \\pi} P_{\\rm n} (\\theta, \\phi) d \\Omega}\\rlap{\\quad \\rm {(3A11)}}$$ where $P_{\\rm n} (\\theta, \\phi) $ is the power pattern normalized to unity maximum: $$P_{\\rm n} = {G(\\theta, \\phi) \\over G_{\\rm max}}~.$$ $$\\Omega_{\\rm A} = {1 \\over G_{\\rm max}} \\int_{4 \\pi} G d \\Omega = {4 \\pi \\over G_{\\rm max}}$$ \n",
      "The beam solid angle is a useful parameter for estimating the antenna temperature produced by a compact source covering solid angle $\\Omega_{\\rm s}$ and having uniform brightness temperature $T_{\\rm B}$. \"Compact\" means that the source is much smaller than the beam so that the variation of $P_{\\rm n}$ is small across the source. The power per unit bandwidth received from the source by the antenna pointing at it is $$P_\\nu = \\int_{4 \\pi} A_{\\rm e}(\\theta, \\phi) {B_\\nu \\over 2} d \\Omega$$ $$P_\\nu \\approx {\\lambda^2 G_{\\rm (max)} k T_{\\rm B} \\Omega_{\\rm s} \\over 4 \\pi \\lambda^2} = k T_{\\rm B} {\\Omega_{\\rm s} \\over \\Omega_{\\rm A}}~.$$ Thus the antenna temperature $T_{\\rm A} = P_\\nu / k$ is $$T_{\\rm A} \\approx T_{\\rm B} {\\Omega_{\\rm s} \\over \\Omega_{\\rm A}}~.$$ Stated in words, the antenna temperature equals the source brightness temperature multiplied by the fraction of the beam solid angle filled by the source. A $T_{\\rm B} = 10^4$ K source covering 1% of the beam solid angle will add 100 K to the antenna temperature. \n"
     ]
    },
    {
     "cell_type": "heading",
     "level": 2,
     "metadata": {},
     "source": [
      "Main Beam Solid Angle"
     ]
    },
    {
     "cell_type": "markdown",
     "metadata": {},
     "source": [
      "The main beam of an antenna is defined as the region containing the principal response out to the first zero; responses outside this region are called sidelobes or, very far from the main beam, stray radiation. The main beam solid angle $ \\Omega_{\\rm MB}$ is defined as $$ \\bbox[border:3px blue solid,7pt]{\\Omega_{\\rm MB} \\equiv \\int_{\\rm MB} P_{\\rm n} (\\theta, \\phi) d \\Omega}\\rlap{\\quad \\rm {(3A12)}}$$ \n",
      "The fraction of the total beam solid angle inside the main beam is called the main beam efficiency or, loosely, the beam efficiency $$\\bbox[border:3px blue solid,7pt]{\\eta_{\\rm B} \\equiv {\\Omega_{\\rm MB} \\over \\Omega_{\\rm A}}}\\rlap{\\quad \\rm {(3A13)}}$$ \n",
      "\n"
     ]
    }
   ],
   "metadata": {}
  }
 ]
}