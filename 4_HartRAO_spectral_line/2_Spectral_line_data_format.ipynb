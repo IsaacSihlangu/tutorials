{
 "cells": [
  {
   "cell_type": "markdown",
   "metadata": {},
   "source": [
    "# FITS - Flexible Image Transport System\n",
    "\n",
    "A basic tutorial on pyfits can be found here:\n",
    "https://pythonhosted.org/pyfits/index.html#quick-tutorial\n",
    "\n",
    "A basic fits file will consist of a *header* and a data *table*. The data tables can be an image, or a spectrum. The header will have *keywords* that give details of the observation such as date and time, telescope used, dimensions and descriptions of the data tables etc.\n",
    "\n",
    "First we import the pyfits module.  I am using it as part of a package called astropy (http://www.astropy.org/) but it is also available as a stand-alone package from the above website.  The functionality is basically the same but there may be small differences in keywords."
   ]
  },
  {
   "cell_type": "code",
   "execution_count": 6,
   "metadata": {
    "collapsed": false
   },
   "outputs": [],
   "source": [
    "from astropy.io import fits as pyfits\n",
    "import os\n",
    "import matplotlib.pyplot as plt\n",
    "%matplotlib inline"
   ]
  },
  {
   "cell_type": "code",
   "execution_count": 7,
   "metadata": {
    "collapsed": false
   },
   "outputs": [],
   "source": [
    "hdulist = pyfits.open('data/G0096_67/2006d272/2006d272_16h21m02s_Spec_sharmila_G9.62+0.20.fits')\n"
   ]
  },
  {
   "cell_type": "markdown",
   "metadata": {},
   "source": [
    "pyfits.open returns an HDUList object, which will consist of a list of **Header Data Units**."
   ]
  },
  {
   "cell_type": "code",
   "execution_count": 8,
   "metadata": {
    "collapsed": false
   },
   "outputs": [
    {
     "data": {
      "text/plain": [
       "[<astropy.io.fits.hdu.image.PrimaryHDU at 0x10a8e4510>,\n",
       " <astropy.io.fits.hdu.table.BinTableHDU at 0x10a913dd0>,\n",
       " <astropy.io.fits.hdu.table.BinTableHDU at 0x10a91b690>,\n",
       " <astropy.io.fits.hdu.table.BinTableHDU at 0x10a921090>]"
      ]
     },
     "execution_count": 8,
     "metadata": {},
     "output_type": "execute_result"
    }
   ],
   "source": [
    "hdulist"
   ]
  },
  {
   "cell_type": "code",
   "execution_count": 9,
   "metadata": {
    "collapsed": false
   },
   "outputs": [
    {
     "name": "stdout",
     "output_type": "stream",
     "text": [
      "ls: *.fits: No such file or directory\r\n"
     ]
    }
   ],
   "source": [
    "ls *.fits"
   ]
  },
  {
   "cell_type": "code",
   "execution_count": 10,
   "metadata": {
    "collapsed": false
   },
   "outputs": [
    {
     "name": "stdout",
     "output_type": "stream",
     "text": [
      "Filename: data/G0096_67/2006d272/2006d272_16h21m02s_Spec_sharmila_G9.62+0.20.fits\n",
      "No.    Name         Type      Cards   Dimensions   Format\n",
      "0    PRIMARY     PrimaryHDU      41   ()              \n",
      "1    04.5S       BinTableHDU     60   1R x 13C     [1D, 1D, 1D, 8A, 1D, 8A, 1D, 27A, 1D, 1D, 28A, 1D, 1D]   \n",
      "2    Spectra     BinTableHDU     30   1025R x 3C   [1E, 1E, 1E]   \n",
      "3    Chart       BinTableHDU     37   374R x 3C    [1D, 1D, 1D]   \n"
     ]
    }
   ],
   "source": [
    "hdulist.info()"
   ]
  },
  {
   "cell_type": "markdown",
   "metadata": {},
   "source": [
    "There are 4 HDUs. We can have a look at what is in each hdu. Note that python indexes count from 0.\n",
    "\n",
    "If you have had a look at the continuum driftscan observations, you will note that the specral line observation files look a little different."
   ]
  },
  {
   "cell_type": "code",
   "execution_count": 11,
   "metadata": {
    "collapsed": false
   },
   "outputs": [
    {
     "data": {
      "text/plain": [
       "SIMPLE  =                    T                                                  \n",
       "BITPIX  =                    8                                                  \n",
       "NAXIS   =                    0                                                  \n",
       "EXTEND  =                    T                                                  \n",
       "DATE    = '2006-09-29T16:21:02' / file creation date (YYYY-MM-DDThh:mm:ss UT)   \n",
       "COMMENT information about the object, from scheduler task                       \n",
       "OBJECT  = 'G9.62+0.20'         / Name of object                                 \n",
       "LONGITUD=     270.816583333333 / Longitude of object                            \n",
       "LATITUDE=    -20.5313611111111 / Latitude of object                             \n",
       "EQUINOX =                1950.                                                  \n",
       "COMMENT information about the scan, from scheduler task                         \n",
       "OBSERVER= 'S. GOEDHART'        / Principal Investigator                         \n",
       "OBSLOCAL= 'sharmila'           /  On-site observer                              \n",
       "PROJNAME= '6.7-GHz methanol maser monitoring periodic sources' / Short name for \n",
       "PROPOSAL= '2003.005'           / Observing proposal ID                          \n",
       "COMMENT information about the antenna                                           \n",
       "TELESCOP= 'HartRAO 26m Antenna' / Telescope name                                \n",
       "UPGRADE = 'Surface upgrade completed !!' / Antenna surface status               \n",
       "FOCUS   =         7.8759765625 / Sub-reflector focus                            \n",
       "TILT    =          -0.72265625 / Sub-reflector tilt                             \n",
       "TAMBIENT=     295.103716186523 / [K] Ambient temperature                        \n",
       "PRESSURE=                866.4 / [mbar] Atmospheric pressure                    \n",
       "HUMIDITY=     20.7763667297363 / [%] Humidity                                   \n",
       "WINDSPD =           1.46484375 / [m/s] Wind Speed                               \n",
       "SCANTYPE= 'SPECTRUM'           / scantype of observation                        \n",
       "COMMENT Information about the spectrum                                          \n",
       "DATE-OBS= '2006-09-29T16:20:38' / Date of start of observation                  \n",
       "FEEDSYS = 'syparm/feed/04.5S'  / microwave feed system                          \n",
       "SIMULATE=                    0 / Simulated ? TRUE=non-0 FALSE=0                 \n",
       "RESTFREQ=          6668518000. / [Hz] Line Rest Frequency                       \n",
       "BANDWDTH=             1000000. / [Hz] requested bandwidth                       \n",
       "SPBW    =             1000000. / [Hz] Spectrometer bandwidth                    \n",
       "SPVLSR  =                  2.5 / [km/s] Centre Vlsr                             \n",
       "SPCHAN  =                 1024 / Number of spectrometer channels                \n",
       "SPFS    =              500000. / [Hz] Frequency-switching offset                \n",
       "SPPSLON =                   0. / [Deg] Position-switching offset in Longitude   \n",
       "SPPSLAT =                   0. / [Deg] Position-switching offset in Latitude    \n",
       "SPTIME  =                  20. / [s] Integration time per scan                  \n",
       "SPPOINT =                    1 / Offset pointing? TRUE=non-0 FALSE=0            \n",
       "OFFSETNS=                    1 / Offset by HHPBW NORTH (+1) or SOUTH (-1)?      \n",
       "OFFSETEW=                    0 / Offset by HHPBW EAST (+1) or WEST (-1)?        "
      ]
     },
     "execution_count": 11,
     "metadata": {},
     "output_type": "execute_result"
    }
   ],
   "source": [
    "hdu0 = hdulist[0]\n",
    "hdu0.header"
   ]
  },
  {
   "cell_type": "markdown",
   "metadata": {},
   "source": [
    "The primary HDU contains all the details of the observation.\n",
    "\n",
    "Not that scantype is 'spectrum'.\n",
    "\n",
    "There are additional keywords that tell us about the observation.\n",
    "The spectrometer bandwidth is 1 MHz and there are 1024 channels.  The observation is frequency switched with an offset of 0.5 MHz.  There is no position switching being done.  The total integration time is 450 seconds.  This is not a pointing observation."
   ]
  },
  {
   "cell_type": "code",
   "execution_count": 12,
   "metadata": {
    "collapsed": false
   },
   "outputs": [
    {
     "data": {
      "text/plain": [
       "XTENSION= 'BINTABLE'           / binary table extension                         \n",
       "BITPIX  =                    8 / 8-bit bytes                                    \n",
       "NAXIS   =                    2 / 2-dimensional binary table                     \n",
       "NAXIS1  =                  143 / width of table in bytes                        \n",
       "NAXIS2  =                    1 / number of rows in table                        \n",
       "PCOUNT  =                    0 / size of special data area                      \n",
       "GCOUNT  =                    1 / one data group (required keyword)              \n",
       "TFIELDS =                   13 / number of fields in each row                   \n",
       "EXTNAME = '04.5S   '           / name of this binary table extension            \n",
       "FEEDTYPE= 'Diagonal'           / Feedtype                                       \n",
       "BMOFFHA =               -0.512 / Beam offset in HA                              \n",
       "BMOFFDEC=                 0.01 / Beam offset in Dec                             \n",
       "HPBW    =                0.116 / Half-power beamwidth in degrees                \n",
       "FNBW    =                 0.27 / Beamwidth to first nulls in degrees            \n",
       "SNBW    =                 0.54 / Beamwidth to second nulls, in degrees          \n",
       "DICHROIC= '(Off)   '           / Dichroic reflector position ON or OFF          \n",
       "PHASECAL= '(Off)   '           / Mark 4 VLBI phase calibration ON or OFF        \n",
       "NOMTSYS =                  45. / [K] Nominal minimum system temperature         \n",
       "TTYPE1  = 'PSS_Value'          / label for field                                \n",
       "TFORM1  = '1D      '           / format of field                                \n",
       "TDISP1  = 'D11.4   '                                                            \n",
       "TUNIT1  = 'Jy/K    '                                                            \n",
       "TTYPE2  = 'PSS_Sigma'          / label for field                                \n",
       "TFORM2  = '1D      '           / format of field                                \n",
       "TDISP2  = 'D11.4   '                                                            \n",
       "TUNIT2  = 'Jy/K    '                                                            \n",
       "TTYPE3  = 'PSS_Freq'           / label for field                                \n",
       "TFORM3  = '1D      '           / format of field                                \n",
       "TDISP3  = 'D12.5   '                                                            \n",
       "TUNIT3  = 'MHz     '                                                            \n",
       "TTYPE4  = 'PSS_Date'           / label for field                                \n",
       "TFORM4  = '8A      '           / format of field                                \n",
       "TTYPE5  = 'PSS_BW  '           / label for field                                \n",
       "TFORM5  = '1D      '           / format of field                                \n",
       "TDISP5  = 'D11.4   '                                                            \n",
       "TUNIT5  = 'MHz     '                                                            \n",
       "TTYPE6  = 'PSS_Source'         / label for field                                \n",
       "TFORM6  = '8A      '           / format of field                                \n",
       "TTYPE7  = 'PSS_Flux'           / label for field                                \n",
       "TFORM7  = '1D      '           / format of field                                \n",
       "TDISP7  = 'D11.4   '                                                            \n",
       "TUNIT7  = 'Jy      '                                                            \n",
       "TTYPE8  = 'Feedsys '           / label for field                                \n",
       "TFORM8  = '27A     '           / format of field                                \n",
       "TTYPE9  = 'FeedSys_RF_Hi'      / label for field                                \n",
       "TFORM9  = '1D      '           / format of field                                \n",
       "TDISP9  = 'D12.5   '                                                            \n",
       "TTYPE10 = 'FeedSys_RF_Lo'      / label for field                                \n",
       "TFORM10 = '1D      '           / format of field                                \n",
       "TDISP10 = 'D12.5   '                                                            \n",
       "TTYPE11 = 'Mixer   '           / label for field                                \n",
       "TFORM11 = '28A     '           / format of field                                \n",
       "TTYPE12 = 'Mixer_RF_Lo'        / label for field                                \n",
       "TFORM12 = '1D      '           / format of field                                \n",
       "TDISP12 = 'D12.5   '                                                            \n",
       "TUNIT12 = 'MHz     '                                                            \n",
       "TTYPE13 = 'Mixer_RF_Hi'        / label for field                                \n",
       "TFORM13 = '1D      '           / format of field                                \n",
       "TDISP13 = 'D12.5   '                                                            \n",
       "TUNIT13 = 'MHz     '                                                            "
      ]
     },
     "execution_count": 12,
     "metadata": {},
     "output_type": "execute_result"
    }
   ],
   "source": [
    "hdu1 = hdulist[1]\n",
    "hdu1.header"
   ]
  },
  {
   "cell_type": "code",
   "execution_count": 13,
   "metadata": {
    "collapsed": false
   },
   "outputs": [
    {
     "name": "stdout",
     "output_type": "stream",
     "text": [
      "ColDefs(\n",
      "    name = 'PSS_Value'; format = '1D'; unit = 'Jy/K'; disp = 'D11.4'\n",
      "    name = 'PSS_Sigma'; format = '1D'; unit = 'Jy/K'; disp = 'D11.4'\n",
      "    name = 'PSS_Freq'; format = '1D'; unit = 'MHz'; disp = 'D12.5'\n",
      "    name = 'PSS_Date'; format = '8A'\n",
      "    name = 'PSS_BW'; format = '1D'; unit = 'MHz'; disp = 'D11.4'\n",
      "    name = 'PSS_Source'; format = '8A'\n",
      "    name = 'PSS_Flux'; format = '1D'; unit = 'Jy'; disp = 'D11.4'\n",
      "    name = 'Feedsys'; format = '27A'\n",
      "    name = 'FeedSys_RF_Hi'; format = '1D'; disp = 'D12.5'\n",
      "    name = 'FeedSys_RF_Lo'; format = '1D'; disp = 'D12.5'\n",
      "    name = 'Mixer'; format = '28A'\n",
      "    name = 'Mixer_RF_Lo'; format = '1D'; unit = 'MHz'; disp = 'D12.5'\n",
      "    name = 'Mixer_RF_Hi'; format = '1D'; unit = 'MHz'; disp = 'D12.5'\n",
      ")\n"
     ]
    }
   ],
   "source": [
    "print hdu1.columns"
   ]
  },
  {
   "cell_type": "code",
   "execution_count": 14,
   "metadata": {
    "collapsed": false
   },
   "outputs": [
    {
     "name": "stdout",
     "output_type": "stream",
     "text": [
      "[ (15.73, 0.25, 6670.0, '19990131', 7.0, 'B0915-11', 9.9900000000000002, '4.5cm Single Feed Cryogenic', 6900.0, 5900.0, '4.5cm Narrowband Mixer Chain', 6170.0, 6800.0)]\n"
     ]
    }
   ],
   "source": [
    "print hdu1.data"
   ]
  },
  {
   "cell_type": "markdown",
   "metadata": {},
   "source": [
    "This table contains information about the signal chain and the feed selected. Note that the PSS (Point Source Sensitivity) has never been updated."
   ]
  },
  {
   "cell_type": "markdown",
   "metadata": {},
   "source": [
    "Now we get to the stuff we are really interested in - the spectral line data!"
   ]
  },
  {
   "cell_type": "code",
   "execution_count": 15,
   "metadata": {
    "collapsed": false
   },
   "outputs": [
    {
     "data": {
      "text/plain": [
       "XTENSION= 'BINTABLE'           / binary table extension                         \n",
       "BITPIX  =                    8 / 8-bit bytes                                    \n",
       "NAXIS   =                    2 / 2-dimensional binary table                     \n",
       "NAXIS1  =                   12 / width of table in bytes                        \n",
       "NAXIS2  =                 1025 / number of rows in table                        \n",
       "PCOUNT  =                    0 / size of special data area                      \n",
       "GCOUNT  =                    1 / one data group (required keyword)              \n",
       "TFIELDS =                    3 / number of fields in each row                   \n",
       "EXTNAME = 'Spectra '           / name of this binary table extension            \n",
       "FRONTEND= '04.5S   '           / Frontend ID                                    \n",
       "CENTFREQ=             6668.018 / [MHz] Backend centre frequency                 \n",
       "BANDWDTH=                   1. / [MHz] Bandwidth of backend                     \n",
       "TCAL1   =                 14.2 / [K] Cal noise diode value for channel 1        \n",
       "TCALSIG1=                   0. / [K] uncertainty in TCAL1                       \n",
       "TCALFRQ1=                6670. / [Hz] Frequency the calibration applies to      \n",
       "TCALDAT1= '19000101'           / Calibration date                               \n",
       "TCAL2   =                  21. / [K] Cal noise diode value for channel 2        \n",
       "TCALSIG2=                   0. / [K] uncertainty in TCAL2                       \n",
       "TCALFRQ2=                6670. / [Hz] Frequency the calibration applies to      \n",
       "TCALDAT2= '19000101'           / Calibration date                               \n",
       "TTYPE1  = 'Vlsr    '           / label for field                                \n",
       "TFORM1  = '1E      '           / format of field                                \n",
       "TUNIT1  = 'km/s    '                                                            \n",
       "TTYPE2  = 'Polstate1'          / label for field                                \n",
       "TFORM2  = '1E      '           / format of field                                \n",
       "TUNIT2  = 'Kelvins '                                                            \n",
       "TTYPE3  = 'Polstate4'          / label for field                                \n",
       "TFORM3  = '1E      '           / format of field                                \n",
       "TUNIT3  = 'Kelvins '                                                            \n",
       "POSITION= 'HPN     '           / Position identifier                            "
      ]
     },
     "execution_count": 15,
     "metadata": {},
     "output_type": "execute_result"
    }
   ],
   "source": [
    "hdu2 = hdulist[2]\n",
    "hdu2.header"
   ]
  },
  {
   "cell_type": "code",
   "execution_count": 16,
   "metadata": {
    "collapsed": false
   },
   "outputs": [
    {
     "name": "stdout",
     "output_type": "stream",
     "text": [
      "ColDefs(\n",
      "    name = 'Vlsr'; format = '1E'; unit = 'km/s'\n",
      "    name = 'Polstate1'; format = '1E'; unit = 'Kelvins'\n",
      "    name = 'Polstate4'; format = '1E'; unit = 'Kelvins'\n",
      ")\n"
     ]
    }
   ],
   "source": [
    "print hdu2.columns"
   ]
  },
  {
   "cell_type": "code",
   "execution_count": 17,
   "metadata": {
    "collapsed": false
   },
   "outputs": [
    {
     "data": {
      "text/plain": [
       "'Kelvins'"
      ]
     },
     "execution_count": 17,
     "metadata": {},
     "output_type": "execute_result"
    }
   ],
   "source": [
    "hdu2.header['TUNIT2']"
   ]
  },
  {
   "cell_type": "markdown",
   "metadata": {},
   "source": [
    "Polstate1 and Polstate4 correspond to left and right (respectively) circular polarisation.  Note that some spectrometers will produce full polarisation products and will have cross-correlations between polarisations in order to produce full Stokes informations."
   ]
  },
  {
   "cell_type": "code",
   "execution_count": 18,
   "metadata": {
    "collapsed": false
   },
   "outputs": [
    {
     "name": "stdout",
     "output_type": "stream",
     "text": [
      "[(-8.783, 27.012421, 28.157982) (-8.7390976, 27.693527, 28.255112)\n",
      " (-8.6951952, 27.054628, 28.172375) ..., (36.085587, 28.138084, 29.299507)\n",
      " (36.129486, 27.89847, 29.967812) (36.173389, 28.653698, 28.768848)]\n"
     ]
    }
   ],
   "source": [
    "print hdu2.data"
   ]
  },
  {
   "cell_type": "code",
   "execution_count": 19,
   "metadata": {
    "collapsed": false
   },
   "outputs": [
    {
     "data": {
      "text/plain": [
       "array([ -8.78299999,  -8.7390976 ,  -8.6951952 , ...,  36.08558655,\n",
       "        36.12948608,  36.17338943], dtype=float32)"
      ]
     },
     "execution_count": 19,
     "metadata": {},
     "output_type": "execute_result"
    }
   ],
   "source": [
    "hdu2.data['Vlsr']"
   ]
  },
  {
   "cell_type": "code",
   "execution_count": 20,
   "metadata": {
    "collapsed": false
   },
   "outputs": [
    {
     "data": {
      "text/plain": [
       "[<matplotlib.lines.Line2D at 0x10a9d8550>]"
      ]
     },
     "execution_count": 20,
     "metadata": {},
     "output_type": "execute_result"
    },
    {
     "data": {
      "image/png": "[encoded data removed]",
      "text/plain": [
       "<matplotlib.figure.Figure at 0x10a8e47d0>"
      ]
     },
     "metadata": {},
     "output_type": "display_data"
    }
   ],
   "source": [
    "plt.plot(hdu2.data['Vlsr'], hdu2.data['Polstate1'])"
   ]
  },
  {
   "cell_type": "markdown",
   "metadata": {},
   "source": [
    "Note that when you ask ipython to print out large arrays, it will show the first and last few rows and print ellipses (...) to indicate that is has left out data.\n",
    "\n",
    "Now, what have we got in the last hdu?"
   ]
  },
  {
   "cell_type": "code",
   "execution_count": 21,
   "metadata": {
    "collapsed": false
   },
   "outputs": [
    {
     "data": {
      "text/plain": [
       "XTENSION= 'BINTABLE'           / binary table extension                         \n",
       "BITPIX  =                    8 / 8-bit bytes                                    \n",
       "NAXIS   =                    2 / 2-dimensional binary table                     \n",
       "NAXIS1  =                   24 / width of table in bytes                        \n",
       "NAXIS2  =                  374 / number of rows in table                        \n",
       "PCOUNT  =                    0 / size of special data area                      \n",
       "GCOUNT  =                    1 / one data group (required keyword)              \n",
       "TFIELDS =                    3 / number of fields in each row                   \n",
       "EXTNAME = 'Chart   '           / name of this binary table extension            \n",
       "FRONTEND= '04.5S   '           / Frontend ID                                    \n",
       "CENTFREQ=             6668.018 / [MHz] Backend centre frequency                 \n",
       "BANDWDTH=                   4. / [MHz] Bandwidth of backend                     \n",
       "TCAL1   =                 14.2 / [K] Cal noise diode value for channel 1        \n",
       "TCALSIG1=                   0. / [K] uncertainty in TCAL1                       \n",
       "TCALFRQ1=                6670. / [Hz] Frequency the calibration applies to      \n",
       "TCALDAT1= '19000101'           / Calibration date                               \n",
       "TCAL2   =                  21. / [K] Cal noise diode value for channel 2        \n",
       "TCALSIG2=                   0. / [K] uncertainty in TCAL2                       \n",
       "TCALFRQ2=                6670. / [Hz] Frequency the calibration applies to      \n",
       "TCALDAT2= '19000101'           / Calibration date                               \n",
       "HZPERK1 =     9117.17941839851 / [Hz/K] Counter calibration                     \n",
       "HZKERR1 =     96.2562942169865 / [Hz/K] Counter cal error                       \n",
       "HZPERK2 =     9794.73192108246 / [Hz/K] Counter calibration                     \n",
       "HZKERR2 =     76.0115848185905 / [Hz/K] Counter cal error                       \n",
       "TSYS1   =     64.1468485354773 / [K] System temperature                         \n",
       "TSYSERR1=    0.683566227485472 / [K] System temp error                          \n",
       "TSYS2   =     66.4710900645255 / [K] System temperature                         \n",
       "TSYSERR2=    0.521880393014692 / [K] System temp error                          \n",
       "TTYPE1  = 'MJD     '           / label for field                                \n",
       "TFORM1  = '1D      '           / format of field                                \n",
       "TUNIT1  = 'days    '                                                            \n",
       "TTYPE2  = 'Count1  '           / label for field                                \n",
       "TFORM2  = '1D      '           / format of field                                \n",
       "TUNIT2  = 'Hz      '                                                            \n",
       "TTYPE3  = 'Count2  '           / label for field                                \n",
       "TFORM3  = '1D      '           / format of field                                \n",
       "TUNIT3  = 'Hz      '                                                            "
      ]
     },
     "execution_count": 21,
     "metadata": {},
     "output_type": "execute_result"
    }
   ],
   "source": [
    "hdu3 = hdulist[3]\n",
    "hdu3.header"
   ]
  },
  {
   "cell_type": "markdown",
   "metadata": {},
   "source": [
    "Ah, this looks like the noise diode calibration block. We've spoken about this in the section on continuum driftscans."
   ]
  },
  {
   "cell_type": "code",
   "execution_count": null,
   "metadata": {
    "collapsed": false
   },
   "outputs": [],
   "source": []
  },
  {
   "cell_type": "code",
   "execution_count": null,
   "metadata": {
    "collapsed": true
   },
   "outputs": [],
   "source": []
  }
 ],
 "metadata": {
  "kernelspec": {
   "display_name": "Python 2",
   "language": "python",
   "name": "python2"
  },
  "language_info": {
   "codemirror_mode": {
    "name": "ipython",
    "version": 2
   },
   "file_extension": ".py",
   "mimetype": "text/x-python",
   "name": "python",
   "nbconvert_exporter": "python",
   "pygments_lexer": "ipython2",
   "version": "2.7.10"
  }
 },
 "nbformat": 4,
 "nbformat_minor": 0
}
