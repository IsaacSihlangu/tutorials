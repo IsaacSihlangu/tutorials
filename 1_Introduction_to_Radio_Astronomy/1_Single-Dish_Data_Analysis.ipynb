{
 "cells": [
  {
   "cell_type": "markdown",
   "metadata": {},
   "source": [
    "# The scientist's friends: NumPy, matplotlib and IPython"
   ]
  },
  {
   "cell_type": "markdown",
   "metadata": {},
   "source": [
    "Python is quite popular in the astronomy community, and many tools are based on it (e.g. CASA and PyRAF). The KAT-7 and MeerKAT telescopes are controlled and monitored via Python and it is also used to reduce the recorded data, so it is important for us! A powerful combination for scientific data analysis is [*NumPy*](http://www.numpy.org) for arrays and basic linear algebra, [*SciPy*](http://www.scipy.org) for fancier algorithms, [*matplotlib*](http://matplotlib.org) for plotting and [*IPython*](http://ipython.org) as an interactive shell that binds the lot together. We start with a very quick tutorial on these.\n",
    "\n",
    "The next cell loads the plotting and science analysis packages"
   ]
  },
  {
   "cell_type": "code",
   "execution_count": null,
   "metadata": {
    "collapsed": false
   },
   "outputs": [],
   "source": [
    "%pylab inline"
   ]
  },
  {
   "cell_type": "markdown",
   "metadata": {},
   "source": [
    "Our tutorials are presented as IPython [notebooks](http://ipython.org/notebook.html) which allow you to run Python code within the tutorial page. A *code cell* looks like this:"
   ]
  },
  {
   "cell_type": "code",
   "execution_count": null,
   "metadata": {
    "collapsed": false
   },
   "outputs": [],
   "source": []
  },
  {
   "cell_type": "markdown",
   "metadata": {},
   "source": [
    "Every time you encounter one, click on it to put your cursor inside it and hit Ctrl-Enter to execute the cell. The output of the cell will then appear below it. All the cells know of each other and changing a value inside one cell immediately modifies the variable in all other cells where it is found.\n",
    "\n",
    "- Create a simple NumPy array of consecutive numbers and then index and slice it in various ways:"
   ]
  },
  {
   "cell_type": "code",
   "execution_count": null,
   "metadata": {
    "collapsed": false
   },
   "outputs": [],
   "source": [
    "n = arange(10)"
   ]
  },
  {
   "cell_type": "code",
   "execution_count": null,
   "metadata": {
    "collapsed": false
   },
   "outputs": [],
   "source": [
    "n"
   ]
  },
  {
   "cell_type": "code",
   "execution_count": null,
   "metadata": {
    "collapsed": false
   },
   "outputs": [],
   "source": [
    "n[0]"
   ]
  },
  {
   "cell_type": "code",
   "execution_count": null,
   "metadata": {
    "collapsed": false
   },
   "outputs": [],
   "source": [
    "n[-1]"
   ]
  },
  {
   "cell_type": "code",
   "execution_count": null,
   "metadata": {
    "collapsed": false
   },
   "outputs": [],
   "source": [
    "n[2:3]"
   ]
  },
  {
   "cell_type": "code",
   "execution_count": null,
   "metadata": {
    "collapsed": false
   },
   "outputs": [],
   "source": [
    "n[2:5]"
   ]
  },
  {
   "cell_type": "code",
   "execution_count": null,
   "metadata": {
    "collapsed": false
   },
   "outputs": [],
   "source": [
    "n[:5]"
   ]
  },
  {
   "cell_type": "code",
   "execution_count": null,
   "metadata": {
    "collapsed": false
   },
   "outputs": [],
   "source": [
    "n[5:]"
   ]
  },
  {
   "cell_type": "markdown",
   "metadata": {},
   "source": [
    "- Now try your hand at generating samples from a sinusoidal function and plotting it. As you can see below, cells may contain multiple lines of code:"
   ]
  },
  {
   "cell_type": "code",
   "execution_count": null,
   "metadata": {
    "collapsed": false
   },
   "outputs": [],
   "source": [
    "t = arange(100)\n",
    "x = cos(2 * pi * t / 40)\n",
    "plot(t, x)"
   ]
  },
  {
   "cell_type": "markdown",
   "metadata": {},
   "source": [
    "If you need any help on these functions, IPython provides two indispensable tools: *tab completion* and *object inspection*. Tab completion finds the names of functions, variables or anything else accessible within IPython that starts with the letters you have typed, by hitting the Tab key. For example, to find all entities starting with the letters *pl*, type ``pl`` and hit Tab:"
   ]
  },
  {
   "cell_type": "code",
   "execution_count": null,
   "metadata": {
    "collapsed": false
   },
   "outputs": [],
   "source": [
    "pl"
   ]
  },
  {
   "cell_type": "markdown",
   "metadata": {},
   "source": [
    "This is very useful in case you have forgotten the exact name of a function (or even to explore what is available!).\n",
    "\n",
    "Objection inspection prints out help related to an entity, by typing its name followed by a question mark (``?``):"
   ]
  },
  {
   "cell_type": "code",
   "execution_count": null,
   "metadata": {
    "collapsed": false
   },
   "outputs": [],
   "source": [
    "plot?"
   ]
  },
  {
   "cell_type": "markdown",
   "metadata": {},
   "source": [
    "- Now load the data to be used for the rest of the tutorial into your workspace:"
   ]
  },
  {
   "cell_type": "code",
   "execution_count": null,
   "metadata": {
    "collapsed": false
   },
   "outputs": [],
   "source": [
    "data = np.load('single_dish_tutorial.npz')"
   ]
  },
  {
   "cell_type": "markdown",
   "metadata": {},
   "source": [
    "We have loaded the data from a zipped set of numpy arrays on disk. The contents of the zipped set may be inspected by:\n"
   ]
  },
  {
   "cell_type": "code",
   "execution_count": null,
   "metadata": {
    "collapsed": false
   },
   "outputs": [],
   "source": [
    "data.files"
   ]
  },
  {
   "cell_type": "markdown",
   "metadata": {},
   "source": [
    "# The radiometer"
   ]
  },
  {
   "cell_type": "markdown",
   "metadata": {},
   "source": [
    "The most basic operation of a single-dish radio telescope is to act as a *radiometer*, which measures the received radio-frequency power from various regions of the sky and as a function of time. If this operation is done simultaneously in multiple frequency bands, the instrument is called a *spectrometer*.\n",
    "\n",
    "Measuring power\n",
    "---------------\n",
    "\n",
    "A typical recording of voltage data produced by a radio telescope pointed at a celestial source (so-called *Gaussian* noise) looks like this:"
   ]
  },
  {
   "cell_type": "code",
   "execution_count": null,
   "metadata": {
    "collapsed": false
   },
   "outputs": [],
   "source": [
    "x = randn(500)\n",
    "plot(x)"
   ]
  },
  {
   "cell_type": "markdown",
   "metadata": {},
   "source": [
    "The radiometer estimates the power of this voltage signal by squaring and averaging the sample values. This process is repeated on long runs of consecutive samples (up to several seconds in length), producing a time series of power measurements. This time series is the starting point of our analysis.\n",
    "\n",
    "Noise diode calibration\n",
    "-----------------------\n",
    "\n",
    "First off, we have to calibrate the units of the data. The power values produced by the KAT telescope are 16-bit numbers which range from -32768 to 32767. These values are uncalibrated, with a unit that is traditionally called *counts*. We need to convert this to a physical unit of power. The standard unit is the watt, but celestial radio sources are so weak that it is not very useful. The power measurement can be expressed as a *temperature* in kelvin (K) instead, through the relation\n",
    "\n",
    "\\begin{equation}\n",
    "  P = \\text{k}TB, \\quad \\text{[W]}\n",
    "\\end{equation}\n",
    "\n",
    "where $P$ is the power in watts, $\\text{k} = 1.3806504 \\times 10^{-23}$ is Boltzmann's constant, $T$ is the temperature in kelvin and $B$ is the bandwidth in Hz. The advantage of temperature is that it is independent of bandwidth, while the power of a noise signal increases with increasing bandwidth.\n",
    "\n",
    "The first step in calibration is to figure out the *receiver (or electronic) gain* which exists between the feed horn of the antenna and the voltage output. This is done by firing a noise diode, which is a calibrated noise source with a known and stable temperature, at the input of the feed horn and observing the increase in measured power. This allows us to determine the receiver gain in counts per kelvin.\n",
    "\n",
    "- Now plot the time series that contains a noise diode switching on and off:"
   ]
  },
  {
   "cell_type": "code",
   "execution_count": null,
   "metadata": {
    "collapsed": false
   },
   "outputs": [],
   "source": [
    "power = data['nd_power']\n",
    "plot(power)"
   ]
  },
  {
   "cell_type": "markdown",
   "metadata": {},
   "source": [
    "- Given that the noise diode temperature was 3.7 K, estimate the receiver gain in counts/K. Use the code cell below as your calculator!"
   ]
  },
  {
   "cell_type": "code",
   "execution_count": null,
   "metadata": {
    "collapsed": false
   },
   "outputs": [],
   "source": []
  },
  {
   "cell_type": "markdown",
   "metadata": {},
   "source": [
    "- Use this gain to estimate the temperature measured while the noise diode was off. This will provide an indication of the *system temperature* or $T_{\\text{sys}}$, which is an important measure of the quality of the instrument. A lower system temperature allows the telescope to detect  fainter objects."
   ]
  },
  {
   "cell_type": "code",
   "execution_count": null,
   "metadata": {
    "collapsed": false
   },
   "outputs": [],
   "source": []
  },
  {
   "cell_type": "markdown",
   "metadata": {},
   "source": [
    "Linear scan across source\n",
    "=========================\n",
    "\n",
    "We know the positions of most strong radio sources very accurately, thanks to decades of observations. In this experiment, we move the dish across the position of a source and observe the measured power. The power increases as we move onto the source and decreases again as we move off it. This bump in power means we detected the source! Radio astronomy is full of bumps and blobs...\n",
    "\n",
    "- Plot the scan power as a function of azimuth angle (in degrees) as below:"
   ]
  },
  {
   "cell_type": "code",
   "execution_count": null,
   "metadata": {
    "collapsed": false
   },
   "outputs": [],
   "source": [
    "az = data['scan_az']\n",
    "power = data['scan_power']\n",
    "plot(az, power)\n",
    "xlabel('Azimuth angle (degrees)')\n",
    "ylabel('Power (counts)')"
   ]
  },
  {
   "cell_type": "markdown",
   "metadata": {},
   "source": [
    "What we are actually seeing is a convolution of the antenna *beam pattern* and the structure of the source. For a point source like the one shown, the shape of the bump is purely due to the beam pattern. This allows us to measure the properties of this pattern.\n",
    "\n",
    "Calibration\n",
    "-----------\n",
    "\n",
    "The standard flux unit in radio astronomy is the *jansky (Jy)*, where $1\\,\\text{Jy} = 10^{-26}\\,\\text{W}\\text{m}^{-2}\\text{Hz}^{-1}$, used to quantify the *flux density* of the radio source. We therefore need to calibrate our scan from raw counts to temperatures in kelvin, all the way to flux densities in Jy. The conversion from temperature to flux density involves the gain introduced by the collecting area of the dish itself, referred to as *antenna gain*, which is given by\n",
    "\n",
    "\\begin{equation}\n",
    "  G = \\frac{\\eta A}{2 \\text{k}} \\times 10^{-26} \\approx \\frac{\\eta A}{2761}, \\quad \\text{[K / Jy]}\n",
    "\\end{equation}\n",
    "\n",
    "where $\\eta$ is the efficiency of the dish (less than 1!), $A$ is the dish area in square metres and $\\text{k}$ is Boltzmann's constant.\n",
    "\n",
    "- Estimate the antenna gain for a KAT-7 dish with a diameter of 12 metres and an efficiency of 0.5 (50%)."
   ]
  },
  {
   "cell_type": "code",
   "execution_count": null,
   "metadata": {
    "collapsed": false
   },
   "outputs": [],
   "source": []
  },
  {
   "cell_type": "markdown",
   "metadata": {},
   "source": [
    "- Combined with the receiver gain in the previous section, use this to calibrate the scan power to be in Jy and make a new plot."
   ]
  },
  {
   "cell_type": "code",
   "execution_count": null,
   "metadata": {
    "collapsed": false
   },
   "outputs": [],
   "source": []
  },
  {
   "cell_type": "markdown",
   "metadata": {},
   "source": [
    "Parameter extraction\n",
    "--------------------\n",
    "\n",
    "- Estimate the baseline level of the scan (the lowest part), in Jy. This is also known as the *system equivalent flux density*, or SEFD, which is equivalent to the system temperature."
   ]
  },
  {
   "cell_type": "code",
   "execution_count": null,
   "metadata": {
    "collapsed": false
   },
   "outputs": [],
   "source": []
  },
  {
   "cell_type": "markdown",
   "metadata": {},
   "source": [
    "- Estimate the flux density of the source (in Jy) as the height of the peak of the scan above the baseline level."
   ]
  },
  {
   "cell_type": "code",
   "execution_count": null,
   "metadata": {
    "collapsed": false
   },
   "outputs": [],
   "source": []
  },
  {
   "cell_type": "markdown",
   "metadata": {},
   "source": [
    "- Estimate the *beamwidth* in degrees, which the full width of the beam pattern at half of its maximum value, also known as the FWHM. Zoom into the plot by issuing `axis`, `xlim` or `ylim` commands in order to help you read off the width."
   ]
  },
  {
   "cell_type": "code",
   "execution_count": null,
   "metadata": {
    "collapsed": false
   },
   "outputs": [],
   "source": []
  },
  {
   "cell_type": "markdown",
   "metadata": {},
   "source": [
    "# Raster scan image"
   ]
  },
  {
   "cell_type": "markdown",
   "metadata": {},
   "source": [
    "Single-dish images are built up pixel by pixel by physically scanning the dish across a patch of sky in a grid or *raster* pattern (incidentally the same way your old-fashioned CRT TV builds up its images). These scans are then assembled into the final image. If the raster scan takes a long time or extends over a large region of sky, we have to convert the spherical antenna coordinates (azimuth angle and elevation angle, or right ascension and declination) to a projected plane centred on the target.\n",
    "\n",
    "In the dataset you will find a raster scan of [Centaurus A](http://en.wikipedia.org/wiki/Centaurus_A), an impressive radio galaxy in the southern sky and one of the brightest celestial radio sources. The data was recorded using one of the KAT-7 dishes, in a frequency band centered at 1836 MHz and with a bandwidth of 222 MHz. The right ascension and declination coordinates have already been converted to a projected plane, and all that is left to do is to plot the image.\n",
    "\n",
    "- Load the data and plot the individual pointings (in degrees) that make up the raster scan. Also plot the measured power as a function of time, and compare this with the scan from the previous task."
   ]
  },
  {
   "cell_type": "code",
   "execution_count": null,
   "metadata": {
    "collapsed": false
   },
   "outputs": [],
   "source": [
    "ra = data['raster_ra']\n",
    "dec = data['raster_dec']\n",
    "power = data['raster_power']\n",
    "plot(ra, dec, '.')\n",
    "axis('image')\n",
    "xlabel('Right Ascension (degrees)')\n",
    "ylabel('Declination (degrees)')"
   ]
  },
  {
   "cell_type": "code",
   "execution_count": null,
   "metadata": {
    "collapsed": false
   },
   "outputs": [],
   "source": [
    "plot(power)\n",
    "xlabel('Sample index')\n",
    "ylabel('Flux density (Jy)')"
   ]
  },
  {
   "cell_type": "markdown",
   "metadata": {},
   "source": [
    "The power plot shows the data as collected over time by the telescope while performing the raster scan over the radio source. In order to make an image, the data needs to be reorganized.\n",
    "\n",
    "The first step to an image is to *regrid* the measurements onto a regular rectangular (2-dimensional) grid, where each element of the grid corresponds to a pixel. Matplotlib provides a function for this, called ``griddata``.\n",
    "\n",
    "- Read the help on this function, select a pixel size in degrees (which determines the size of your image) and do the following (ignore the warning message about dateutil):"
   ]
  },
  {
   "cell_type": "code",
   "execution_count": null,
   "metadata": {
    "collapsed": false
   },
   "outputs": [],
   "source": [
    "pixel_size = 0.05\n",
    "# Use the full (ra, dec) range for the plots...\n",
    "grid_ra = np.arange(ra.min(), ra.max(), pixel_size)\n",
    "grid_dec = np.arange(dec.min(), dec.max(), pixel_size)\n",
    "# Or pick your own range to zoom in on the plots\n",
    "#grid_ra = np.arange(200, 203, pixel_size)\n",
    "#grid_dec = np.arange(-46, -41, pixel_size)\n",
    "grid_power = griddata(ra, dec, power, grid_ra, grid_dec, interp='linear')"
   ]
  },
  {
   "cell_type": "markdown",
   "metadata": {},
   "source": [
    "There are two popular ways to plot such an image: as a contour plot or a bitmap image. Here are some examples of how to do this:"
   ]
  },
  {
   "cell_type": "code",
   "execution_count": null,
   "metadata": {
    "collapsed": false
   },
   "outputs": [],
   "source": [
    "contour(grid_ra, grid_dec, grid_power, 50, cmap=cm.jet)\n",
    "axis('image')\n",
    "xlabel('Right Ascension (degrees)')\n",
    "ylabel('Declination (degrees)')"
   ]
  },
  {
   "cell_type": "code",
   "execution_count": null,
   "metadata": {
    "collapsed": false
   },
   "outputs": [],
   "source": [
    "extent=[grid_ra.min(), grid_ra.max(), grid_dec.min(), grid_dec.max()]\n",
    "imshow(grid_power, extent=extent, origin='lower', cmap=cm.gray)\n",
    "xlabel('Right Ascension (degrees)')\n",
    "ylabel('Declination (degrees)')"
   ]
  },
  {
   "cell_type": "markdown",
   "metadata": {},
   "source": [
    "Feel free to modify the above commands. You can change the color scheme of the bitmap image -- for more information, read the ``colormaps?`` help.\n",
    "\n",
    "The image does not show a lot of detail, compared to say [this image](http://www.cfa.harvard.edu/news/2010/su201049_images.html) of the radio lobes. How would you increase the resolution of the image?"
   ]
  },
  {
   "cell_type": "code",
   "execution_count": null,
   "metadata": {
    "collapsed": false
   },
   "outputs": [],
   "source": []
  }
 ],
 "metadata": {
  "kernelspec": {
   "display_name": "Python 2",
   "language": "python",
   "name": "python2"
  },
  "language_info": {
   "codemirror_mode": {
    "name": "ipython",
    "version": 2
   },
   "file_extension": ".py",
   "mimetype": "text/x-python",
   "name": "python",
   "nbconvert_exporter": "python",
   "pygments_lexer": "ipython2",
   "version": "2.7.6"
  }
 },
 "nbformat": 4,
 "nbformat_minor": 0
}
