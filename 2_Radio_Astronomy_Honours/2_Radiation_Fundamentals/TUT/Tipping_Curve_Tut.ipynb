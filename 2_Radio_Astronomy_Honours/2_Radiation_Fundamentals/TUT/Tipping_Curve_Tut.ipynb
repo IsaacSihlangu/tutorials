{
 "cells": [
  {
   "cell_type": "code",
   "execution_count": 9,
   "metadata": {
    "collapsed": false
   },
   "outputs": [
    {
     "name": "stdout",
     "output_type": "stream",
     "text": [
      "Populating the interactive namespace from numpy and matplotlib\n"
     ]
    }
   ],
   "source": [
    "import numpy as np\n",
    "import matplotlib.pyplot as plt\n",
    "import scikits.fitting as fit\n",
    "%pylab inline"
   ]
  },
  {
   "cell_type": "markdown",
   "metadata": {},
   "source": [
    "##Load Data ##\n",
    "\n",
    "Load some precalibrated single dish data.\n",
    "* Tipping_power_data.dat  is the power in kelvens of the system\n",
    "* Tipping_power_sigma_data.dat is the standard devation on the power\n",
    "* Tipping_elevation_data.dat is the elevation values\n",
    "* Tipping_freq_data.dat is the frequency values\n",
    "\n",
    "Note: Only H-pol is provided"
   ]
  },
  {
   "cell_type": "code",
   "execution_count": 134,
   "metadata": {
    "collapsed": false
   },
   "outputs": [],
   "source": [
    "data = np.loadtxt(\"Tipping_power_data.dat\")[:,:-6] # in Kelvin only HH pol    (elevation,freq)\n",
    "sigma = np.loadtxt(\"Tipping_power_sigma_data.dat\")[:,:-6]# sigma on the power (elevation,freq)\n",
    "elev = np.loadtxt(\"Tipping_elevation_data.dat\") # elevation in degrees from horizon\n",
    "freq = np.loadtxt(\"Tipping_freq_data.dat\")[:-6]   # frequency values in MHz"
   ]
  },
  {
   "cell_type": "markdown",
   "metadata": {},
   "source": [
    "# Sky temperature\n",
    "\n",
    "For the sky tempreture you can assume that it is the just the cmb tempreture"
   ]
  },
  {
   "cell_type": "code",
   "execution_count": 160,
   "metadata": {
    "collapsed": false
   },
   "outputs": [
    {
     "ename": "RuntimeError",
     "evalue": "Please Enter CMB infomation",
     "output_type": "error",
     "traceback": [
      "\u001b[1;31m---------------------------------------------------------------------------\u001b[0m",
      "\u001b[1;31mRuntimeError\u001b[0m                              Traceback (most recent call last)",
      "\u001b[1;32m<ipython-input-160-a7377531f917>\u001b[0m in \u001b[0;36m<module>\u001b[1;34m()\u001b[0m\n\u001b[0;32m      1\u001b[0m \u001b[0mT_sky\u001b[0m\u001b[1;33m=\u001b[0m \u001b[0mnp\u001b[0m\u001b[1;33m.\u001b[0m\u001b[0mzeros_like\u001b[0m\u001b[1;33m(\u001b[0m\u001b[0mdata\u001b[0m\u001b[1;33m)\u001b[0m \u001b[1;31m# make the T_sky array full of zeros\u001b[0m\u001b[1;33m\u001b[0m\u001b[0m\n\u001b[0;32m      2\u001b[0m \u001b[1;33m\u001b[0m\u001b[0m\n\u001b[1;32m----> 3\u001b[1;33m \u001b[1;32mraise\u001b[0m \u001b[0mRuntimeError\u001b[0m\u001b[1;33m(\u001b[0m\u001b[1;34m'Please Enter CMB infomation'\u001b[0m\u001b[1;33m)\u001b[0m\u001b[1;33m\u001b[0m\u001b[0m\n\u001b[0m\u001b[0;32m      4\u001b[0m \u001b[0mT_sky\u001b[0m \u001b[1;33m+=\u001b[0m \u001b[0mT_cmb\u001b[0m\u001b[1;33m\u001b[0m\u001b[0m\n",
      "\u001b[1;31mRuntimeError\u001b[0m: Please Enter CMB infomation"
     ]
    }
   ],
   "source": [
    "T_sky= np.zeros_like(data) # make the T_sky array full of zeros\n",
    "\n",
    "raise RuntimeError('Please Enter CMB infomation')\n",
    "T_sky += T_cmb\n"
   ]
  },
  {
   "cell_type": "markdown",
   "metadata": {},
   "source": [
    "##Plot data ##\n",
    "\n",
    "Remove the source contamination seen at  50 to 54 elevation   \n",
    "data points 31:35 by making a mask."
   ]
  },
  {
   "cell_type": "code",
   "execution_count": 161,
   "metadata": {
    "collapsed": false
   },
   "outputs": [
    {
     "ename": "RuntimeError",
     "evalue": "Make a Mask",
     "output_type": "error",
     "traceback": [
      "\u001b[1;31m---------------------------------------------------------------------------\u001b[0m",
      "\u001b[1;31mRuntimeError\u001b[0m                              Traceback (most recent call last)",
      "\u001b[1;32m<ipython-input-161-1164d59f1e9b>\u001b[0m in \u001b[0;36m<module>\u001b[1;34m()\u001b[0m\n\u001b[0;32m      3\u001b[0m \u001b[0mmask\u001b[0m \u001b[1;33m=\u001b[0m \u001b[0mnp\u001b[0m\u001b[1;33m.\u001b[0m\u001b[0mones_like\u001b[0m\u001b[1;33m(\u001b[0m\u001b[0melev\u001b[0m\u001b[1;33m,\u001b[0m\u001b[0mdtype\u001b[0m\u001b[1;33m=\u001b[0m\u001b[0mnp\u001b[0m\u001b[1;33m.\u001b[0m\u001b[0mbool\u001b[0m\u001b[1;33m)\u001b[0m\u001b[1;33m\u001b[0m\u001b[0m\n\u001b[0;32m      4\u001b[0m \u001b[1;33m\u001b[0m\u001b[0m\n\u001b[1;32m----> 5\u001b[1;33m \u001b[1;32mraise\u001b[0m \u001b[0mRuntimeError\u001b[0m\u001b[1;33m(\u001b[0m\u001b[1;34m'Make a Mask'\u001b[0m\u001b[1;33m)\u001b[0m\u001b[1;33m\u001b[0m\u001b[0m\n\u001b[0m\u001b[0;32m      6\u001b[0m \u001b[0mplot\u001b[0m\u001b[1;33m(\u001b[0m\u001b[0melev\u001b[0m\u001b[1;33m[\u001b[0m\u001b[0mmask\u001b[0m\u001b[1;33m]\u001b[0m\u001b[1;33m,\u001b[0m\u001b[0mdata\u001b[0m\u001b[1;33m[\u001b[0m\u001b[0mmask\u001b[0m\u001b[1;33m,\u001b[0m\u001b[0mfreq_index\u001b[0m\u001b[1;33m]\u001b[0m\u001b[1;33m)\u001b[0m\u001b[1;33m\u001b[0m\u001b[0m\n\u001b[0;32m      7\u001b[0m \u001b[0mtitle\u001b[0m\u001b[1;33m(\u001b[0m\u001b[1;34m'Frequency = %s MHz'\u001b[0m\u001b[1;33m%\u001b[0m\u001b[1;33m(\u001b[0m\u001b[0mfreq\u001b[0m\u001b[1;33m[\u001b[0m\u001b[0mfreq_index\u001b[0m\u001b[1;33m]\u001b[0m\u001b[1;33m)\u001b[0m\u001b[1;33m)\u001b[0m\u001b[1;33m\u001b[0m\u001b[0m\n",
      "\u001b[1;31mRuntimeError\u001b[0m: Make a Mask"
     ]
    },
    {
     "data": {
      "text/plain": [
       "<matplotlib.figure.Figure at 0x7f1ac0882190>"
      ]
     },
     "metadata": {},
     "output_type": "display_data"
    }
   ],
   "source": [
    "figure(figsize=(10,10))\n",
    "freq_index = 23\n",
    "mask = np.ones_like(elev,dtype=np.bool)\n",
    "\n",
    "raise RuntimeError('Make a Mask')\n",
    "plot(elev[mask],data[mask,freq_index])\n",
    "title('Frequency = %s MHz'%(freq[freq_index]))"
   ]
  },
  {
   "cell_type": "markdown",
   "metadata": {},
   "source": [
    "##Spillover models\n",
    "\n",
    "Can be found here:\n",
    "\n",
    "Temp_Spill.dat \n",
    "\n",
    "\n",
    "Temp_Spill.dat includes ground & atmospheric radiation pickup, the cosmic microwave background and an average Galactic noise of 20 K at 408 MHz, but the main beam and first sidelobe is zeroed out in the pattern integral. The ground is assumed to be in thermal equilibrium at 300 K with reflection approximated as the average of that of H & V. The atmosphere is modelled with the sky brightness model of Cortés-Medellín in SKA Memo 95, employing nominal values for atmospheric temperature, pressure and water vapour density which is believed to be representative of the Karoo environment except for winter time.\n"
   ]
  },
  {
   "cell_type": "code",
   "execution_count": 139,
   "metadata": {
    "collapsed": true
   },
   "outputs": [],
   "source": [
    "class Spill_Temp:\n",
    "    \"\"\"Load spillover models and interpolate to centre observing frequency.\"\"\"\n",
    "    def __init__(self,filename='./Temp_Spill.dat'):\n",
    "        \"\"\" The class Spill_temp reads the spillover model from file and\n",
    "        produces fitted functions for a frequency\n",
    "        The class/__init__function takes in one parameter:\n",
    "        filename : (default=none) This is the filename containing\n",
    "               the spillover model ,this file has 3 cols:\n",
    "               theta(Degrees, 0 at Zenith),tempreture (MHz),Frequency (MHz)\n",
    "               if there are no files zero spilover is assumed.\n",
    "               function save makes a file of the correct format\n",
    "        returns :\n",
    "               dict  spill with two elements 'HH' 'VV' that\n",
    "               are intepolation functions that take in elevation & Frequency(MHz)\n",
    "               and return tempreture in Kelven.\n",
    "        \"\"\"\n",
    "        try:\n",
    "            datafile =np.loadtxt(filename)\n",
    "            elevation = datafile[1:,0]\n",
    "            numfreqs = (datafile.shape[1]-1)//2\n",
    "            freqs= datafile[0,1::2]\n",
    "            elevation_list = np.array(())\n",
    "            freq_list = np.array(())\n",
    "            data_list = np.array(())\n",
    "            elevation_list = np.r_[elevation_list,elevation]\n",
    "            freq_list = np.r_[freq_list,np.ones_like(elevation)*800.0] ## Hard code the lower limit to avoid nans\n",
    "            data_list = np.r_[data_list,datafile[1:,1+0*2]]\n",
    "            for x in range(numfreqs):\n",
    "                elevation_list = np.r_[elevation_list,elevation]\n",
    "                freq_list = np.r_[freq_list,np.ones_like(elevation)*freqs[x]]\n",
    "                data_list = np.r_[data_list,datafile[1:,1+x*2]]\n",
    "                #print freqs[x]\n",
    "\n",
    "            T_H = fit.Delaunay2DScatterFit() \n",
    "            T_H.fit((90.-elevation_list,freq_list),data_list)\n",
    "\n",
    "            elevation_list = np.array(())\n",
    "            freq_list = np.array(())\n",
    "            data_list = np.array(())\n",
    "            elevation_list = np.r_[elevation_list,elevation]\n",
    "            freq_list = np.r_[freq_list,np.ones_like(elevation)*800.0]  ## Hard code the lower limit to avoid nans\n",
    "            data_list = np.r_[data_list,datafile[1:,1+0*2+1]]\n",
    "            for x in range(numfreqs):\n",
    "                elevation_list = np.r_[elevation_list,elevation]\n",
    "                freq_list = np.r_[freq_list,np.ones_like(elevation)*freqs[x]]\n",
    "                data_list = np.r_[data_list,datafile[1:,1+x*2+1]]\n",
    "            T_V = fit.Delaunay2DScatterFit()\n",
    "            T_V.fit((90.-elevation_list,freq_list),data_list)\n",
    "            self.spill = {}\n",
    "            self.spill['HH'] = T_H # The HH and VV is a scape thing\n",
    "            self.spill['VV'] = T_V\n",
    "            #print self.spill['HH']((90.-elevation_list,freq_list))\n",
    "   \n",
    "        except IOError:\n",
    "            spillover_H = np.array([[0.,90.,0.,90.],[0.,0.,0.,0.],[900.,900.,2000.,2000.]])\n",
    "            spillover_V = np.array([[0.,90.,0.,90.],[0.,0.,0.,0.],[900.,900.,2000.,2000.]])\n",
    "            spillover_H[0]= 90-spillover_H[0]\n",
    "            spillover_V[0]= 90-spillover_V[0]\n",
    "            T_H = fit.Delaunay2DScatterFit() \n",
    "            T_V = fit.Delaunay2DScatterFit()\n",
    "            T_H.fit(spillover_H[[0,2],:],spillover_H[1,:])\n",
    "            T_V.fit(spillover_V[[0,2],:],spillover_V[1,:])\n",
    "            self.spill = {}\n",
    "            self.spill['HH'] = T_H # The HH and VV is a scape thing\n",
    "            self.spill['VV'] = T_V\n",
    "            print ('Warning: Failed to load Spillover models, setting models to zeros')\n",
    "            \n",
    "        # the models are in a format of theta=0  == el=90\n"
   ]
  },
  {
   "cell_type": "markdown",
   "metadata": {},
   "source": [
    "## Load the Spillover model ##"
   ]
  },
  {
   "cell_type": "code",
   "execution_count": 140,
   "metadata": {
    "collapsed": false
   },
   "outputs": [],
   "source": [
    "Spill_over = Spill_Temp('./Temp_Spill.dat')\n",
    "spill = np.zeros_like(data)\n",
    "for freq_index in range(freq.shape[0]) : \n",
    "    for elev_index in range(elev.shape[0]) : \n",
    "        spill[elev_index,freq_index] =  Spill_over.spill['HH']((np.array([[elev[elev_index],],[freq[freq_index]]]))) "
   ]
  },
  {
   "cell_type": "code",
   "execution_count": 144,
   "metadata": {
    "collapsed": false
   },
   "outputs": [
    {
     "data": {
      "image/png": "[encoded data removed]",
      "text/plain": [
       "<matplotlib.figure.Figure at 0x7f1ac0ce21d0>"
      ]
     },
     "metadata": {},
     "output_type": "display_data"
    }
   ],
   "source": [
    "figure(figsize=(10,10))\n",
    "freq_index = 23\n",
    "plot(elev[:],spill[:,freq_index])\n",
    "a = title('Spillover  at Frequency = %s MHz'%(freq[freq_index]))"
   ]
  },
  {
   "cell_type": "markdown",
   "metadata": {},
   "source": [
    "#System Temperature\n",
    "\n",
    "$T_{sys}(el) = T_{sky}(ra,dec)  + T_{atm}*(1-\\exp(\\frac{-\\tau_{0}}{\\sin(el)})) + T_{spill}(el) +  T_{rec}$\n",
    "\n",
    "You will need to work out $T_{rec}$ &  $\\tau_{0}$ from the data by fitting for the parameters ##\n",
    "\n"
   ]
  },
  {
   "cell_type": "code",
   "execution_count": 154,
   "metadata": {
    "collapsed": true
   },
   "outputs": [],
   "source": [
    "tau_0 = np.zeros_like(freq)\n",
    "Temp_rec = np.zeros_like(freq)"
   ]
  },
  {
   "cell_type": "code",
   "execution_count": 162,
   "metadata": {
    "collapsed": false
   },
   "outputs": [
    {
     "ename": "RuntimeError",
     "evalue": "Put in the surface tempreture",
     "output_type": "error",
     "traceback": [
      "\u001b[1;31m---------------------------------------------------------------------------\u001b[0m",
      "\u001b[1;31mRuntimeError\u001b[0m                              Traceback (most recent call last)",
      "\u001b[1;32m<ipython-input-162-73243d9d435c>\u001b[0m in \u001b[0;36m<module>\u001b[1;34m()\u001b[0m\n\u001b[0;32m      1\u001b[0m \u001b[0msurface_temperature\u001b[0m \u001b[1;33m=\u001b[0m \u001b[1;33m-\u001b[0m\u001b[1;36m273\u001b[0m \u001b[1;31m# Deg C\u001b[0m\u001b[1;33m\u001b[0m\u001b[0m\n\u001b[1;32m----> 2\u001b[1;33m \u001b[1;32mraise\u001b[0m \u001b[0mRuntimeError\u001b[0m\u001b[1;33m(\u001b[0m\u001b[1;34m'Put in the surface tempreture'\u001b[0m\u001b[1;33m)\u001b[0m\u001b[1;33m\u001b[0m\u001b[0m\n\u001b[0m\u001b[0;32m      3\u001b[0m \u001b[0mT_atm\u001b[0m \u001b[1;33m=\u001b[0m \u001b[1;36m1.12\u001b[0m \u001b[1;33m*\u001b[0m \u001b[1;33m(\u001b[0m\u001b[1;36m273.15\u001b[0m \u001b[1;33m+\u001b[0m \u001b[0msurface_temperature\u001b[0m\u001b[1;33m)\u001b[0m \u001b[1;33m-\u001b[0m \u001b[1;36m50.0\u001b[0m\u001b[1;33m\u001b[0m\u001b[0m\n\u001b[0;32m      4\u001b[0m \u001b[1;32mfor\u001b[0m \u001b[0mfreq_index\u001b[0m \u001b[1;32min\u001b[0m \u001b[0mrange\u001b[0m\u001b[1;33m(\u001b[0m\u001b[0mfreq\u001b[0m\u001b[1;33m.\u001b[0m\u001b[0mshape\u001b[0m\u001b[1;33m[\u001b[0m\u001b[1;36m0\u001b[0m\u001b[1;33m]\u001b[0m\u001b[1;33m)\u001b[0m \u001b[1;33m:\u001b[0m\u001b[1;33m\u001b[0m\u001b[0m\n\u001b[0;32m      5\u001b[0m     \u001b[0mtipping_curve_func\u001b[0m \u001b[1;33m=\u001b[0m \u001b[0mNone\u001b[0m\u001b[1;33m\u001b[0m\u001b[0m\n",
      "\u001b[1;31mRuntimeError\u001b[0m: Put in the surface tempreture"
     ]
    }
   ],
   "source": [
    "surface_temperature = -273 # Deg C\n",
    "raise RuntimeError('Put in the surface tempreture')\n",
    "T_atm = 1.12 * (273.15 + surface_temperature) - 50.0  \n",
    "for freq_index in range(freq.shape[0]) : \n",
    "    tipping_curve_func = None\n",
    "    raise RuntimeError('Write a function that you ca fit the parameters to ')\n",
    "    # Initialise the fitter with the function and an initial guess of the parameter values\n",
    "    tip = fit.NonLinearLeastSquaresFit(tipping_curve_func, [70, 0.005]) # [T_rec = 70 K , tau_0 = 0.005] are starting values\n",
    "    tip.fit(np.arange(np.shape(elev)[0])[mask], data[mask,freq_index])\n",
    "    Temp_rec[freq_index] = tip.params[0]\n",
    "    tau_0[freq_index] = tip.params[1]\n",
    "#  results come from tip.params\n",
    "\n",
    "freq_index = 23\n",
    "print('T_rec = %.2f K  at %f MHz'  % (Temp_rec[freq_index],freq[freq_index]))\n",
    "print('Zenith opacity tau_0 = %.5f' % (tau_0[freq_index],))\n"
   ]
  },
  {
   "cell_type": "markdown",
   "metadata": {},
   "source": [
    "## Plot Tipping curve's derived bandpass response##"
   ]
  },
  {
   "cell_type": "code",
   "execution_count": 163,
   "metadata": {
    "collapsed": false
   },
   "outputs": [
    {
     "data": {
      "image/png": "[encoded data removed]",
      "text/plain": [
       "<matplotlib.figure.Figure at 0x7f1ac0bca4d0>"
      ]
     },
     "metadata": {},
     "output_type": "display_data"
    }
   ],
   "source": [
    "figure(figsize=(10,10))\n",
    "plot(freq[:],Temp_rec[:])\n",
    "ylabel('Kelvin')\n",
    "xlabel('Frequency(MHz)')\n",
    "a = title('Receiver  Temp ')"
   ]
  },
  {
   "cell_type": "code",
   "execution_count": 159,
   "metadata": {
    "collapsed": false
   },
   "outputs": [
    {
     "data": {
      "image/png": "[encoded data removed]",
      "text/plain": [
       "<matplotlib.figure.Figure at 0x7f1ac094ec50>"
      ]
     },
     "metadata": {},
     "output_type": "display_data"
    }
   ],
   "source": [
    "figure(figsize=(10,10))\n",
    "freq_index = 23\n",
    "plot(freq[:],tau_0[:])\n",
    "ylabel('Kelvin')\n",
    "xlabel('Frequency(MHz)')\n",
    "a = title(' Zenith Atmospheric Opacity  ')"
   ]
  },
  {
   "cell_type": "markdown",
   "metadata": {},
   "source": [
    "##Atmospheric opacity\n",
    "Calculates zenith opacity according to ITU-R P.676-9. For elevations > 10 deg.<br>\n",
    "        Used as $T_{atm}(1-\\exp(\\frac{-\\tau_{0}}{\\sin(el)}))$ for elevation dependence.<br>\n",
    "        T: temperature in deg C<br>\n",
    "        RH: relative humidity, 0 < RH < 1<br>\n",
    "        P: dry air pressure in hPa (equiv. mbar)air pressure used insteead of dry air pressure<br> \n",
    "        h: height above sea level in km<br>\n",
    "        f: frequency in GHz (must be < 55 GHz)<br>\n",
    "        This function returns the return: approximate atmospheric opacity at zenith [Nepers]<br>\n",
    "        \n",
    "tau = calc_atmospheric_opacity(T_sys.surface_temperature,T_sys.air_relative_humidity, T_sys.pressure, T_sys.height/1000., freqs/1000.)\n"
   ]
  },
  {
   "cell_type": "code",
   "execution_count": 20,
   "metadata": {
    "collapsed": false
   },
   "outputs": [],
   "source": [
    "def calc_atmospheric_opacity(T, RH, P, h=1.035, f=1.4):\n",
    "    \"\"\" \n",
    "        Calculates zenith opacity according to ITU-R P.676-9. For elevations > 10 deg.\n",
    "        Use as \"Tsky*(1-exp(-opacity/sin(el)))\" for elevation dependence.\n",
    "        T: temperature in deg C\n",
    "        RH: relative humidity, 0 < RH < 1\n",
    "        P: dry air pressure in hPa (equiv. mbar)\n",
    "        h: height above sea level in km\n",
    "        f: frequency in GHz (must be < 55 GHz)\n",
    "        This function returns the return: approximate atmospheric opacity at zenith [Nepers]\n",
    "    \"\"\"\n",
    "    es = 6.1121*np.exp((18.678-T/234.5)*T/(257.14+T)) # [hPa] from A. L. Buck research manual 1996\n",
    "    rho = RH*es*216.7/(T+273.15) # [g/m^3] from A. L. Buck research manual 1996 (ITU-R ommited the factor \"RH\" - a mistake)\n",
    "    \n",
    "    # The following is taken directly from ITU-R P.676-9\n",
    "    p_tot = P + es # from eq 3\n",
    "    \n",
    "    rho = rho*np.exp(h/2) # Adjust to sea level as per eq 32\n",
    "    \n",
    "    # eq 22\n",
    "    r_t = 288./(273.+T)\n",
    "    r_p = p_tot/1013.\n",
    "    phi = lambda a, b, c, d: r_p**a*r_t**b*np.exp(c*(1-r_p)+d*(1-r_t))\n",
    "    E_1 = phi(0.0717,-1.8132,0.0156,-1.6515)\n",
    "    E_2 = phi(0.5146,-4.6368,-0.1921,-5.7416)\n",
    "    E_3 = phi(0.3414,-6.5851,0.2130,-8.5854)\n",
    "    # Following is valid only for f <= 54 GHz\n",
    "    yo = ( 7.2*r_t**2.8 / (f**2+0.34*r_p**2*r_t**1.6) + 0.62*E_3 / ((54-f)**(1.16*E_1)+0.83*E_2) ) * f**2 * r_p**2 *1e-3\n",
    "    # eq 23\n",
    "    n_1 = 0.955*r_p*r_t**0.68 + 0.006*rho\n",
    "    n_2 = 0.735*r_p*r_t**0.5 + 0.0353*r_t**4*rho\n",
    "    g = lambda f, f_i: 1+(f-f_i)**2/(f+f_i)**2\n",
    "    yw = (  3.98*n_1*np.exp(2.23*(1-r_t))/((f-22.235)**2+9.42*n_1**2)*g(f,22) + 11.96*n_1*np.exp(0.7*(1-r_t))/((f-183.31)**2+11.14*n_1**2)\n",
    "          + 0.081*n_1*np.exp(6.44*(1-r_t))/((f-321.226)**2+6.29*n_1**2) + 3.66*n_1*np.exp(1.6*(1-r_t))/((f-325.153)**2+9.22*n_1**2)\n",
    "          + 25.37*n_1*np.exp(1.09*(1-r_t))/(f-380)**2 + 17.4*n_1*np.exp(1.46*(1-r_t))/(f-448)**2\n",
    "          + 844.6*n_1*np.exp(0.17*(1-r_t))/(f-557)**2*g(f,557) + 290*n_1*np.exp(0.41*(1-r_t))/(f-752)**2*g(f,752)\n",
    "          + 8.3328e4*n_2*np.exp(0.99*(1-r_t))/(f-1780)**2*g(f,1780)\n",
    "          ) * f**2*r_t**2.5*rho*1e-4\n",
    "    \n",
    "    # eq 25\n",
    "    t_1 = 4.64/(1+0.066*r_p**-2.3) * np.exp(-((f-59.7)/(2.87+12.4*np.exp(-7.9*r_p)))**2)\n",
    "    t_2 = 0.14*np.exp(2.12*r_p) / ((f-118.75)**2+0.031*np.exp(2.2*r_p))\n",
    "    t_3 = 0.0114/(1+0.14*r_p**-2.6) * f * (-0.0247+0.0001*f+1.61e-6*f**2) / (1-0.0169*f+4.1e-5*f**2+3.2e-7*f**3)\n",
    "    ho = 6.1/(1+0.17*r_p**-1.1)*(1+t_1+t_2+t_3)\n",
    "    \n",
    "    # eq 26\n",
    "    sigma_w = 1.013/(1+np.exp(-8.6*(r_p-0.57)))\n",
    "    hw = 1.66*( 1 + 1.39*sigma_w/((f-22.235)**2+2.56*sigma_w) + 3.37*sigma_w/((f-183.31)**2+4.69*sigma_w) + 1.58*sigma_w/((f-325.1)**2+2.89*sigma_w) )\n",
    "    \n",
    "    # Attenuation from dry & wet atmosphere relative to a point outside of the atmosphere\n",
    "    A = yo*ho*np.exp(-h/ho) + yw*hw*np.exp(-h/hw) # [dB] from equations 27, 30 & 31\n",
    "    \n",
    "    return A*np.log(10)/10.0 # Convert dB to Nepers\n"
   ]
  },
  {
   "cell_type": "markdown",
   "metadata": {},
   "source": [
    "The 'tipping curve' is calculated and evaluated using the expression below, with the free parameters of $T_{Rec}$ and $\\tau_{0}$\n",
    "the Receiver tempreture and the atmospheric opacity.\n",
    "\n",
    "All the varables are also functions of frequency .<br>\n",
    "$T_{sys}(el) = T_{cmb}(ra,dec)  + T_{atm}*(1-\\exp(\\frac{-\\tau_{0}}{\\sin(el)})) + T_{spill}(el) +T_{rec}$ <br>\n",
    "\n",
    "The opacity can be calculated according to ITU-R P.676-9 or it can be fit for. <br>\n"
   ]
  },
  {
   "cell_type": "markdown",
   "metadata": {},
   "source": []
  },
  {
   "cell_type": "markdown",
   "metadata": {},
   "source": [
    "#Main script flow\n",
    "\n",
    "* Load the data\n",
    "    * $T_{sky}$ calculation\n",
    "    * Remove Data affected by Point source\n",
    "* fit to the function to calculate to get the values of $T_{rec}$ and $\\tau_0$ only the HH pol $T_{sys}$ is provided\n",
    "* Plot a bandpass responce of the system\n",
    "* Plot  $\\tau_0$  and re values from the ITU-R P.676-9 model\n",
    "    * Use the ITU-R P.676-9  atmospheric opacity model to get the values of $\\tau_0$  and only fit for $T_{rec}$\n",
    "    * Comment on RFI contamination as an effect on $T_{rec}$  Look at the GPS & GLONASS bands and AFRISTAR digital radio  frequencys\n",
    "\n",
    "\n",
    "\n",
    "* Optional Question :\n",
    "    * What was the peak flux density from the point source ( less cmb and receiver contrabutions )\n",
    "\n",
    "\n",
    "Useful Infomation \n",
    "* The Telescope is  1035 Meters Above Sea Level\n",
    "* The surface tempreture was 30.5 Degrees C.\n",
    "* The relitive humidaty was 27 %\n",
    "* Air pressure was 898.0 hPa (equiv. mbar)\n",
    "* The Telescope has a dish of 12 meters in diameter\n"
   ]
  },
  {
   "cell_type": "markdown",
   "metadata": {},
   "source": []
  },
  {
   "cell_type": "code",
   "execution_count": 45,
   "metadata": {
    "collapsed": true
   },
   "outputs": [],
   "source": []
  },
  {
   "cell_type": "code",
   "execution_count": null,
   "metadata": {
    "collapsed": true
   },
   "outputs": [],
   "source": []
  },
  {
   "cell_type": "code",
   "execution_count": null,
   "metadata": {
    "collapsed": true
   },
   "outputs": [],
   "source": []
  },
  {
   "cell_type": "markdown",
   "metadata": {},
   "source": [
    "The 'tipping curve' is calculated according to the expression below,<br>\n",
    "with the the parameters of $T_{rec}$ and $\\tau_{0}$,<br>\n",
    "the Antenna tempreture and the atmospheric opacity respectivly.<br>\n",
    "All the varables are also functions of frequency.<br>\n",
    "<br>\n",
    "$T_{sys}(el) = T_{cmb}(ra,dec) + T_{gal}(ra,dec) + T_{atm}*(1-\\exp(\\frac{-\\tau_{0}}{\\sin(el)})) + T_{spill}(el) + \n",
    "+ T_{rec}$\n",
    "<br><br>\n",
    " $\\tau_{0}$, the zenith opacity,\n",
    "<br>The function calc_atmospheric_opacity will calculate $\\tau_{0}$, the zenith opacity,\n",
    " according to ITU-R P.676-9. <br>\n",
    "$T_{rec}$ is the Receveier tempreture .<br>\n"
   ]
  }
 ],
 "metadata": {
  "kernelspec": {
   "display_name": "Python 2",
   "language": "python",
   "name": "python2"
  },
  "language_info": {
   "codemirror_mode": {
    "name": "ipython",
    "version": 2
   },
   "file_extension": ".py",
   "mimetype": "text/x-python",
   "name": "python",
   "nbconvert_exporter": "python",
   "pygments_lexer": "ipython2",
   "version": "2.7.6"
  }
 },
 "nbformat": 4,
 "nbformat_minor": 0
}
