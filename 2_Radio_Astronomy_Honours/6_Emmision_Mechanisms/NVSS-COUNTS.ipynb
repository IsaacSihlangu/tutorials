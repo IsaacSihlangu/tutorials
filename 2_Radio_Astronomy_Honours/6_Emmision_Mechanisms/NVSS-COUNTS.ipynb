{
 "cells": [
  {
   "cell_type": "markdown",
   "metadata": {},
   "source": [
    "# NVSS Source Counts"
   ]
  },
  {
   "cell_type": "markdown",
   "metadata": {},
   "source": [
    "In this tutorial we will load the raw NVSS catalogue into python, have a look at the data and plot the Euclidean normalised source counts from this data.\n",
    "\n",
    "The NVSS is a large area 1.4 GHz survey undertaken with the VLA. It covers the entire sky north of declination -40 degrees and has a limiting flux density of ~2.5 mJy.\n",
    "\n",
    "The NVSS catalogue that we will be using in this tutorial has been constructed by finding all of the peaks above 2.5 mJy in the images and fitting a 2 dimensional elliptical Gaussian model to each source. The parameters of the elliptical Gaussian fit are:\n",
    "\n",
    "1) The x,y position of the source (RA and Dec in our case)\n",
    "\n",
    "2) The peak of the gaussian (in Jy/beam) - beam is the word used by radio astronomers for the resolution.\n",
    "\n",
    "3) The 2D elliptical parameters of the source - Major Axis, Minor Axis, Position Angle\n",
    "\n",
    "To start with we will import some required modules and set up some useful initial variables. We will use the module pyfits to load the NVSS catalogue, numpy for array manipulation and matplotlib to do our plotting. This tutorial assumes you have access to the NVSS catalogue in FITS binary table format (this is the standard data product produced from the NVSS survey). If you don't have the file you can download it from the NVSS webpage at http://www.cv.nrao.edu/nvss/ - this page also contains lots of information about the survey with which you may want to familiarse yourself.\n",
    "\n",
    "NVSSFILE is a string containing the disk location of the NVSS catalogue fits file.\n",
    "NVSSBEAM is the size of the NVSS resolution element (known as the 'beam' in radio astronomy) in degrees. The NVSS beam is a circular gaussian of width 45 arcseconds, so the width in degrees is 45/3600 (3600 arcseconds in a degree)."
   ]
  },
  {
   "cell_type": "code",
   "execution_count": null,
   "metadata": {
    "collapsed": false
   },
   "outputs": [],
   "source": [
    "import pyfits\n",
    "import numpy as np\n",
    "from matplotlib import pylab as plt\n",
    "%matplotlib inline\n",
    "\n",
    "NVSSFILE=''\n",
    "NVSSBEAM=45./3600."
   ]
  },
  {
   "cell_type": "markdown",
   "metadata": {},
   "source": [
    "Now we will open the NVSS catalogue using pyfits and look at its structure. The fileptr=pyfits.open(<FILE>) command will load the file into a filepointer.\n",
    "\n",
    "Fits files are separated into \"Header/Data Units\" or HDU's. The catalogue data is located in the second HDU in the file (the first just contains general header information about the catalogue).\n",
    "\n",
    "The catalogue data contained in the second hdu, contains a list of sources with various parameters of each source. These parameters are derived from fits of gaussians at the position of each NVSS source in the survey. To list the names of the fitted parameters in the colums you should open the table (using nvsstable=fileptr[1].data) and then print the names of the columns using nvsstable.names."
   ]
  },
  {
   "cell_type": "code",
   "execution_count": null,
   "metadata": {
    "collapsed": false
   },
   "outputs": [],
   "source": [
    "#Open the FITS file\n",
    "fileptr   = pyfits.open(NVSSFILE)\n",
    "#The NVSS catalogue is in the second HDU and is accesed via the 'data' attribute in the pyfits HDU object\n",
    "nvsstable = fileptr[1].data\n",
    "#Print the names of the columns in the data table\n",
    "\n"
   ]
  },
  {
   "cell_type": "markdown",
   "metadata": {},
   "source": [
    "Here are some definitions of the columns of the table:\n",
    "    \n",
    "    RA(2000): The Right Ascension of the source\n",
    "    DEC(2000): The declination of the source\n",
    "    PEAK INT: The peak flux density of the Gaussian fitted to the source\n",
    "    MAJOR AX: The major axis size of the fitted elliptical Gaussian\n",
    "    MINOR AX: The minor axis size of the fitted elliptical Gaussian\n",
    "    POSANGLE: The position angle of the fitted elliptical Gaussian\n",
    "        \n",
    "The other columns are not relevant to the tutorial. If you want to find out more about them, check the NVSS website."
   ]
  },
  {
   "cell_type": "markdown",
   "metadata": {},
   "source": [
    "Lets extract the required parameters from the catalogue to do the tutorial. I've filled in the first two, you need to add the rest from the list above."
   ]
  },
  {
   "cell_type": "code",
   "execution_count": null,
   "metadata": {
    "collapsed": false
   },
   "outputs": [],
   "source": [
    "decs = nvsstable['DEC(2000)']    #Declination\n",
    "ras = nvsstable['RA(2000)']      #Right Ascension\n",
    "peakflux =                       #Fitted peak flux density                \n",
    "majsize =                        #Fitted major axis size\n",
    "minsize =                        #Fitted minor axis size\n",
    "sourcepa =                       #Fitted position angle"
   ]
  },
  {
   "cell_type": "markdown",
   "metadata": {},
   "source": [
    "Now before we do anything else we need to make one important correction.\n",
    "\n",
    "The flux densities quoted in the raw NVSS catalogue we are using are fitted peak flux densities. We will need to convert the fitted peak flux densities into total flux densities before we can plot the source counts. To calculate the total flux density we just need to multiply the peak flux density by the area of the source. Peak flux densities are measured in units of mJy/beam and total flux density is just in units of mJy, so the area of the source we use should be in units of the beam. The sources in the NVSS catalogue are fitted with an elliptical Gaussian model. The beam of the NVSS (which we defined at the beginning of this tutorial) is also an elliptical Gaussian. We therefore just need to multiply the peak flux densities by the areas in units of the NVSS beam. This should be: totalflux=peakflux x (majsize x minsize) / (NVSSBEAM x NVSSBEAM)"
   ]
  },
  {
   "cell_type": "markdown",
   "metadata": {},
   "source": [
    "Fill in the correct equation for total flux below."
   ]
  },
  {
   "cell_type": "code",
   "execution_count": null,
   "metadata": {
    "collapsed": false
   },
   "outputs": [],
   "source": [
    "totalflux  = "
   ]
  },
  {
   "cell_type": "markdown",
   "metadata": {},
   "source": [
    "Now we are ready to make some plots.\n",
    "\n",
    "First lets plot the distribution of the NVSS catalogue sources on the sky. The code in the block below should do this for you assuming the variables are set up correctly in the previous code blocks. Try and understand what it is doing.\n",
    "\n",
    "If this code works you should see the NVSS sources above the chosen flux density limit plotted in a Mollweide projection - this projection corrects from the spherical sky to the flat computer screen. Note the isotropy of the radio sources away from the galactic plane.\n",
    "\n",
    "The minimum flux plotted is set to 1 Jy, try setting this to 100 mJy to see what difference it makes."
   ]
  },
  {
   "cell_type": "code",
   "execution_count": null,
   "metadata": {
    "collapsed": false
   },
   "outputs": [],
   "source": [
    "FLUXLIMJY = 1                  #Limiting flux for sources to plot.\n",
    "\n",
    "# Correct the Right Ascensions to work with matplotlib mollweide projection and convert from degrees to radians.\n",
    "# Subtract 180 deg. as matplotlib plots between -180 and 180 (RA is 0 to 360), \n",
    "# and multiply by -1 as RA runs from east to west.\n",
    "plot_ras = (ras[totalflux>FLUXLIMJY]-180.)*np.pi/180.*-1.0\n",
    "# Convert declination to radians\n",
    "plot_decs = (decs[totalflux>FLUXLIMJY])*np.pi/180.\n",
    "\n",
    "# Set up the figure\n",
    "figure = plt.figure(figsize=(50,50))\n",
    "ax = plt.subplot(111, projection='mollweide')\n",
    "# Dont plot the RA labels (as number dont refect real RA's)\n",
    "ax.xaxis.set_visible(False)\n",
    "#Plot\n",
    "ax.plot(plot_ras,plot_decs,'.')\n",
    "plot.show()\n",
    "plot.close()"
   ]
  },
  {
   "cell_type": "markdown",
   "metadata": {},
   "source": [
    "Below is a code block to explore the NVSS catalogue yourself.\n",
    "\n",
    "How many sources are in the catalogue?             (use: <array>.shape)\n",
    "\n",
    "What is the minumum flux density of the catalogue? (use: np.min)\n",
    "\n",
    "What is the maximum flux density of the catalogue? (use: np.max)"
   ]
  },
  {
   "cell_type": "code",
   "execution_count": null,
   "metadata": {
    "collapsed": false
   },
   "outputs": [],
   "source": [
    "numsources = \n",
    "minflux = \n",
    "maxflux = \n",
    "print numsources,minflux,maxflux"
   ]
  },
  {
   "cell_type": "markdown",
   "metadata": {},
   "source": [
    "OK, now we will move to calculating the normalised source counts. You will largely be on your own here and the code blocks are mostly empty except some additions for setting up the plots.\n",
    "\n",
    "In the code block below I have set up an array of logarithmically spaced bins to use for the counts using np.logspace, I have set up 50 bins from the minumum flux of the NVSS catalogue (defined in the previous code block as minflux) to 10 Jy - above this flux density the numbers of sources are very small and bright Galactic sources begin to dominate the population.\n",
    "\n",
    "In the code block below you should calculate 3 things from the bins I have set up for you:\n",
    "\n",
    "widths: The linear widths of the bins (ie. bins[i+1]-bins[i])\n",
    "\n",
    "centres: The centres of the bins (ie. (bins[i] + bins[i+1])/2)\n",
    "\n",
    "counts: The number of NVSS catalogue sources in each bin (np.histogram should be useful here- look it up online)\n",
    "\n",
    "I have added a comment about errors- these should be the Poisson error in each bin (ie: sqrt(counts)) - you don't need to compute these now- but you can come back and do this later if you have time.\n",
    "\n",
    "Aside: For the python-savvy amongst you - can you compute the variables in one line of code each? "
   ]
  },
  {
   "cell_type": "code",
   "execution_count": null,
   "metadata": {
    "collapsed": false
   },
   "outputs": [],
   "source": [
    "# Set up a list of 50 logarithically spaced bins from 'minflux' to 10 Jy (logspace takes log10(range) as input)\n",
    "bins = np.logspace(np.log10(minflux),1.0,50)\n",
    "\n",
    "widths = \n",
    "centres = \n",
    "counts = \n",
    "# Poisson Errors??"
   ]
  },
  {
   "cell_type": "markdown",
   "metadata": {},
   "source": [
    "OK, now that you have set up the required variables, first lets try plotting the raw numbers of NVSS sources as a function of their flux density. (ie - plot counts vs centres )\n",
    "\n",
    "You should see that the raw numbers decline steeply with increasing flux density. \n",
    "\n",
    "Do you see a turnover at the faintest flux densities? Why might this be?"
   ]
  },
  {
   "cell_type": "code",
   "execution_count": null,
   "metadata": {
    "collapsed": false
   },
   "outputs": [],
   "source": [
    "#Set up a log-log plot for N as a function of S\n",
    "figure=plt.figure(figsize=(15,10))\n",
    "plt.ylabel(\"N\")\n",
    "plt.xlabel(\"S (Jy)\")\n",
    "plt.yscale('log')\n",
    "plt.xscale('log')\n",
    "\n"
   ]
  },
  {
   "cell_type": "markdown",
   "metadata": {},
   "source": [
    "Now that you have plotted the raw value of N as a function of s. The next step is to plot the differential function n(s) (or dn/ds). This is just the raw count N divided by the bin width.\n",
    "\n",
    "Go ahead and to plot n(s)=count/width vs totalflux."
   ]
  },
  {
   "cell_type": "code",
   "execution_count": null,
   "metadata": {
    "collapsed": false
   },
   "outputs": [],
   "source": [
    "#Calculate n(s)\n",
    "\n",
    "# Set up a log-log plot for n(s) as a function of S\n",
    "figure=plt.figure(figsize=(15,10))\n",
    "plt.ylabel(\"n(s)\")\n",
    "plt.xlabel(\"S (Jy)\")\n",
    "plt.yscale('log')\n",
    "plt.xscale('log')\n"
   ]
  },
  {
   "cell_type": "markdown",
   "metadata": {},
   "source": [
    "One of the reasons for the steepness seen in the unnormised counts you have plotted is that the number of sources is very large in the volume of space we a sampling- we need to make a euclidean correction to account for this.\n",
    "\n",
    "We will plot the Euclidean normalised count, as was seen in the lectures. \n",
    "\n",
    "Remember the Euclidean normalisation flattens the n(s) counts for a static Euclidean universe:\n",
    "\n",
    "Assuming a class of uniformly distributed objects with a luminosity L which are detectable some limiting flux density, S, out to a distance r. The observed number, N is then proportional to the Volume: \n",
    "\n",
    "$N \\propto r^3$\n",
    "\n",
    "The flux density observed from a source at a distance r follows the inverse-square law: \n",
    "\n",
    "$S \\propto r^{-2}$\n",
    "\n",
    "therefore:\n",
    "\n",
    "$r^3 \\propto S^{-3/2}$\n",
    "\n",
    "and combining things gives:\n",
    "\n",
    "$N(>S) \\propto S^{-3/2}$\n",
    "\n",
    "and the differential version is:\n",
    "\n",
    "$n(s) \\propto S^{-5/2}$\n",
    "\n",
    "Therefore, to normalise the above we need to divide our counts from the previous plot (n(s)) , by $S^{-5/2}$\n",
    "\n",
    "Try this now and plot it below.\n",
    "\n",
    "How does this compare with the counts shown in lectures? Can you explain any differences?\n",
    "\n",
    "If you have time- perhaps you can add poisson error bars to this plot?"
   ]
  },
  {
   "cell_type": "code",
   "execution_count": null,
   "metadata": {
    "collapsed": false
   },
   "outputs": [],
   "source": [
    "#Calculate the normalised Euclidean count\n",
    "\n",
    "#Set up Figure for plotting\n",
    "figure=plt.figure(figsize=(15,10))\n",
    "plt.ylabel(\"n(s) / S^-2.5\")\n",
    "plt.xlabel(\"S (Jy)\")\n",
    "plt.yscale('log')\n",
    "plt.xscale('log')\n"
   ]
  },
  {
   "cell_type": "code",
   "execution_count": null,
   "metadata": {
    "collapsed": false
   },
   "outputs": [],
   "source": []
  }
 ],
 "metadata": {
  "kernelspec": {
   "display_name": "Python 2",
   "language": "python",
   "name": "python2"
  },
  "language_info": {
   "codemirror_mode": {
    "name": "ipython",
    "version": 2
   },
   "file_extension": ".py",
   "mimetype": "text/x-python",
   "name": "python",
   "nbconvert_exporter": "python",
   "pygments_lexer": "ipython2",
   "version": "2.7.6"
  }
 },
 "nbformat": 4,
 "nbformat_minor": 0
}
