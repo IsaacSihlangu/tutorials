{
 "metadata": {
  "name": "",
  "signature": "sha256:3b69f11a29d5cf338faa6e8db7e8e6a4fe5738840365907d18c7a4564ba2c5ef"
 },
 "nbformat": 3,
 "nbformat_minor": 0,
 "worksheets": [
  {
   "cells": [
    {
     "cell_type": "markdown",
     "metadata": {},
     "source": [
      "Notes orginally from http://www.cv.nrao.edu/course/astr534/2DApertures.html. This work is licensed under a Creative Commons Attribution-Noncommercial-Share Alike 3.0 License. (http://creativecommons.org/licenses/by-nc-sa/3.0/) "
     ]
    },
    {
     "cell_type": "heading",
     "level": 1,
     "metadata": {},
     "source": [
      "Two-Dimensional Aperture Antennas"
     ]
    },
    {
     "cell_type": "heading",
     "level": 2,
     "metadata": {},
     "source": [
      "The field pattern of a two-dimensional aperture "
     ]
    },
    {
     "cell_type": "markdown",
     "metadata": {},
     "source": [
      "The method we used to show that the field pattern of a one-dimensional aperture is the one-dimensional Fourier transform of the aperture field illumination can simply be generalized to the more realistic case of a two-dimensional aperture: \n",
      "$$\\bbox[border:3px blue solid,7pt]{f(l,m) \\propto \\int_{-\\infty}^{\\infty} \\int_{-\\infty}^{\\infty} g(u,v) e^{-i 2 \\pi(l u + mv)} d u d v }\\rlap{\\quad \\rm {(3C1)}}$$ \n",
      " where $m$ is the $y$-axis analog of $l$ on the $x$-axis, and $v \\equiv y / \\lambda$. In words, \n",
      "\n",
      "   The electric field pattern of a two-dimensional aperture is the two-dimensional Fourier transform of the aperture field illumination. "
     ]
    },
    {
     "cell_type": "heading",
     "level": 2,
     "metadata": {},
     "source": [
      "The Uniformly Illuminated Rectangular Aperture "
     ]
    },
    {
     "cell_type": "markdown",
     "metadata": {},
     "source": [
      "![](http://www.cv.nrao.edu/course/astr534/images/rectap.svg)\n",
      "\n",
      "A two-dimensional rectangular aperture with side lengths $D_{\\rm x}$ and $D_{\\rm y}$. Dividing lengths in the aperture plane by the wavelength $\\lambda$ yield the normalized coordinates $u \\equiv x / \\lambda$ and $v \\equiv y / \\lambda$. The direction from the origin to any distant point can be specified by $l \\equiv \\sin \\theta_{\\rm x}$ and $m \\equiv \\sin \\theta_{\\rm y}$, where $\\theta_{\\rm x}$ is the angle from the $(y,z)$ plane and $\\theta_{\\rm y}$ is the angle from the $(x, z)$ plane. \n",
      "\n",
      "The two-dimensional counterpart of a uniformly illuminated one-dimensional aperture is a uniformly illuminated rectangular aperture with sides $D_{\\rm x}$ and $D_{\\rm y}$. If the illumination $g(x,y)$ is constant over the aperture, the integrals over $u$ and $v$ in the Fourier transform are separable and $$f(l,m) \\propto {\\rm sinc}\\biggl( { l D_{\\rm x} \\over \\lambda} \\biggr) {\\rm sinc} \\biggl({m D_{\\rm y} \\over \\lambda} \\biggr)~,$$ where $${\\rm sinc}(x) \\equiv \\sin(\\pi x) / (\\pi x)~.$$ Squaring the electric field pattern gives the relative (normalized to unity at the peak) power pattern $$P_{\\rm n}(l,m) = {\\rm sinc}^2\\biggl({ l D_{\\rm x} \\over \\lambda} \\biggr) {\\rm sinc}^2 \\biggl({m D_{\\rm y} \\over \\lambda} \\biggr)$$ Given the relative power pattern, we can calculate the absolute power gain $G$ in any direction by invoking energy conservation: $$\\int G d \\Omega = 4 \\pi = G_0 \\int_{-1}^{+1} \\int_{-1}^{+1} P_{\\rm n}(l,m) d l\\, d m$$ $$4 \\pi = G_0 \\int_{-1}^{+1} \\Biggl[ {\\sin ( \\pi l D_{\\rm x} / \\lambda ) \\over \\pi l D_{\\rm x} / \\lambda } \\Biggr]^ 2 dl \\, \\int_{-1}^{+1} \\Biggl[ {\\sin (\\pi m D_{\\rm y} / \\lambda) \\over \\pi m D_{\\rm y} / \\lambda} \\Biggr]^ 2 dm $$ Defining the temporary variable $a$: \n",
      "$$a \\equiv {\\pi l D_{\\rm x} \\over \\lambda} {\\rm ,~~so~~} da = { \\pi D_{\\rm x} \\over \\lambda} dl$$ gives, for $D_{\\rm x} \\gg \\lambda$, \n",
      "$$ \\int_{-1}^{+1} \\Biggl[ {\\sin ( \\pi l D_{\\rm x} / \\lambda ) \\over \\pi l D_{\\rm x} / \\lambda } \\Biggr]^ 2 dl \\approx \\biggl[ \\int_{-\\infty}^\\infty {\\sin^2 a \\over a^2} da \\biggl] \\,{\\lambda \\over \\pi D_{\\rm x}} = {\\lambda \\over D_{\\rm x}}$$ since we can look up the definite integral in square brackets; its value is $\\pi$. $$4 \\pi = G_0 {\\lambda^2 \\over D_{\\rm x} D_{\\rm y}}~.$$ \n",
      "Thus the peak power gain is $$G_0 = {4 \\pi D_{\\rm x} D_{\\rm y} \\over \\lambda^2}$$ and the power pattern of a uniformly illuminated rectangular aperture with side lengths $D_{\\rm x}$ and $D_{\\rm y}$ is $$\\bbox[border:3px blue solid,7pt]{G = {4 \\pi D_{\\rm x} D_{\\rm y} \\over \\lambda^2} {\\rm sinc}^2\\biggl({ l D_{\\rm x} \\over \\lambda} \\biggr) {\\rm sinc}^2 \\biggl({m D_{\\rm y} \\over \\lambda} \\biggr) \\approx {4 \\pi D_{\\rm x} D_{\\rm y} \\over \\lambda^2} {\\rm sinc}^2\\biggl({ \\theta_{\\rm x} D_{\\rm x} \\over \\lambda} \\biggr) {\\rm sinc}^2 \\biggl({\\theta_{\\rm y} D_{\\rm y} \\over \\lambda} \\biggr)}\\rlap{\\quad \\rm {(3C2)}}$$ when $\\theta_{\\rm x}$ and $\\theta_{\\rm y}$ are much smaller than one radian. \n",
      "In general, the peak power gain of an aperture antenna is proportional to the geometric area $A_{\\rm geom}$ ($A_{\\rm geom} = D_{\\rm x} D_{\\rm y}$ in this case) of the aperture. The constant of proportionality is $4 \\pi / \\lambda^2$ for a uniformly illuminated aperture and somewhat less for any other illumination pattern. \n",
      "\n",
      "$$A_{\\rm e} = {\\lambda^2 G \\over 4 \\pi}$$ \n",
      "we find that the on-axis effective collecting area is \n",
      "$${\\rm max}(A_{\\rm e}) = {\\lambda^2 G_0 \\over 4 \\pi} = {4 \\pi \\lambda^2 D_{\\rm x} D_{\\rm y} \\over 4 \\pi \\lambda^2} = D_{\\rm x} D_{\\rm y} = A_{\\rm geom}$$ The peak effective area of an ideal uniformly illuminated aperture equals its geometric area, independent of wavelength. With any other illumination taper, the effective area is smaller than but proportional to the geometric area. It is useful to define the \n",
      "aperture efficiency $\\eta_{\\rm A}$ as the ratio of the effective area to geometric area: \n",
      "$$\\bbox[border:3px blue solid,7pt]{\\eta_{\\rm A} \\equiv { {\\rm max}(A_{\\rm e}) \\over A_{\\rm geom}}}\\rlap{\\quad \\rm {(3C3)}}$$ \n",
      "Thus $\\eta_{\\rm A} = 1$ for an ideal uniformly illuminated aperture and $\\eta_{\\rm A} < 1$ otherwise. \n",
      "Large ($D \\gg \\lambda$) waveguide horns are nearly uniformly illuminated unblocked apertures, so their actual gains and effective collecting areas can be calculated accurately. This makes them useful for measuring the absolute flux densities of strong sources such as Cas A and Cyg A and defining the practical flux-density scales used by radio astronomers (see Baars et al. 1977, A&amp;A, 61, 99). \n",
      "\n",
      "<img\n",
      " alt=\"photo of Little Big Horn, NRAO 1959 AnnRept\"\n",
      " src=\"http://www.cv.nrao.edu/course/astr534/images/LittleBigHorn.jpg\" style=\"width: 600px;\">\n",
      "\n",
      "The \"Little Big Horn\" at Green Bank, WV in 1959. It was used to measure the absolute flux density of the strong source Cas A. An excess noise of $T \\approx 3.5$ K was found but not recognized as important. "
     ]
    },
    {
     "cell_type": "heading",
     "level": 2,
     "metadata": {},
     "source": [
      "The Uniformly Illuminated Circular Aperture "
     ]
    },
    {
     "cell_type": "markdown",
     "metadata": {},
     "source": [
      "Most apertures associated with reflectors and lenses are circular. The power pattern of a uniformly illuminated circular aperture is known as the Airy pattern. This linked interactive plot shows how the Airy pattern behaves as a function of wavelength and aperture size. "
     ]
    },
    {
     "cell_type": "heading",
     "level": 2,
     "metadata": {},
     "source": [
      "The Circular Gaussian Illumination Pattern "
     ]
    },
    {
     "cell_type": "markdown",
     "metadata": {},
     "source": [
      "A good approximation for \"real\" radio telescopes with practical feeds and circular apertures is a circular Gaussian illumination pattern. The normalized Gaussian function $g(u)$ in one dimension is defined by $$g(u) \\equiv {1 \\over \\sqrt{2 \\pi} \\sigma} \\exp \\biggl( - {u^2 \\over 2 \\sigma^2} \\biggr) ~,$$ where $\\sigma$ is the \n",
      "(root mean square) width defined by $$\\sigma \\equiv \\biggl[ \\int_{-\\infty}^{\\infty} u^2 g(u) du \\bigg/ \\int_{-\\infty}^{\\infty} g(u) du \\biggl]^{1/2}$$ and \"normalized\" means $\\int_{-\\infty}^{\\infty} g(u) d u = 1$. \n",
      "\n",
      "![](http://www.cv.nrao.edu/course/astr534/images/gauss.svg)\n",
      "\n",
      "This bell-shaped curve is a plot of the (not normalized) Gaussian function $g = \\exp[ - u^2 / (2 \\sigma^2)]$. \n",
      "For the circular Gaussian illumination pattern $$ \\exp \\biggl( - { u^2 + v^2 \\over 2 \\sigma^2} \\biggr) = \\exp \\biggl( - {u^2 \\over 2 \\sigma^2} \\biggr) \\exp \\biggl( - { v^2 \\over 2 \\sigma^2} \\biggr) $$ the field pattern is $$f(l,m) \\propto \\int_{-\\infty}^{\\infty} \\int_{-\\infty}^{\\infty} \\exp \\biggl( - { u^2 \\over 2 \\sigma^2} \\biggr) \\exp \\biggl( - { v^2 \\over 2 \\sigma^2} \\biggr) \\exp [ -i 2 \\pi (l u + m v)] d u d v~, $$ where $\\sigma$ is the rms radius of the illumination pattern in wavelengths. The function $f(l,m)$ is separable: \n",
      "$$f(l,m) \\propto f(l) \\times f(m) ,$$ where $$f(l) \\equiv\\int_{-\\infty}^\\infty \\exp \\biggl( - {u^2 \\over 2 \\sigma^2}\\biggr) \\exp ( - i 2 \\pi l u ) du$$ and $$f(m) \\equiv \\int_{-\\infty}^\\infty \\exp \\biggl( - {v^2 \\over 2 \\sigma^2}\\biggr) \\exp ( - i 2 \\pi m v ) dv $$ Each integral is the one-dimensional Fourier transform of a Gaussian. The Fourier transform of the Gaussian $f(x) = \\exp (- \\pi x^2)$ is the Gaussian $F(s) = \\exp (- \\pi s^2)$ (derivation). Given this Fourier transform of the Gaussian with $2 \\pi \\sigma^2 = 1$, we can use the similarity theorem with $a = (\\sqrt{2 \\pi} \\sigma)^{-1}$ to get \n",
      "$$f(l) \\propto \\exp( - \\pi l^2 \\times 2 \\pi \\sigma^2)$$ $$f(m) \\propto \\exp( - \\pi m^2 \\times 2 \\pi \\sigma^2)$$ so the field pattern of an aperture with circular Gaussian illumination is $$f(l,m) \\propto \\exp[- 2 \\pi^2 \\sigma^2 (l^2 + m^2)]$$ and the normalized power pattern is $$P_{\\rm n}(l,m) = [f(l,m)]^2 \\propto \\exp[ - 4 \\pi^2 \\sigma^2 (l^2 + m^2)] ~.$$ For a reflector many wavelengths across, $\\sigma \\gg 1$ so $l \\approx \\theta_{\\rm x}$ and $m \\approx \\theta_{\\rm y}$. Thus the power pattern produced by circular Gaussian illumination is also a circular Gaussian. \n",
      "\n",
      "\n",
      "\n",
      "The half-power beamwidth $\\theta_{\\rm HPBW}$ is the solution of \n",
      "$$ \\exp\\biggl[-4 \\pi^2 \\sigma^2 \\biggl( {\\theta_{\\rm HPBW} \\over 2 } \\biggr)^2 \\biggr] = {1 \\over 2}$$ $${ 4 \\pi^2 \\sigma^2 \\theta_{\\rm HPBW}^2 \\over 4} = \\ln (2)$$ $$\\theta_{\\rm HPBW} = {\\sqrt{\\ln (2)} \\over \\pi \\sigma} {\\rm ~radians,}$$ where $\\sigma$ is the rms width of the illumination pattern in wavelengths. Since a Gaussian extends to $\\pm \\infty$, this calculation formally assumes that the aperture itself is infinite. However, the Gaussian illumination $g(u,v)$ falls off exponentially and is negligible for $u^2 + v^2 \\gg \\sigma^2$. In practice, the value of $\\sigma$ is chosen so that $g(u,v)$ is down quite a bit (e.g., 15 or 20 dB) at the edge of the actual finite reflector. Tapering (or grading) the illumination this way: (1) broadens the beamwidth $\\theta_{\\rm HPBW}$ from $0.89 \\lambda / D$ to about $1.2 \\lambda / D$, (2) reduces the aperture efficiency $\\eta_{\\rm A}$ by about 30%, (3) reduces the first sidelobe level by an order of magnitude, and (4) reduces spillover (wasted power, increased noise from ground pickup) significantly compared with uniform illumination. \n",
      "\n",
      "![](http://www.cv.nrao.edu/course/astr534/images/spill.svg)\n",
      "\n",
      "Spillover is illumination extending beyond the aperture. Here the relative field strength at the edge is $\\delta$. \n",
      "\n",
      "\n",
      "Using Gaussian tapering as an example, let $$\\delta \\equiv {g(u_{\\rm max},0) \\over g(0,0)}$$ be the tapered field strength at the edge of the reflector. Thus $\\delta = 0.1$ (field taper) corresponds to $\\delta^2 = 0.01$ (power taper), or a 20 dB edge taper. This corresponds to an aperture of radius $\\approx 2.15 \\sigma$. For small $\\delta$ our previous calculation, which assumed an infinite aperture so $\\delta = 0$, will slightly underestimate the beamwidth of a finite reflector but still be fairly accurate because only a small fraction of the illumination will \"spill over\" the edge of the reflector. For a circular reflector with diameter $D$, \n",
      "$$u_{\\rm max} = {D \\over 2 \\lambda}$$ and $$\\delta = {g(u_{\\rm max},0) \\over g(0,0)} = \\exp \\biggl( - {u_{\\rm max}^2 \\over 2 \\sigma^2 } \\biggr)~.$$ Then \n",
      "$$ - \\ln(\\delta) = {u_{\\rm max}^2 \\over 2 \\sigma^2} = {D^2 \\over 8 \\lambda^2 \\sigma^2}~. $$ Recall that the beamwidth for $\\delta = 0$ is \n",
      "$$\\theta_{\\rm HPBW} ={\\sqrt{\\ln(2)} \\over \\pi \\sigma} ,$$ so for a finite aperture, \n",
      "$$\\theta_{\\rm HPBW} \\approx {\\sqrt { \\ln(2)} \\over \\pi D} \\sqrt{- 8 \\ln (\\delta)} \\lambda$$ \n",
      "$$\\theta_{\\rm HPBW} \\approx { \\sqrt{ - 8 \\ln(2) \\ln(\\delta)} \\over \\pi} { \\lambda \\over D}$$ \n",
      "\n",
      "Example: What is the half-power beamwidth of a circular aperture with a Gaussian illumination tapering to $\\delta = 0.1$ at the edge? \n",
      "$$\\theta_{\\rm HPBW} \\approx {\\sqrt{ -8 \\ln(2) \\ln(0.1) } \\over \\pi} {\\lambda \\over D} \\approx 1.14 {\\lambda \\over D}$$ \n",
      "\n",
      "Example: Estimate the beamwidth in arcsec of the GBT ($D = 100$ m) as a function of frequency in GHz. $$\\theta_{\\rm HPBW} \\approx 1.14 {c \\over \\nu D}$$ $$\\theta_{\\rm HPBW}\\approx 1.14 {\\rm ~rad} \\times 206265 {\\rm ~arcsec/rad} \\times \n",
      "\\biggl( {3.00 \\times 10^8 {\\rm ~m~s}^{-1} \\over \\nu {\\rm ~(GHz)} \\times 10^9 {\\rm ~Hz/GHz} \\times 100{\\rm ~m}}\\biggr)$$ $$\\theta_{\\rm HPBW} \\approx { 705{\\rm ~arcsec} \\over \\nu {\\rm ~(GHz)}} $$ This estimate is slightly low, as expected. The measured beamwidth of the GBT is about 740 arcsec / $\\nu$ (GHz), or about $1.2 \\lambda / D$. \n",
      "\n",
      "A good approximation for the half-power beamwidths of most single-dish radio telescopes is \n",
      "$$\\bbox[border:3px blue solid,7pt]{\\theta_{\\rm HPBW} \\approx 1.2 \\lambda / D}\\rlap{\\quad \\rm {(3C4)}}$$ "
     ]
    },
    {
     "cell_type": "heading",
     "level": 2,
     "metadata": {},
     "source": [
      "Reflector Accuracy Requirements "
     ]
    },
    {
     "cell_type": "markdown",
     "metadata": {},
     "source": [
      "Real radio telescopes don't have perfectly paraboloidal reflectors. Small deviations from the best-fit paraboloid may be caused by permanent manufacturing errors, changing gravitational deformations as the reflector is tilted, thermal distortions resulting from solar heating, and bending by strong winds. There will be some shortest wavelength $\\lambda_{\\rm min}$ below which these errors degrade the reflector performance so severely that the telescope becomes unusable. We can define the \n",
      "reflector surface efficiency$\\eta_{\\rm s}$ as the power gain of the actual reflector divided by the power gain of a perfectly paraboloidal reflector with the same size and illumination. Next we will calculate how $\\eta_{\\rm s}$ varies with the rms (root mean square) surface error in wavelengths, $\\epsilon / \\lambda$. The classic reference for this calculation is Ruze, J. 1966, Proc. IEEE, 54, 633. \n",
      "\n",
      "![](http://www.cv.nrao.edu/course/astr534/images/surferr.svg)\n",
      "\n",
      "Deviations $\\epsilon$ of the actual reflector surface (thick curve) from the best-fit paraboloid (thin curve) degrade short-wavelength performance. \n",
      "\n",
      "\n",
      "\n",
      "Where the actual reflector surface deviates from the best-fit paraboloid by a distance $\\epsilon$, the path length of the reflected wave will be in error by almost $2 \\epsilon$ and the phase error $\\delta$ (radians) will be \n",
      "$$\\delta = {2 \\pi \\over \\lambda} (2 \\epsilon) = {4 \\pi \\epsilon \\over \\lambda}~.$$ An oversimplified example would be a bumpy surface, half covered with small bumps of height $\\epsilon \\ll \\lambda$ and half covered with small dips of the same depth $\\epsilon$. Then the contribution of each area element to the far (electric) field is reduced by a factor $\\cos\\delta$. \n",
      "\n",
      "![](http://www.cv.nrao.edu/course/astr534/images/errflds.svg)\n",
      "\n",
      "Vectors sums of the electric fields produced by elements of perfect and imperfect apertures. Bumps in the imperfect aperture produce phase shifts $\\pm \\delta$. \n",
      "\n",
      "\n",
      "In the limit $\\delta \\ll 1$ rad, $\\cos \\delta \\approx 1 - \\delta^2 / 2 ...$ and \n",
      "$${E(\\delta) \\over E(0)} \\approx 1 - {\\delta^2 \\over 2} ...$$ so the relative power gain is \n",
      "$${G(\\delta) \\over G(0)} \\approx \\biggl[{E(\\delta) \\over E(0)}\\biggr]^2 \\approx 1 - \\delta^2 \\approx 1 - \\biggl( {4 \\pi \\epsilon \\over \\lambda} \\biggr)^2$$ This rough estimate shows that the surface errors must be an order-of-magnitude smaller than the shortest usable wavelength, a severe requirement indeed. \n",
      "A more realistic calculation makes use of the fact the most error distributions are roughly Gaussian. Suppose that the surface errors have a Gaussian probability distribution $P$ with rms $\\sigma$: \n",
      "$$P(\\epsilon) = {1 \\over \\sqrt{2 \\pi} \\sigma} \\exp \\biggl( - {\\epsilon^2 \\over 2 \\sigma^2} \\biggr)~,$$ where the normalization factor in front of the exponential term ensures that $$\\int_{-\\infty}^\\infty P(\\epsilon) d \\epsilon = 1$$ as required for any probability distribution. Then the relative field strength is obtained as the weighted sum over all possible $\\epsilon$: $$\\langle {E \\over E(0)} \\rangle \\approx \\int_{-\\infty}^\\infty \\cos \\biggl( {4 \\pi \\epsilon \\over \\lambda} \\biggr) \\times {1 \\over \\sqrt{ 2 \\pi} \\sigma} \\exp \\biggl( - {\\epsilon^2 \\over 2 \\sigma^2} \\biggr) d \\epsilon$$ By substituting $e^{iz} = \\cos(z) + i\\sin(z)$ we can turn this integral into a more familiar one, the Fourier transform of a Gaussian: \n",
      "$$\\langle { E \\over E(0)} \\rangle \\approx \\int_{-\\infty}^\\infty \\exp \\biggl( -i{4 \\pi \\epsilon \\over \\lambda} \\biggr) \\times {1 \\over \\sqrt{ 2 \\pi} \\sigma} \\exp \\biggl( - {\\pi\\epsilon^2 \\over 2\\pi \\sigma^2} \\biggr) d \\epsilon~.$$ Note that the $i \\sin(z)$ part drops out immediately because it is antisymmetric over the symmetric region of integration. To make this look even more like our usual form for a Fourier transform, let $s \\equiv 2 / \\lambda$, $x \\equiv \\epsilon$, and $a \\equiv (\\sqrt{2 \\pi} \\sigma)^{-1}$. Then \n",
      "$$\\langle { E \\over E(0)} \\rangle \\approx \\int_{-\\infty}^\\infty \\exp ( -i 2 \\pi s x) \\exp [- \\pi (ax)^2] dx~.$$ Recall that \n",
      "$$f(x) = \\exp(- \\pi x^2) {\\rm ~~has~Fourier~transform~~} F(S) = \\exp(- \\pi s^2)$$ and apply the similarity theorem to get \n",
      "$$\\langle {E \\over E(0) } \\rangle = {1 \\over \\vert a \\vert \\sqrt{2 \\pi} \\sigma} \\,\\exp\\biggl[-\\pi \\biggl({s \\over a}\\biggr)^2 \\biggr]$$ $$\\langle {E \\over E(0) } \\rangle = \\exp [ - 2 \\pi^2 \\sigma^2 s^2]$$ $$\\langle {E \\over E(0) } \\rangle = \\exp \\biggl( - {8 \\pi^2 \\sigma^2 \\over \\lambda^2}\\biggr)~.$$ Power is proportional to $E^2$ so our final result for the reflector surface efficiency is \n",
      "$$\\bbox[border:3px blue solid,7pt]{\\eta_{\\rm s} = \\exp \\biggl[ - \\biggl({4 \\pi \\sigma \\over \\lambda} \\biggr)^2 \\biggr]}\\rlap{\\quad \\rm {(3C5)}}$$ This is often called the Ruze equation \n",
      "\n",
      "![](http://www.cv.nrao.edu/course/astr534/images/surfeff.svg)\n",
      "\n",
      "The surface efficiency $\\eta_{\\rm s}$ declines rapidly as the rms error in wavelengths $\\sigma / \\lambda$ exceeds $1/16 \\approx 0.06$. \n",
      "\n",
      "Example: A traditional criterion for the shortest wavelength $\\lambda_{\\rm min}$ at which a radio telescope works reasonably well is \n",
      "$$\\sigma \\approx {\\lambda_{\\rm min} \\over 16}$$ because the surface efficiency is only \n",
      "$$\\eta_{\\rm s} \\approx \\exp \\biggl[ - \\biggl( { \\pi \\over 4} \\biggr)^2 \\biggr] \\approx 0.54$$ and falling exponentially at shorter wavelengths. \n",
      " The 100 m diameter GBT is intended to operate at frequencies as high as $\\nu \\approx 100$ GHz, or $\\lambda_{\\rm min} \\approx 3$ mm. To meet this specification, the rms deviation from a perfect paraboloid must not exceed $\\sigma \\approx 3{\\rm ~mm} / 16 \\approx 200\\,\\mu$m, the thickness of two sheets of paper! \n",
      "\n",
      "The power gain of a perfect paraboloidal reflector is proportional to $\\nu^2$. If the reflector surface has a Gaussian error distribution with rms $\\sigma$, then its gain increases as $\\nu^2$ at low frequencies, reaches a maximum at $$\\lambda = 4 \\pi \\sigma$$ and falls exponentially at higher frequencies. "
     ]
    }
   ],
   "metadata": {}
  }
 ]
}