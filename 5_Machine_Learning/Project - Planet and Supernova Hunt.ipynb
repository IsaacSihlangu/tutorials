{
 "cells": [
  {
   "cell_type": "markdown",
   "metadata": {},
   "source": [
    "# Welcome !"
   ]
  },
  {
   "cell_type": "markdown",
   "metadata": {},
   "source": [
    "Welcome to the Machine Learning project for hunting planets and supernova. In this project you are given the challenge of finding exoplanets from the Kepler Planet Hunting Project and supernovas from the Catalina Survey.\n"
   ]
  },
  {
   "cell_type": "markdown",
   "metadata": {},
   "source": [
    "\n",
    "READ THE INSTRUCTIONS CAREFULLY\n"
   ]
  },
  {
   "cell_type": "markdown",
   "metadata": {},
   "source": [
    "\n",
    "You can use the tutorial notebook as a guideline for putting in peices of code into your project notebook and sufficient hints will be provided along the way. Feel free to ask for help if you have any trouble navigating through the project.\n",
    "\n",
    "This notebook will be your worksheet for the project. You are also asked to reason your decisions and record your results on the paper provided."
   ]
  },
  {
   "cell_type": "markdown",
   "metadata": {},
   "source": [
    "#### Imports \n",
    "All neccessary functions that you will need to use will be already imported to the workspace. So you need not worry about them :)"
   ]
  },
  {
   "cell_type": "code",
   "execution_count": 1,
   "metadata": {
    "collapsed": false
   },
   "outputs": [
    {
     "name": "stdout",
     "output_type": "stream",
     "text": [
      "Populating the interactive namespace from numpy and matplotlib\n"
     ]
    }
   ],
   "source": [
    "# All the basic stuff\n",
    "import numpy as np   # For some numerical stuff\n",
    "import matplotlib.pyplot as plt # For making beautiful plots\n",
    "from datasets import load_planets, evaluate_my_results\n",
    "import warnings\n",
    "warnings.filterwarnings('ignore')\n",
    "\n",
    "# Machine Learning Models\n",
    "from sklearn.neighbors import KNeighborsClassifier  # KNN Algorithm\n",
    "from sklearn.tree import DecisionTreeClassifier # Decision Tree Classifier\n",
    "from sklearn.linear_model import SGDClassifier # Stochastic Gradient Classifier\n",
    "\n",
    "\n",
    "# Evaluation tools\n",
    "from sklearn.cross_validation import train_test_split # A utility to split data\n",
    "from sklearn.metrics import precision_score\n",
    "%pylab inline"
   ]
  },
  {
   "cell_type": "markdown",
   "metadata": {},
   "source": [
    "#### Your dataset to train your algorithms"
   ]
  },
  {
   "cell_type": "code",
   "execution_count": 2,
   "metadata": {
    "collapsed": false
   },
   "outputs": [
    {
     "name": "stdout",
     "output_type": "stream",
     "text": [
      "Successfully Loaded the data !\n",
      "\n",
      "There are total 632 samples in your dataset.\n",
      "\n",
      "There are 119 Planets, 196 RRLyrae and 317 Supernovaes in your data.\n",
      "\n",
      "Your dataset has 21 features in total.\n",
      "\n",
      "Your validation data has 271 samples.\n"
     ]
    }
   ],
   "source": [
    "# The dataset that you need to train and evaluate will be preloaded. You just need to start putting your code\n",
    "# Variables are as described as below\n",
    "# feature_names = The features of the light curves in the dataset\n",
    "# features = The actual features for training and testing\n",
    "# labels = Class labels of the objects\n",
    "\n",
    "feature_names,features,labels,validation_data = load_planets()\n"
   ]
  },
  {
   "cell_type": "markdown",
   "metadata": {
    "collapsed": true
   },
   "source": [
    "#### Features in the dataset\n",
    "\n",
    "| Key | Description |\n",
    "|----:|:------------|\n",
    "|[0] amplitude (B) |  Amplitude from the Fourier decomposition  |\n",
    "|[1] cusum (B) |  Cumulative sum index  |\n",
    "|[2] hl_amp_ratio (B) |  Ratio of higher and lower magnitudes than the average | \n",
    "|[3] kurtosis (B) |  Kurtosis   |\n",
    "|[4] period (P-V) |  Period   |\n",
    "|[5] period_SNR (P-V) | SNR of period derived using a periodogram |\n",
    "|[6] period_uncertainty (V) | Period uncertainty based on a periodogram |\n",
    "|[7] phase_cusum (V) |  Cumulative sum index over a phase-foled ligit curve  |\n",
    "|[8] phase_eta (V) |  Eta over a phase-foled ligit curve   |\n",
    "|[9] phi21 (V) |  2nd and 1st phase difference from the Fourier decomposition   |\n",
    "|[10] phi31 (V) |  3rd and 1st phase difference from the Fourier decomposition    |\n",
    "|[11] quartile31 (B) |  3rd quartile - 1st quartile   |\n",
    "|[12] r21 (P-V) |  2nd and 1st amplitude difference from the Fourier decomposition   |\n",
    "|[13] r31 (P-V) |  3nd and 1st amplitude difference from the Fourier decomposition   |\n",
    "|[14] shapiro_w (V) |  Shapiro-Wilk test statistics  |\n",
    "|[15] skewness (B,V) |  Skewness   |\n",
    "|[16] slope_per10 (B) |  10% percentile of slopes of a phase-folded light curve   |\n",
    "|[17] slope_per90 (B) |  90% percentile of slopes of a phase-folded light curve   |\n",
    "|[18] stetson_k (V) |  Stetson K  |\n",
    "|[19] weighted_mean (B) | Weighted mean magnitude |\n",
    "|[20] weighted_std (B) | Weighted standard deviation of magnitudes |\n"
   ]
  },
  {
   "cell_type": "markdown",
   "metadata": {},
   "source": [
    "#### Feature Selection\n",
    "\n",
    "Sometime not all features are useful for good model. So it will be better to remove or use a certain combination of features for better training and model selection. In the following piece of code you make changes to select all the features or some of them for better training."
   ]
  },
  {
   "cell_type": "code",
   "execution_count": 3,
   "metadata": {
    "collapsed": true
   },
   "outputs": [],
   "source": [
    "# The numbers are the corrresponding indices of the features as in the previous table. You can delete/add indices\n",
    "\n",
    "features_selected =[0,1,2,3,4,5,6,7,8,9,10,11,12,13,14,15,16,17,18,19,20]\n",
    "\n",
    "\n",
    "## Do not touch this peice of code\n",
    "features = features[:,features_selected]"
   ]
  },
  {
   "cell_type": "markdown",
   "metadata": {},
   "source": [
    "### Start pasting your codes for data splitting, training and model evaluation"
   ]
  },
  {
   "cell_type": "code",
   "execution_count": 4,
   "metadata": {
    "collapsed": false
   },
   "outputs": [],
   "source": [
    "# Split the data\n",
    "train_data,test_data,train_labels,test_labels = train_test_split(features,labels,test_size=0.3,random_state=0)"
   ]
  },
  {
   "cell_type": "code",
   "execution_count": 5,
   "metadata": {
    "collapsed": true
   },
   "outputs": [],
   "source": [
    "# Train KNN\n",
    "mymodel = KNeighborsClassifier(n_neighbors=5,)  # Create the classifier object to a variable 'mymodel'\n",
    "\n",
    "mymodel = mymodel.fit(train_data,train_labels) # Train the algorithm and save the model mymodel "
   ]
  },
  {
   "cell_type": "code",
   "execution_count": 6,
   "metadata": {
    "collapsed": false
   },
   "outputs": [
    {
     "name": "stdout",
     "output_type": "stream",
     "text": [
      "The precision score is 91.052632\n"
     ]
    }
   ],
   "source": [
    "# Test model accuracy on test set\n",
    "predictions = mymodel.predict(test_data)\n",
    "\n",
    "score = precision_score(predictions,test_labels,average='micro')\n",
    "\n",
    "print 'The precision score is %f'%(score*100)"
   ]
  },
  {
   "cell_type": "code",
   "execution_count": 7,
   "metadata": {
    "collapsed": true
   },
   "outputs": [],
   "source": [
    "# Make predictions on unseen data\n",
    "my_predictions = mymodel.predict(validation_data)"
   ]
  },
  {
   "cell_type": "code",
   "execution_count": 8,
   "metadata": {
    "collapsed": false
   },
   "outputs": [
    {
     "name": "stdout",
     "output_type": "stream",
     "text": [
      "Number of labels  271\n",
      "The precision score is 88.191882\n",
      "The recall is 88.191882\n",
      "You found 25 Exoplanets\n",
      "You found 84 RRLyraes\n",
      "You found 130 Supernova\n"
     ]
    }
   ],
   "source": [
    "#### Test the model against the benchmark validations\n",
    "evaluate_my_results(my_predictions)"
   ]
  }
 ],
 "metadata": {
  "kernelspec": {
   "display_name": "Python 2",
   "language": "python",
   "name": "python2"
  },
  "language_info": {
   "codemirror_mode": {
    "name": "ipython",
    "version": 2
   },
   "file_extension": ".py",
   "mimetype": "text/x-python",
   "name": "python",
   "nbconvert_exporter": "python",
   "pygments_lexer": "ipython2",
   "version": "2.7.11+"
  }
 },
 "nbformat": 4,
 "nbformat_minor": 0
}
