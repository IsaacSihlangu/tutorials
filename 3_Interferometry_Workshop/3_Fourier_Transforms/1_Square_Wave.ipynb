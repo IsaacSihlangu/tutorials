{
 "metadata": {
  "name": "",
  "signature": "sha256:5b1b72f54e98ee0d178799bb3bc486238c065e7d557827a5180b923f07b9dcf8"
 },
 "nbformat": 3,
 "nbformat_minor": 0,
 "worksheets": [
  {
   "cells": [
    {
     "cell_type": "markdown",
     "metadata": {},
     "source": [
      "#1. Approximating a square wave function as a sum of sines#"
     ]
    },
    {
     "cell_type": "markdown",
     "metadata": {},
     "source": [
      "In this notebook we approximate a square wave by adding up sucessive sine waves (of specific frequency and amplitude).\n",
      "\n",
      "The Fourier series of a square wave square wave (period $2L$) can be shown to be:\n",
      "\n",
      "$f(x) = \\frac{4}{\\pi} \\sum_{n=1,3,5...}^{\\infty} \\frac{1}{n} \\sin{\\frac{n \\pi x}{L}}$\n",
      "\n",
      "[[Wolfram](http://mathworld.wolfram.com/FourierSeriesSquareWave.html)]"
     ]
    },
    {
     "cell_type": "markdown",
     "metadata": {},
     "source": [
      "First import the necessary modules:"
     ]
    },
    {
     "cell_type": "code",
     "collapsed": true,
     "input": [
      "import matplotlib.pylab as plt\n",
      "%matplotlib inline\n",
      "\n",
      "import numpy as np\n",
      "import time \n",
      "from IPython.core.display import clear_output, display"
     ],
     "language": "python",
     "metadata": {},
     "outputs": []
    },
    {
     "cell_type": "markdown",
     "metadata": {},
     "source": [
      "Now set up the period and x-values for the function. Let's use a period of 2. "
     ]
    },
    {
     "cell_type": "code",
     "collapsed": true,
     "input": [
      "period = 2.0\n",
      "L = period/2\n",
      "x = np.arange(-L,L,0.01) "
     ],
     "language": "python",
     "metadata": {},
     "outputs": []
    },
    {
     "cell_type": "markdown",
     "metadata": {},
     "source": [
      "Now we sucessively add up a series of sine waves to make an ever-better approximation of a square wave.\n",
      "\n",
      "<span style=\"color:red\">TUTORIAL:</span> Try changing i_max - the number of simusoidals we are are adding to approximate the square wave."
     ]
    },
    {
     "cell_type": "code",
     "collapsed": true,
     "input": [
      "# create plot\n",
      "f, ax = plt.subplots(1,2,figsize=[13,4])\n",
      "\n",
      "# set maximum number of iterations - try varying this\n",
      "i_max = 20\n",
      "\n",
      "# initialise values\n",
      "sqwave = 0.0\n",
      "n = 1.0\n",
      "\n",
      "# for each iteration...\n",
      "for i in range(1,i_max):\n",
      "    # new component   \n",
      "    component = (1/n)*np.sin(n*np.pi*x/L)\n",
      "    # add that component to our existing wave\n",
      "    sqwave = sqwave+component\n",
      "    \n",
      "    # plot the new component on the left, the sum on the right\n",
      "    ax[0].plot(x,component)\n",
      "    ax[0].axhline(y=0,color='k')\n",
      "    \n",
      "    ax[1].plot(x,sqwave)\n",
      "    ax[1].axhline(y=0,color='k')\n",
      "    \n",
      "    # iterate\n",
      "    n = n+2\n",
      "\n",
      "    # show the plot, then get ready for the next plot\n",
      "    plt.draw()\n",
      "    time.sleep(1.0)\n",
      "    clear_output(wait=True)\n",
      "    display(f)\n",
      "    ax[1].cla()\n",
      "    \n",
      "plt.close()"
     ],
     "language": "python",
     "metadata": {},
     "outputs": []
    },
    {
     "cell_type": "markdown",
     "metadata": {},
     "source": [
      "###Version information###"
     ]
    },
    {
     "cell_type": "code",
     "collapsed": true,
     "input": [
      "import os\n",
      "import sys\n",
      "import IPython\n",
      "import matplotlib\n",
      "\n",
      "print 'Version information'\n",
      "print '==================='\n",
      "print 'OS:          ', os.name, sys.platform\n",
      "print 'Python:      ', sys.version.split()[0]\n",
      "print 'IPython:     ', IPython.__version__\n",
      "print 'Numpy:       ', np.__version__\n",
      "print 'matplotlib:  ', matplotlib.__version__"
     ],
     "language": "python",
     "metadata": {},
     "outputs": []
    }
   ],
   "metadata": {}
  }
 ]
}