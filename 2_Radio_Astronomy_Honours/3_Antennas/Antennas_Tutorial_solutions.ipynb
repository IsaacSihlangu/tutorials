{
 "metadata": {
  "name": "",
  "signature": "sha256:ef2322aa5d7da124b06ad9d2a1033b97d5ad07f93695584545ced4114a20b4d7"
 },
 "nbformat": 3,
 "nbformat_minor": 0,
 "worksheets": [
  {
   "cells": [
    {
     "cell_type": "code",
     "collapsed": false,
     "input": [
      "from scipy import integrate, optimize"
     ],
     "language": "python",
     "metadata": {},
     "outputs": [],
     "prompt_number": 96
    },
    {
     "cell_type": "code",
     "collapsed": false,
     "input": [
      "#constants\n",
      "k = 1.38e-23\n",
      "Jan = 1e26\n",
      "c = 3e8"
     ],
     "language": "python",
     "metadata": {},
     "outputs": [],
     "prompt_number": 97
    },
    {
     "cell_type": "heading",
     "level": 1,
     "metadata": {},
     "source": [
      "Question 1"
     ]
    },
    {
     "cell_type": "markdown",
     "metadata": {},
     "source": [
      "A convenient parameter for specifying the sensitivity of a radio telescope is its sensitivity\n",
      "in units of K/Jy; that is, the number of Kelvins of antenna temperature $T_{A}$\n",
      "produced by an unpolarized point source whose flux density is 1 Jy. \n",
      "\n",
      "1 What is the effective collecting area $A_{e}$ of a radio telescope whose sensitivity is 1 K/Jy? "
     ]
    },
    {
     "cell_type": "code",
     "collapsed": false,
     "input": [
      "S = 1 #Jy\n",
      "T_A = 1\n",
      "S = S / Jan\n",
      "P_nu = k * T_A\n",
      "S_mat = S/2\n",
      "A_e = P_nu/S_mat\n",
      "r = sqrt(A_e/(pi))\n",
      "print r"
     ],
     "language": "python",
     "metadata": {},
     "outputs": [
      {
       "output_type": "stream",
       "stream": "stdout",
       "text": [
        "29.6400959153\n"
       ]
      }
     ],
     "prompt_number": 98
    },
    {
     "cell_type": "markdown",
     "metadata": {},
     "source": [
      "2 The 2.3 GHz feed at Arecibo illuminates an elliptical aperture 225 m by 200 m in size, and\n",
      "the aperture efficiency $\\eta_{A}$ over this ellipse is $\\eta_{A}\\approx 0.70$. What is the sensitivity of this\n",
      "system in K/Jy? "
     ]
    },
    {
     "cell_type": "code",
     "collapsed": false,
     "input": [
      "A = 225/2.\n",
      "B = 200/2.\n",
      "eff = 0.7\n",
      "A_g = pi * A * B\n",
      "A_e = eff * A_g\n",
      "T_S = A_e/(2*k) /Jan\n",
      "print T_S"
     ],
     "language": "python",
     "metadata": {},
     "outputs": [
      {
       "output_type": "stream",
       "stream": "stdout",
       "text": [
        "8.9637833866\n"
       ]
      }
     ],
     "prompt_number": 99
    },
    {
     "cell_type": "markdown",
     "metadata": {},
     "source": [
      "3 The same feed is used with a 1 megawatt transmitter at 2.3 GHz\n",
      "for planetary radar. What is the on-axis power gain $G_{max}$ of this radar system?"
     ]
    },
    {
     "cell_type": "code",
     "collapsed": false,
     "input": [
      "nu = 2.3e9\n",
      "lam = c/nu\n",
      "G_max = (4 * pi * A_e)/lam**2\n",
      "print G_max, 10* log10(G_max)"
     ],
     "language": "python",
     "metadata": {},
     "outputs": [
      {
       "output_type": "stream",
       "stream": "stdout",
       "text": [
        "18273572.5486 72.6182346177\n"
       ]
      }
     ],
     "prompt_number": 100
    },
    {
     "cell_type": "heading",
     "level": 1,
     "metadata": {},
     "source": [
      "Question 2"
     ]
    },
    {
     "cell_type": "markdown",
     "metadata": {},
     "source": [
      "In class, we showed that a 1-D aperture with constant illumination produces a power\n",
      "pattern described by:\n",
      "$$P(\\theta) \\propto \\mathrm{sinc}^2({\\theta D \\over \\lambda}).$$\n",
      "With D = 10m and $\\lambda = 10$ cm, use *numerical techniques*, compute $\\theta$ and $P(\\theta)$\n",
      "to at least 4 significant figures at the peaks of the first 2 sidelobes. Express them in\n",
      "dB as well as in relative terms (as compared to the main beam). Verify your results\n",
      "analytically."
     ]
    },
    {
     "cell_type": "markdown",
     "metadata": {},
     "source": [
      "For the \u201canalytical\u201d portion, using $x = \\pi \\theta D/\\lambda$, a local maximum will occur at:\n",
      "\n",
      "$$ {dP(\\theta) \\over d\\theta} = 0 = {d \\over d\\theta} \\biggl[ \\biggl( {\\sin(x) \\over x}\\biggr)^2\\biggr]$$\n",
      "\n",
      "$$ = {2 sin(x) cos(x) \\over x^2} \u2212 {2(sin(x))^2 \\over x^3} $$\n",
      "\n",
      "That simplifies to $cos(x) = sin(x)/x$, or $x = tan(x)$, which can easily be solved using any reasonable\n",
      "root-finding algorithm to give: $x1 = 4.49341$ and $x2 = 7.72525$ for the first two maxima (i.e sidelobes).\n",
      "For our aperture and wavelength, we get: $\\theta_1 = 0.014303$ and $\\theta_2 = 0.024590$ radians, which\n",
      "corresponds to $P(\\theta_1) = 0.047190$ (-13.261 dB) and $P(\\theta_2) = 0.016480$ (-17.830 dB)."
     ]
    },
    {
     "cell_type": "heading",
     "level": 1,
     "metadata": {},
     "source": [
      "Question 3"
     ]
    },
    {
     "cell_type": "markdown",
     "metadata": {},
     "source": [
      "For a circular aperture with uniform illumination, the normalized power pattern $P_{n}(\\theta)$\n",
      "is known as the *Airy disk* and is described in the textbook by eqn. 6.27 (remember that\n",
      "$u = \\sin \\theta$ where $\\theta$ is the angle between the optical axis and the direction in question).\n",
      "\n",
      "1 As in problem 2, numerically compute $\\theta$ and $P_{n}(\\theta)$ to at least 4 significant figures\n",
      "for the first 2 sidelobes with D = 100m and $\\lambda$ = 5 cm."
     ]
    },
    {
     "cell_type": "markdown",
     "metadata": {},
     "source": [
      "From http://en.wikipedia.org/wiki/Airy_disk#Mathematical_details \n",
      "\n",
      "The intensity of the Fraunhofer diffraction pattern of a circular aperture (the Airy pattern) is given by the squared modulus of the Fourier transform of the circular aperture:\n",
      "$$I(\\theta) = I_0 \\left ( \\frac{2 J_1(ka \\sin \\theta)}{ka \\sin \\theta} \\right )^2 = I_0 \\left ( \\frac{2 J_1(x)}{x} \\right )^2$$\n",
      "where $I_0$ is the maximum intensity of the pattern at the Airy disc center, $J_1$ is the of the first kind of order one, $k = {2 \\pi}/{\\lambda}$ is the wavenumber, $a$ is the radius of the aperture, and $\\theta$ is the angle of observation, i.e. the angle between the axis of the circular aperture and the line between aperture center and observation point.\n",
      "\n",
      "http://en.wikipedia.org/wiki/Bessel_function#Bessel.27s_integrals shows that the Bessel Functions of the first kind can be given by:\n",
      "$$J_n(x) = \\frac{1}{\\pi} \\int_0^\\pi \\cos (n \\tau - x \\sin(\\tau)) \\,d\\tau.$$\n",
      "and also the identity shows that\n",
      "$$J_1'(x)  = 1/2 (J_0(x)-J_2(x)) $$"
     ]
    },
    {
     "cell_type": "code",
     "collapsed": false,
     "input": [
      "J = lambda x,n : 1/pi * integrate.quad(lambda t,x,n : np.cos(n*t -  x * np.sin(t)), 0, pi,args=(x,n,))[0]\n",
      "deriv = lambda x : J(x,0)/(2 * x) - J(x,2)/(2 * x) - J(x,1)/(x**2)"
     ],
     "language": "python",
     "metadata": {},
     "outputs": [],
     "prompt_number": 101
    },
    {
     "cell_type": "code",
     "collapsed": false,
     "input": [
      "D = 100\n",
      "lam = 0.5\n",
      "theta = radians(arange(0,1,0.01))\n",
      "u = sin(theta)\n",
      "x = pi * u*D/lam\n",
      "beam = []\n",
      "beam_deriv = []\n",
      "for x_i in x:\n",
      "    beam.append((2 * J(x_i,1)/(x_i))**2)\n",
      "    beam_deriv.append(deriv(x_i))\n",
      "\n",
      "figure(figsize=(20,5))\n",
      "subplot(121)\n",
      "plot(theta,beam)\n",
      "yscale('log')\n",
      "grid()\n",
      "subplot(122)\n",
      "plot(theta,beam_deriv)\n",
      "grid()\n",
      "axvline(x=8e-3)\n",
      "axvline(x=14e-3)"
     ],
     "language": "python",
     "metadata": {},
     "outputs": [
      {
       "metadata": {},
       "output_type": "pyout",
       "prompt_number": 102,
       "text": [
        "<matplotlib.lines.Line2D at 0x10f2f8810>"
       ]
      },
      {
       "metadata": {},
       "output_type": "display_data",
       "png": "[encoded data removed]",
       "text": [
        "<matplotlib.figure.Figure at 0x10ef89310>"
       ]
      }
     ],
     "prompt_number": 102
    },
    {
     "cell_type": "code",
     "collapsed": false,
     "input": [
      "roots = []\n",
      "for theta in [8e-3,13e-3]: # numbers eyeballed from the plots above\n",
      "    u = sin(theta)\n",
      "    x = pi * u*D/lam\n",
      "    S = optimize.root(deriv, x )\n",
      "    roots.append(arcsin((S.x) * lam / (D*pi))[0])\n",
      "    print 'root:',roots[-1]"
     ],
     "language": "python",
     "metadata": {},
     "outputs": [
      {
       "output_type": "stream",
       "stream": "stdout",
       "text": [
        "root: 0.00817368776449\n",
        "root: 0.0133968608535\n"
       ]
      }
     ],
     "prompt_number": 103
    },
    {
     "cell_type": "code",
     "collapsed": false,
     "input": [
      "for root in roots:\n",
      "    u = sin(root)\n",
      "    x = pi * u*D/lam\n",
      "    P = (2 * J(x,1)/(x))**2\n",
      "    print P, 10 * log10(P)"
     ],
     "language": "python",
     "metadata": {},
     "outputs": [
      {
       "output_type": "stream",
       "stream": "stdout",
       "text": [
        "0.0174978627858 -17.5701499343\n",
        "0.00415799638453 -23.8111589263\n"
       ]
      }
     ],
     "prompt_number": 104
    },
    {
     "cell_type": "markdown",
     "metadata": {},
     "source": [
      "2 Numerically determine the aperture\u2019s beam solid angle $\\Omega_{A}$."
     ]
    },
    {
     "cell_type": "markdown",
     "metadata": {},
     "source": [
      "This problem demands that you (carefully!) integrate the function\n",
      "$$ \\Omega_A = \\int^{2\\pi}_0 \\int^{\\pi/2}_0 P_n(\\theta,\\phi \u001e",
      ") sin(\\theta)d\\theta d\\phi\u001e",
      " = 2\\pi \\int^{\\pi/2}_0 P_n(\\theta,\\phi \u001e",
      ") sin(\\theta)d\\theta $$\n",
      "where we have integrated over only the top half-plane (for a realistic reflecting antenna).\n",
      "The tricky part is that most of the area of the integrand is near $\\theta = 0$, but there is still significant\n",
      "power at large angles. This means that you need a stable integration scheme (i.e. the trapezoidal\n",
      "rule using tiny steps will likely not cut it as you will run into floating-point rounding errors and\n",
      "loss of precision).\n",
      "The correct anwser is: \n",
      "$$\\Omega_A = 3.1831 \\times 10^{\u22127} sr$$"
     ]
    },
    {
     "cell_type": "markdown",
     "metadata": {},
     "source": [
      "3 Compute the main beam solid angle $\\Omega_{MB}$ and the beam efficiency $\\eta_{B}$ assuming\n",
      "that the main beam is defined as everything within the first null of eqn. 6.27."
     ]
    },
    {
     "cell_type": "markdown",
     "metadata": {},
     "source": [
      "Now we need to integrate\n",
      "$$ \\Omega_{MB} = 2\\pi \\int^{\\theta_{main\\_lobe}}_0 P_n(\\theta,\\phi \u001e",
      ")d\\Theta, $$\n",
      "after determining $\\theta_{main\\_lobe}$ using a root-finding algorithm ($\\theta_{main\\_lobe} = 6.09835 \\times 10^{\u22124} rad$).\n",
      "The correct anwser is: \n",
      "$$\\Omega_{MB} = 2.6668 \\times 10^{\u22127} sr.$$\n",
      "And therefore, \n",
      "$$\\eta_B = \\Omega_{MB}/\\Omega_A = 0.8378.$$"
     ]
    },
    {
     "cell_type": "heading",
     "level": 1,
     "metadata": {},
     "source": [
      "Question 4"
     ]
    },
    {
     "cell_type": "markdown",
     "metadata": {},
     "source": [
      "You would like to measure the temperature of Mars with an rms uncertainty of about\n",
      "1% by observing it at $\\nu_{RF} \\approx 10$GHz. The angular diameter of Mars is $\\theta_{M}$ = 18arcsec,\n",
      "and its 10 GHz flux density is 4.2 Jy. You have a radio telescope whose paraboloidal\n",
      "mirror has diameter D = 25m and aperture efficiency $\\eta_{A}$ = 0.70. The single-channel\n",
      "total-power receiver is connected to a feed sensitive to right circular polarization, and\n",
      "its RF bandwidth is 100MHz. The receiver noise temperature is $T_{RX}$ = 18 K, the\n",
      "atmosphere adds about 3.5 K, the microwave background 3K, and spillover pickup of\n",
      "ground radiation is about 11 K.\n",
      "\n",
      "1 Show that Mars is a \u201cpoint source\u201d for your observation; that is, $\\theta_{M} \u001c",
      "\\ll \\theta_{FWHM}$,\n",
      "the telescope beamwidth between half-power points."
     ]
    },
    {
     "cell_type": "code",
     "collapsed": false,
     "input": [
      "nu = 10e9\n",
      "D = 25\n",
      "lam = c/nu\n",
      "theta =  (lam/D)\n",
      "print degrees(theta)*60*60,' arcsec'"
     ],
     "language": "python",
     "metadata": {},
     "outputs": [
      {
       "output_type": "stream",
       "stream": "stdout",
       "text": [
        "247.517767497  arcsec\n"
       ]
      }
     ],
     "prompt_number": 105
    },
    {
     "cell_type": "markdown",
     "metadata": {},
     "source": [
      "2 What antenna temperature contribution $T_{A}$ do you expect from Mars?"
     ]
    },
    {
     "cell_type": "code",
     "collapsed": false,
     "input": [
      "eta_A = 0.7\n",
      "S_nu = 4.2\n",
      "T_A = eta_A * (pi * D**2/(8 * k)) * S_nu/Jan\n",
      "print T_A,' K'"
     ],
     "language": "python",
     "metadata": {},
     "outputs": [
      {
       "output_type": "stream",
       "stream": "stdout",
       "text": [
        "0.522887364218  K\n"
       ]
      }
     ],
     "prompt_number": 106
    },
    {
     "cell_type": "markdown",
     "metadata": {},
     "source": [
      "3 What is the system noise temperature $T_{sys}$ when the telescope is pointing at Mars?"
     ]
    },
    {
     "cell_type": "code",
     "collapsed": false,
     "input": [
      "T_cmb = 3\n",
      "T_atm = 3.5\n",
      "T_spill = 11\n",
      "T_RX = 18\n",
      "T_sys = T_cmb + T_atm + T_spill + T_RX + T_A\n",
      "print T_sys, ' K'"
     ],
     "language": "python",
     "metadata": {},
     "outputs": [
      {
       "output_type": "stream",
       "stream": "stdout",
       "text": [
        "36.0228873642  K\n"
       ]
      }
     ],
     "prompt_number": 107
    },
    {
     "cell_type": "markdown",
     "metadata": {},
     "source": [
      "4 If the receiver has perfect gain stability, how long must you point the telescope\n",
      "at Mars?"
     ]
    },
    {
     "cell_type": "code",
     "collapsed": false,
     "input": [
      "acc = 0.01\n",
      "d_nu = 100e6\n",
      "tau = T_sys**2 /(acc**2 + T_A**2 * d_nu)\n",
      "print tau, ' sec'"
     ],
     "language": "python",
     "metadata": {},
     "outputs": [
      {
       "output_type": "stream",
       "stream": "stdout",
       "text": [
        "4.74614220139e-05  sec\n"
       ]
      }
     ],
     "prompt_number": 108
    },
    {
     "cell_type": "markdown",
     "metadata": {},
     "source": [
      "5 Estimate the maximum rms receiver gain fluctuation $\\Delta G/G$ that you can tolerate\n",
      "during this observation."
     ]
    },
    {
     "cell_type": "code",
     "collapsed": false,
     "input": [
      "d_G_over_G = acc * T_A/T_sys\n",
      "print d_G_over_G"
     ],
     "language": "python",
     "metadata": {},
     "outputs": [
      {
       "output_type": "stream",
       "stream": "stdout",
       "text": [
        "0.000145154206805\n"
       ]
      }
     ],
     "prompt_number": 109
    },
    {
     "cell_type": "markdown",
     "metadata": {},
     "source": [
      "6 If the receiver gain stability is not good enough for a total-power observation and\n",
      "you are forced to Dicke switch, how long must you point the telescope at Mars?"
     ]
    },
    {
     "cell_type": "markdown",
     "metadata": {},
     "source": [
      "The Dicke-switch radiometer equation is\n",
      "\u001b$$\\sigma_T \\approx  2 T_{sys} 1/ \\sqrt{\\Delta_{RF} \\tau}.$$\n",
      "\n",
      "Using this equation and the radiometer equation for total-power observations (see above), we\n",
      "get:\n",
      "$${ \\tau_{Dicke-switch} \\over \\tau_{\u001c",
      "total-power} } = 4$$\n",
      "$$= 1.92 s$$"
     ]
    },
    {
     "cell_type": "heading",
     "level": 1,
     "metadata": {},
     "source": [
      "Question 5"
     ]
    },
    {
     "cell_type": "markdown",
     "metadata": {},
     "source": [
      "For pulsar timing observations, astronomers \u201cfold\u201d the data modulo the pulse period.\n",
      "If the number of bins in the pulse profile is such that the pulse fits perfectly into a\n",
      "single bin, then for simple single-peaked pulse profiles, this technique is practically an\n",
      "optimal \u201cmatched-filter\u201d for the signal.\n",
      "1. If we assume a rectangular (i.e. top-hat) pulse shape of width W seconds, measured\n",
      "peak amplitude $T_{peak}$ Kelvin, and spin period P seconds, derive the signalto-\n",
      "noise ratio ($S/N = T_{peak}/\\sigma_{\u001bT}$ ) as a function of the integration time \u001c",
      "$\\tau$ , the\n",
      "observed bandwidth $\\Delta \\nu_{RF}$, W and P. You can assume (as is nearly always true)\n",
      "that $T_{peak} \\ll T_{sys}$.\n",
      "2. For $W \\ll\u001c",
      " P$, how does S/N scale with the pulsar \u201cduty-cycle\u201d, W/P?\n",
      "3. For a few points of extra credit, explain how this applies to pulsar searches,\n",
      "which are conducted in the frequency domain after a Fourier transform (and\n",
      "where we don\u2019t know W and P a priori)."
     ]
    },
    {
     "cell_type": "markdown",
     "metadata": {},
     "source": [
      "Now, during the time of the pulse, the rms noise is given by\n",
      "\u001b$$\\sigma_{pulse} = {T_{sys, pulse} \\over \\sqrt{\\Delta_{RF}W}},$$\n",
      "\n",
      "and during the time of no pulse, the rms noise is given by\n",
      "\u001b$$\\sigma_{baseline} = {T_{sys, baseline} \\over \\sqrt{\\Delta_{RF}(P\u2212W)}},$$\n",
      "\n",
      "where $T_{sys, pulse} \u2212 T_{sys, baseline} = \\sqrt{N}T_{peak}$. Since $T_{peak} \\ll T_{sys}$, we can set the numerators of both the equations equal to $T_{sys}}$.\n",
      " Then, the total noise power is given by:\n",
      "\n",
      "$$\\sigma_{\u001btot} = \\sqrt{\\sigma_{pulse}^2 + \\sigma_{baseline}^2}$$\n",
      "$$= T_{sys} \\sqrt{1/\\Delta_{RF}W + 1/\\Delta_{RF}(P\u2212W) }$$\n",
      "$$= T_{sys} / \\sqrt{\\Delta_{RF}} \\sqrt{P/(W(P-W))},$$\n",
      "\n",
      "and $S/N$ is given by\n",
      "\n",
      "$$S/N = \\sqrt{N} T_{peak} / \\sigma_{tot}$$\n",
      "$$= {T_{peak} \\sqrt{\\Delta_{RF} \\tau} \\over T_{sys} } { \\sqrt{W(P-W)} \\over P} $$"
     ]
    },
    {
     "cell_type": "markdown",
     "metadata": {},
     "source": [
      "For $W \\ll \u001c",
      " P$, $(P \u2212W)/P \\approx 1$, and we get\n",
      "$$ S/N \\propto (W/P)^{\u2212{1 \\over 2}} $$"
     ]
    },
    {
     "cell_type": "markdown",
     "metadata": {},
     "source": [
      "The Fourier transform of a series of periodic pulses consists of peaks at the frequency\n",
      "corresponding to the period, and at that frequency\u2019s harmonics. We can look at the Fourier\n",
      "transform of the time signal, and search for harmonics for pulsar searches."
     ]
    },
    {
     "cell_type": "heading",
     "level": 1,
     "metadata": {},
     "source": [
      "Question 6"
     ]
    },
    {
     "cell_type": "markdown",
     "metadata": {},
     "source": [
      "Measurements of many extragalactic sources have shown that they typically have\n",
      "brightness temperatures of $T_{B} \\approx 10^{11}$ K and $S \\approx 1$ Jy. Approximately what size\n",
      "telescope is needed to resolve these sources?"
     ]
    },
    {
     "cell_type": "code",
     "collapsed": false,
     "input": [
      "T_B = 1e11\n",
      "S_nu = 1 / Jan\n",
      "# I_nu = 2 * k * T_B/lam**2\n",
      "# Omega = pi * theta_S**2/4\n",
      "# assume simply that theta_S = theta_HPBW\n",
      "# theta_HPBW = lam/D\n",
      "# S_nu = I_nu * Omega\n",
      "D = sqrt((pi * k * T_B)/(2* S_nu))\n",
      "print 'Diameter/[km]:',D/1000\n",
      "print 'Earth Diameter/[km]:',12742 "
     ],
     "language": "python",
     "metadata": {},
     "outputs": [
      {
       "output_type": "stream",
       "stream": "stdout",
       "text": [
        "Diameter/[km]: 14723.1074539\n",
        "Earth Diameter/[km]: 12742\n"
       ]
      }
     ],
     "prompt_number": 110
    },
    {
     "cell_type": "markdown",
     "metadata": {},
     "source": [
      "At the end of section Two-Dimensional Aperture Antennas the notes assert without proof that the wavelength $\\lambda_{m}$ at which a\n",
      "reflector telescope has maximum gain is given by $\\lambda_{m} = 4 \\pi \\sigma$\u001b, where \u001b$\\sigma$ is the rms surface\n",
      "error. Derive this equation."
     ]
    }
   ],
   "metadata": {}
  }
 ]
}